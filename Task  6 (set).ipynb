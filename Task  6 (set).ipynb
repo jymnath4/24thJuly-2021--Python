{
 "cells": [
  {
   "cell_type": "code",
   "execution_count": null,
   "id": "804f48ae",
   "metadata": {},
   "outputs": [],
   "source": [
    "#Task"
   ]
  },
  {
   "cell_type": "code",
   "execution_count": null,
   "id": "184222fe",
   "metadata": {},
   "outputs": [],
   "source": [
    "#go through other inbuilt methods like-  "
   ]
  },
  {
   "cell_type": "code",
   "execution_count": null,
   "id": "83f01410",
   "metadata": {},
   "outputs": [],
   "source": [
    "# difference()"
   ]
  },
  {
   "cell_type": "code",
   "execution_count": 78,
   "id": "a9c91f64",
   "metadata": {},
   "outputs": [],
   "source": [
    "set1={1,2,3,4}"
   ]
  },
  {
   "cell_type": "code",
   "execution_count": 79,
   "id": "b1fa6d51",
   "metadata": {},
   "outputs": [],
   "source": [
    "set2={3,4,5,6}"
   ]
  },
  {
   "cell_type": "code",
   "execution_count": 85,
   "id": "2ae93f63",
   "metadata": {},
   "outputs": [
    {
     "data": {
      "text/plain": [
       "{1, 2}"
      ]
     },
     "execution_count": 85,
     "metadata": {},
     "output_type": "execute_result"
    }
   ],
   "source": [
    "set3=set1.difference(set2)\n",
    "set3"
   ]
  },
  {
   "cell_type": "code",
   "execution_count": 86,
   "id": "d1471f8c",
   "metadata": {},
   "outputs": [
    {
     "data": {
      "text/plain": [
       "{5, 6}"
      ]
     },
     "execution_count": 86,
     "metadata": {},
     "output_type": "execute_result"
    }
   ],
   "source": [
    "set3=set2.difference(set1)\n",
    "set3"
   ]
  },
  {
   "cell_type": "code",
   "execution_count": null,
   "id": "3451620a",
   "metadata": {},
   "outputs": [],
   "source": [
    "#symmetric_difference()"
   ]
  },
  {
   "cell_type": "code",
   "execution_count": 94,
   "id": "296bca97",
   "metadata": {},
   "outputs": [],
   "source": [
    "set1={1,2,3,4}"
   ]
  },
  {
   "cell_type": "code",
   "execution_count": 98,
   "id": "0d40234b",
   "metadata": {},
   "outputs": [],
   "source": [
    "set2={3,4,5,6}"
   ]
  },
  {
   "cell_type": "code",
   "execution_count": 99,
   "id": "24d4d909",
   "metadata": {
    "scrolled": true
   },
   "outputs": [
    {
     "data": {
      "text/plain": [
       "{1, 2, 5, 6}"
      ]
     },
     "execution_count": 99,
     "metadata": {},
     "output_type": "execute_result"
    }
   ],
   "source": [
    "set3=set1.symmetric_difference(set2)\n",
    "set3"
   ]
  },
  {
   "cell_type": "code",
   "execution_count": 100,
   "id": "bf9d1dfd",
   "metadata": {},
   "outputs": [
    {
     "data": {
      "text/plain": [
       "{1, 2, 5, 6}"
      ]
     },
     "execution_count": 100,
     "metadata": {},
     "output_type": "execute_result"
    }
   ],
   "source": [
    "set3=set2.symmetric_difference(set1)\n",
    "set3"
   ]
  },
  {
   "cell_type": "code",
   "execution_count": null,
   "id": "6fa32bca",
   "metadata": {},
   "outputs": [],
   "source": [
    "#Practice"
   ]
  },
  {
   "cell_type": "code",
   "execution_count": null,
   "id": "27f3284d",
   "metadata": {},
   "outputs": [],
   "source": [
    "#set"
   ]
  },
  {
   "cell_type": "code",
   "execution_count": 2,
   "id": "a681ac81",
   "metadata": {},
   "outputs": [],
   "source": [
    "set1={1,2,3,'a',4,5,'b'}"
   ]
  },
  {
   "cell_type": "code",
   "execution_count": 3,
   "id": "6d1581d4",
   "metadata": {},
   "outputs": [
    {
     "data": {
      "text/plain": [
       "{1, 2, 3, 4, 5, 'a', 'b'}"
      ]
     },
     "execution_count": 3,
     "metadata": {},
     "output_type": "execute_result"
    }
   ],
   "source": [
    "set1"
   ]
  },
  {
   "cell_type": "code",
   "execution_count": null,
   "id": "d8e3b609",
   "metadata": {},
   "outputs": [],
   "source": [
    "#set doenot contain duplicate values"
   ]
  },
  {
   "cell_type": "code",
   "execution_count": 4,
   "id": "b972e08f",
   "metadata": {},
   "outputs": [],
   "source": [
    "set2={1,2,3,3,4,5,6,5,7,7,7,8}"
   ]
  },
  {
   "cell_type": "code",
   "execution_count": 5,
   "id": "73f2170b",
   "metadata": {},
   "outputs": [
    {
     "data": {
      "text/plain": [
       "{1, 2, 3, 4, 5, 6, 7, 8}"
      ]
     },
     "execution_count": 5,
     "metadata": {},
     "output_type": "execute_result"
    }
   ],
   "source": [
    "set2"
   ]
  },
  {
   "cell_type": "code",
   "execution_count": null,
   "id": "4f4180eb",
   "metadata": {},
   "outputs": [],
   "source": [
    "#Emplty set"
   ]
  },
  {
   "cell_type": "code",
   "execution_count": 33,
   "id": "0d1d8971",
   "metadata": {},
   "outputs": [],
   "source": [
    "a={}"
   ]
  },
  {
   "cell_type": "code",
   "execution_count": 34,
   "id": "34ff53b6",
   "metadata": {},
   "outputs": [
    {
     "data": {
      "text/plain": [
       "dict"
      ]
     },
     "execution_count": 34,
     "metadata": {},
     "output_type": "execute_result"
    }
   ],
   "source": [
    "type(a)"
   ]
  },
  {
   "cell_type": "code",
   "execution_count": 35,
   "id": "87411793",
   "metadata": {},
   "outputs": [
    {
     "ename": "TypeError",
     "evalue": "'dict' object is not callable",
     "output_type": "error",
     "traceback": [
      "\u001b[1;31m---------------------------------------------------------------------------\u001b[0m",
      "\u001b[1;31mTypeError\u001b[0m                                 Traceback (most recent call last)",
      "\u001b[1;32m<ipython-input-35-cb26b6bb976e>\u001b[0m in \u001b[0;36m<module>\u001b[1;34m\u001b[0m\n\u001b[1;32m----> 1\u001b[1;33m \u001b[0ma\u001b[0m\u001b[1;33m=\u001b[0m\u001b[0mset\u001b[0m\u001b[1;33m(\u001b[0m\u001b[1;33m)\u001b[0m\u001b[1;33m\u001b[0m\u001b[1;33m\u001b[0m\u001b[0m\n\u001b[0m",
      "\u001b[1;31mTypeError\u001b[0m: 'dict' object is not callable"
     ]
    }
   ],
   "source": [
    "a=set()"
   ]
  },
  {
   "cell_type": "code",
   "execution_count": null,
   "id": "cef0138d",
   "metadata": {},
   "outputs": [],
   "source": [
    "set1={1,2,3,'a',4,5,'b'}"
   ]
  },
  {
   "cell_type": "code",
   "execution_count": 51,
   "id": "82035d77",
   "metadata": {},
   "outputs": [],
   "source": [
    "set1.clear()"
   ]
  },
  {
   "cell_type": "code",
   "execution_count": 52,
   "id": "9733ac82",
   "metadata": {},
   "outputs": [
    {
     "data": {
      "text/plain": [
       "set()"
      ]
     },
     "execution_count": 52,
     "metadata": {},
     "output_type": "execute_result"
    }
   ],
   "source": [
    "set1"
   ]
  },
  {
   "cell_type": "code",
   "execution_count": null,
   "id": "93255bd7",
   "metadata": {},
   "outputs": [],
   "source": [
    "#additng item (.add)"
   ]
  },
  {
   "cell_type": "code",
   "execution_count": 36,
   "id": "b53e183a",
   "metadata": {},
   "outputs": [],
   "source": [
    "set1={1,2,3,'a',4,5,'b'}"
   ]
  },
  {
   "cell_type": "code",
   "execution_count": 37,
   "id": "5c83464d",
   "metadata": {},
   "outputs": [],
   "source": [
    "set1.add(6)"
   ]
  },
  {
   "cell_type": "code",
   "execution_count": 38,
   "id": "c8ae4da8",
   "metadata": {},
   "outputs": [
    {
     "data": {
      "text/plain": [
       "{1, 2, 3, 4, 5, 6, 'a', 'b'}"
      ]
     },
     "execution_count": 38,
     "metadata": {},
     "output_type": "execute_result"
    }
   ],
   "source": [
    "set1"
   ]
  },
  {
   "cell_type": "code",
   "execution_count": null,
   "id": "71c58653",
   "metadata": {},
   "outputs": [],
   "source": [
    "#additng item (.update)"
   ]
  },
  {
   "cell_type": "code",
   "execution_count": 39,
   "id": "610b376c",
   "metadata": {},
   "outputs": [],
   "source": [
    "set1={1,2,3,'a',4,5,'b'}"
   ]
  },
  {
   "cell_type": "code",
   "execution_count": 43,
   "id": "44d3659f",
   "metadata": {},
   "outputs": [],
   "source": [
    "set1.update([6,7,8,9,'c','d','e'])"
   ]
  },
  {
   "cell_type": "code",
   "execution_count": 44,
   "id": "080bbaf6",
   "metadata": {},
   "outputs": [
    {
     "data": {
      "text/plain": [
       "{1, 2, 3, 4, 5, 6, 7, 8, 9, 'a', 'b', 'c', 'd', 'e'}"
      ]
     },
     "execution_count": 44,
     "metadata": {},
     "output_type": "execute_result"
    }
   ],
   "source": [
    "set1"
   ]
  },
  {
   "cell_type": "code",
   "execution_count": null,
   "id": "d49afa13",
   "metadata": {},
   "outputs": [],
   "source": [
    "#copy set"
   ]
  },
  {
   "cell_type": "code",
   "execution_count": 45,
   "id": "9c49a35b",
   "metadata": {},
   "outputs": [],
   "source": [
    "set1={1,2,3,'a',4,5,'b'}"
   ]
  },
  {
   "cell_type": "code",
   "execution_count": 46,
   "id": "833ef1aa",
   "metadata": {},
   "outputs": [],
   "source": [
    "set1_copy=set1.copy()"
   ]
  },
  {
   "cell_type": "code",
   "execution_count": 47,
   "id": "57e6c1a8",
   "metadata": {},
   "outputs": [
    {
     "data": {
      "text/plain": [
       "{1, 2, 3, 4, 5, 'a', 'b'}"
      ]
     },
     "execution_count": 47,
     "metadata": {},
     "output_type": "execute_result"
    }
   ],
   "source": [
    "set1_copy"
   ]
  },
  {
   "cell_type": "code",
   "execution_count": 48,
   "id": "6ff851cf",
   "metadata": {},
   "outputs": [],
   "source": [
    "set1_copy.add(8)"
   ]
  },
  {
   "cell_type": "code",
   "execution_count": 49,
   "id": "d6eab9af",
   "metadata": {},
   "outputs": [
    {
     "data": {
      "text/plain": [
       "{1, 2, 3, 4, 5, 8, 'a', 'b'}"
      ]
     },
     "execution_count": 49,
     "metadata": {},
     "output_type": "execute_result"
    }
   ],
   "source": [
    "set1_copy"
   ]
  },
  {
   "cell_type": "code",
   "execution_count": 50,
   "id": "47c86f39",
   "metadata": {},
   "outputs": [
    {
     "data": {
      "text/plain": [
       "{1, 2, 3, 4, 5, 'a', 'b'}"
      ]
     },
     "execution_count": 50,
     "metadata": {},
     "output_type": "execute_result"
    }
   ],
   "source": [
    "set1"
   ]
  },
  {
   "cell_type": "code",
   "execution_count": null,
   "id": "fc211552",
   "metadata": {},
   "outputs": [],
   "source": [
    "#To remove items"
   ]
  },
  {
   "cell_type": "code",
   "execution_count": 54,
   "id": "733ba62b",
   "metadata": {},
   "outputs": [],
   "source": [
    "set1={1,2,3,'a',4,5,'b'}"
   ]
  },
  {
   "cell_type": "code",
   "execution_count": null,
   "id": "9e314647",
   "metadata": {},
   "outputs": [],
   "source": [
    "#.remove"
   ]
  },
  {
   "cell_type": "code",
   "execution_count": 55,
   "id": "6d776f47",
   "metadata": {},
   "outputs": [],
   "source": [
    "set1.remove(1)"
   ]
  },
  {
   "cell_type": "code",
   "execution_count": 56,
   "id": "792cdba6",
   "metadata": {},
   "outputs": [
    {
     "data": {
      "text/plain": [
       "{2, 3, 4, 5, 'a', 'b'}"
      ]
     },
     "execution_count": 56,
     "metadata": {},
     "output_type": "execute_result"
    }
   ],
   "source": [
    "set1"
   ]
  },
  {
   "cell_type": "code",
   "execution_count": null,
   "id": "9e5e1045",
   "metadata": {},
   "outputs": [],
   "source": [
    "#.discard (doesnot give error if item not preset in set)"
   ]
  },
  {
   "cell_type": "code",
   "execution_count": 57,
   "id": "05452a1c",
   "metadata": {},
   "outputs": [],
   "source": [
    "set1={1,2,3,'a',4,5,'b'}"
   ]
  },
  {
   "cell_type": "code",
   "execution_count": 59,
   "id": "91611d2f",
   "metadata": {},
   "outputs": [],
   "source": [
    "set1.discard(3)"
   ]
  },
  {
   "cell_type": "code",
   "execution_count": 60,
   "id": "514318cc",
   "metadata": {},
   "outputs": [
    {
     "data": {
      "text/plain": [
       "{1, 2, 4, 5, 'a', 'b'}"
      ]
     },
     "execution_count": 60,
     "metadata": {},
     "output_type": "execute_result"
    }
   ],
   "source": [
    "set1"
   ]
  },
  {
   "cell_type": "code",
   "execution_count": null,
   "id": "da263fa6",
   "metadata": {},
   "outputs": [],
   "source": [
    "#.pop(we donot know what gets deleted)"
   ]
  },
  {
   "cell_type": "code",
   "execution_count": 61,
   "id": "b179d85e",
   "metadata": {},
   "outputs": [],
   "source": [
    "set1={1,2,3,'a',4,5,'b'}"
   ]
  },
  {
   "cell_type": "code",
   "execution_count": 65,
   "id": "f35212f5",
   "metadata": {},
   "outputs": [
    {
     "data": {
      "text/plain": [
       "2"
      ]
     },
     "execution_count": 65,
     "metadata": {},
     "output_type": "execute_result"
    }
   ],
   "source": [
    "set1.pop()"
   ]
  },
  {
   "cell_type": "code",
   "execution_count": 66,
   "id": "6522d9bb",
   "metadata": {},
   "outputs": [
    {
     "data": {
      "text/plain": [
       "{3, 4, 5, 'a', 'b'}"
      ]
     },
     "execution_count": 66,
     "metadata": {},
     "output_type": "execute_result"
    }
   ],
   "source": [
    "set1"
   ]
  },
  {
   "cell_type": "code",
   "execution_count": null,
   "id": "58b1a8b5",
   "metadata": {},
   "outputs": [],
   "source": [
    "#.clear"
   ]
  },
  {
   "cell_type": "code",
   "execution_count": 67,
   "id": "e324f937",
   "metadata": {},
   "outputs": [],
   "source": [
    "set1={1,2,3,'a',4,5,'b'}"
   ]
  },
  {
   "cell_type": "code",
   "execution_count": 68,
   "id": "ed322f1d",
   "metadata": {},
   "outputs": [],
   "source": [
    "set1.clear()"
   ]
  },
  {
   "cell_type": "code",
   "execution_count": 69,
   "id": "15c69823",
   "metadata": {},
   "outputs": [
    {
     "data": {
      "text/plain": [
       "set()"
      ]
     },
     "execution_count": 69,
     "metadata": {},
     "output_type": "execute_result"
    }
   ],
   "source": [
    "set1"
   ]
  },
  {
   "cell_type": "code",
   "execution_count": null,
   "id": "36791a7f",
   "metadata": {},
   "outputs": [],
   "source": [
    "#Inbulit functions"
   ]
  },
  {
   "cell_type": "code",
   "execution_count": null,
   "id": "ef73e6d1",
   "metadata": {},
   "outputs": [],
   "source": [
    "#union"
   ]
  },
  {
   "cell_type": "code",
   "execution_count": 70,
   "id": "6777dd58",
   "metadata": {},
   "outputs": [],
   "source": [
    "set1={1,2,3,'a',4,5,'b'}"
   ]
  },
  {
   "cell_type": "code",
   "execution_count": 71,
   "id": "43d371c1",
   "metadata": {},
   "outputs": [],
   "source": [
    "set2={6,7,8,'c','d','e'}"
   ]
  },
  {
   "cell_type": "code",
   "execution_count": 72,
   "id": "9bb100bf",
   "metadata": {},
   "outputs": [],
   "source": [
    "set3=set1.union(set2)"
   ]
  },
  {
   "cell_type": "code",
   "execution_count": 73,
   "id": "d7a49e78",
   "metadata": {},
   "outputs": [
    {
     "data": {
      "text/plain": [
       "{1, 2, 3, 4, 5, 6, 7, 8, 'a', 'b', 'c', 'd', 'e'}"
      ]
     },
     "execution_count": 73,
     "metadata": {},
     "output_type": "execute_result"
    }
   ],
   "source": [
    "set3"
   ]
  },
  {
   "cell_type": "code",
   "execution_count": null,
   "id": "ae4081ee",
   "metadata": {},
   "outputs": [],
   "source": [
    "#intersection"
   ]
  },
  {
   "cell_type": "code",
   "execution_count": 74,
   "id": "ad8b6109",
   "metadata": {},
   "outputs": [],
   "source": [
    "set1={1,2,3,4,5,6}"
   ]
  },
  {
   "cell_type": "code",
   "execution_count": 75,
   "id": "f209cc56",
   "metadata": {},
   "outputs": [],
   "source": [
    "set2={3,4,5,6,7,8}"
   ]
  },
  {
   "cell_type": "code",
   "execution_count": 76,
   "id": "2ff11184",
   "metadata": {},
   "outputs": [],
   "source": [
    "set3=set1.intersection(set2)"
   ]
  },
  {
   "cell_type": "code",
   "execution_count": 77,
   "id": "19ce4a44",
   "metadata": {},
   "outputs": [
    {
     "data": {
      "text/plain": [
       "{3, 4, 5, 6}"
      ]
     },
     "execution_count": 77,
     "metadata": {},
     "output_type": "execute_result"
    }
   ],
   "source": [
    "set3"
   ]
  },
  {
   "cell_type": "code",
   "execution_count": null,
   "id": "1cf8ac55",
   "metadata": {},
   "outputs": [],
   "source": []
  }
 ],
 "metadata": {
  "kernelspec": {
   "display_name": "Python 3",
   "language": "python",
   "name": "python3"
  },
  "language_info": {
   "codemirror_mode": {
    "name": "ipython",
    "version": 3
   },
   "file_extension": ".py",
   "mimetype": "text/x-python",
   "name": "python",
   "nbconvert_exporter": "python",
   "pygments_lexer": "ipython3",
   "version": "3.8.8"
  }
 },
 "nbformat": 4,
 "nbformat_minor": 5
}
