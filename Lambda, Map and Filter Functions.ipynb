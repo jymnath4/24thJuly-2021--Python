{
 "cells": [
  {
   "cell_type": "code",
   "execution_count": null,
   "id": "82d0961d",
   "metadata": {},
   "outputs": [],
   "source": [
    "#Lambda - is a small anonymus function that can take up any number of aurguments, but can have only one expression and are mostly used with Map and Filter function"
   ]
  },
  {
   "cell_type": "code",
   "execution_count": null,
   "id": "d516ef79",
   "metadata": {},
   "outputs": [],
   "source": [
    "# Syntax\n",
    "# x= lambda arguments : expression"
   ]
  },
  {
   "cell_type": "code",
   "execution_count": null,
   "id": "321baf76",
   "metadata": {},
   "outputs": [],
   "source": [
    "#Squaring a number with one aurgment"
   ]
  },
  {
   "cell_type": "code",
   "execution_count": 1,
   "id": "5660412d",
   "metadata": {},
   "outputs": [
    {
     "data": {
      "text/plain": [
       "81"
      ]
     },
     "execution_count": 1,
     "metadata": {},
     "output_type": "execute_result"
    }
   ],
   "source": [
    "def square (a):\n",
    "    return a**2\n",
    "\n",
    "square(9)"
   ]
  },
  {
   "cell_type": "code",
   "execution_count": 5,
   "id": "597fe682",
   "metadata": {},
   "outputs": [],
   "source": [
    "square = lambda a : a**2 #using lambda"
   ]
  },
  {
   "cell_type": "code",
   "execution_count": 7,
   "id": "b1e8305c",
   "metadata": {},
   "outputs": [
    {
     "data": {
      "text/plain": [
       "25"
      ]
     },
     "execution_count": 7,
     "metadata": {},
     "output_type": "execute_result"
    }
   ],
   "source": [
    "square(5)"
   ]
  },
  {
   "cell_type": "code",
   "execution_count": 8,
   "id": "d5e3c3c5",
   "metadata": {},
   "outputs": [],
   "source": [
    "#addings 3 numbers"
   ]
  },
  {
   "cell_type": "code",
   "execution_count": 10,
   "id": "662a3850",
   "metadata": {},
   "outputs": [
    {
     "data": {
      "text/plain": [
       "6"
      ]
     },
     "execution_count": 10,
     "metadata": {},
     "output_type": "execute_result"
    }
   ],
   "source": [
    "def add (x=0,y=0,z=0):\n",
    "    return x+y+z\n",
    "\n",
    "add(1,2,3)"
   ]
  },
  {
   "cell_type": "code",
   "execution_count": 14,
   "id": "38477170",
   "metadata": {},
   "outputs": [],
   "source": [
    "add = lambda x=0,y=0,z=0 : x+y+z"
   ]
  },
  {
   "cell_type": "code",
   "execution_count": 16,
   "id": "756c6ff6",
   "metadata": {},
   "outputs": [
    {
     "data": {
      "text/plain": [
       "6"
      ]
     },
     "execution_count": 16,
     "metadata": {},
     "output_type": "execute_result"
    }
   ],
   "source": [
    "add(1,2,3)"
   ]
  },
  {
   "cell_type": "code",
   "execution_count": null,
   "id": "4dfcc921",
   "metadata": {},
   "outputs": [],
   "source": [
    "#Map Function\n",
    "#Syntax\n",
    "#map(function.sequence)"
   ]
  },
  {
   "cell_type": "code",
   "execution_count": 28,
   "id": "17b81b66",
   "metadata": {},
   "outputs": [],
   "source": [
    "a= range(10)"
   ]
  },
  {
   "cell_type": "code",
   "execution_count": 29,
   "id": "3e942328",
   "metadata": {},
   "outputs": [],
   "source": [
    "def square(x):\n",
    "    return x**2"
   ]
  },
  {
   "cell_type": "code",
   "execution_count": 30,
   "id": "874f781b",
   "metadata": {},
   "outputs": [
    {
     "data": {
      "text/plain": [
       "<map at 0x1b100fe9100>"
      ]
     },
     "execution_count": 30,
     "metadata": {},
     "output_type": "execute_result"
    }
   ],
   "source": [
    "map(square,a) # Map is used to link to sequence 'a' and function 'square'"
   ]
  },
  {
   "cell_type": "code",
   "execution_count": 31,
   "id": "142d9d4b",
   "metadata": {},
   "outputs": [
    {
     "name": "stdout",
     "output_type": "stream",
     "text": [
      "0\n",
      "1\n",
      "4\n",
      "9\n",
      "16\n",
      "25\n",
      "36\n",
      "49\n",
      "64\n",
      "81\n"
     ]
    }
   ],
   "source": [
    "for i in map(square,a):\n",
    "    print(i)"
   ]
  },
  {
   "cell_type": "code",
   "execution_count": 32,
   "id": "1a22b8e8",
   "metadata": {},
   "outputs": [
    {
     "data": {
      "text/plain": [
       "[0, 1, 4, 9, 16, 25, 36, 49, 64, 81]"
      ]
     },
     "execution_count": 32,
     "metadata": {},
     "output_type": "execute_result"
    }
   ],
   "source": [
    "list(map(square,a))"
   ]
  },
  {
   "cell_type": "code",
   "execution_count": null,
   "id": "ef988fae",
   "metadata": {},
   "outputs": [],
   "source": [
    "#even or odd number"
   ]
  },
  {
   "cell_type": "code",
   "execution_count": 39,
   "id": "4ca5ba42",
   "metadata": {},
   "outputs": [],
   "source": [
    "b= range (1,20)"
   ]
  },
  {
   "cell_type": "code",
   "execution_count": 40,
   "id": "89290218",
   "metadata": {},
   "outputs": [],
   "source": [
    "def odd_even (x):\n",
    "    if x%2==0:\n",
    "        return ('Even')\n",
    "    if x%2 != 0:\n",
    "        return ('Odd')"
   ]
  },
  {
   "cell_type": "code",
   "execution_count": 41,
   "id": "db5c3e2e",
   "metadata": {},
   "outputs": [
    {
     "data": {
      "text/plain": [
       "<map at 0x1b100fe9b20>"
      ]
     },
     "execution_count": 41,
     "metadata": {},
     "output_type": "execute_result"
    }
   ],
   "source": [
    "map(odd_even,b)"
   ]
  },
  {
   "cell_type": "code",
   "execution_count": 42,
   "id": "d4fe7f24",
   "metadata": {},
   "outputs": [
    {
     "name": "stdout",
     "output_type": "stream",
     "text": [
      "Odd\n",
      "Even\n",
      "Odd\n",
      "Even\n",
      "Odd\n",
      "Even\n",
      "Odd\n",
      "Even\n",
      "Odd\n",
      "Even\n",
      "Odd\n",
      "Even\n",
      "Odd\n",
      "Even\n",
      "Odd\n",
      "Even\n",
      "Odd\n",
      "Even\n",
      "Odd\n"
     ]
    }
   ],
   "source": [
    "for i in map(odd_even,b):\n",
    "    print(i)"
   ]
  },
  {
   "cell_type": "code",
   "execution_count": 43,
   "id": "feef2aac",
   "metadata": {},
   "outputs": [
    {
     "data": {
      "text/plain": [
       "['Odd',\n",
       " 'Even',\n",
       " 'Odd',\n",
       " 'Even',\n",
       " 'Odd',\n",
       " 'Even',\n",
       " 'Odd',\n",
       " 'Even',\n",
       " 'Odd',\n",
       " 'Even',\n",
       " 'Odd',\n",
       " 'Even',\n",
       " 'Odd',\n",
       " 'Even',\n",
       " 'Odd',\n",
       " 'Even',\n",
       " 'Odd',\n",
       " 'Even',\n",
       " 'Odd']"
      ]
     },
     "execution_count": 43,
     "metadata": {},
     "output_type": "execute_result"
    }
   ],
   "source": [
    "list(map(odd_even,b))"
   ]
  },
  {
   "cell_type": "code",
   "execution_count": null,
   "id": "9116f0b5",
   "metadata": {},
   "outputs": [],
   "source": [
    "#Filter function\n",
    "#Syntax-\n",
    "#filter(function,squence)"
   ]
  },
  {
   "cell_type": "code",
   "execution_count": 44,
   "id": "a22de248",
   "metadata": {},
   "outputs": [],
   "source": [
    "x= range (1,20)"
   ]
  },
  {
   "cell_type": "code",
   "execution_count": 45,
   "id": "c9d1318f",
   "metadata": {},
   "outputs": [],
   "source": [
    "even= lambda a : a%2 == 0"
   ]
  },
  {
   "cell_type": "code",
   "execution_count": 46,
   "id": "7e2e3966",
   "metadata": {},
   "outputs": [
    {
     "data": {
      "text/plain": [
       "<filter at 0x1b100fe9f40>"
      ]
     },
     "execution_count": 46,
     "metadata": {},
     "output_type": "execute_result"
    }
   ],
   "source": [
    "filter(even,x)"
   ]
  },
  {
   "cell_type": "code",
   "execution_count": 47,
   "id": "04475503",
   "metadata": {},
   "outputs": [
    {
     "name": "stdout",
     "output_type": "stream",
     "text": [
      "2\n",
      "4\n",
      "6\n",
      "8\n",
      "10\n",
      "12\n",
      "14\n",
      "16\n",
      "18\n"
     ]
    }
   ],
   "source": [
    "for i in filter(even,x):\n",
    "    print(i)"
   ]
  },
  {
   "cell_type": "code",
   "execution_count": null,
   "id": "43f3465d",
   "metadata": {},
   "outputs": [],
   "source": [
    "#Lambda with filter"
   ]
  },
  {
   "cell_type": "code",
   "execution_count": 50,
   "id": "8ad7fe35",
   "metadata": {},
   "outputs": [],
   "source": [
    "x= range (1,20)"
   ]
  },
  {
   "cell_type": "code",
   "execution_count": 54,
   "id": "5e721500",
   "metadata": {},
   "outputs": [
    {
     "name": "stdout",
     "output_type": "stream",
     "text": [
      "2\n",
      "4\n",
      "6\n",
      "8\n",
      "10\n",
      "12\n",
      "14\n",
      "16\n",
      "18\n"
     ]
    }
   ],
   "source": [
    "for z in filter(lambda a: a%2==0,x):\n",
    "    print(z)"
   ]
  },
  {
   "cell_type": "code",
   "execution_count": null,
   "id": "f7810c68",
   "metadata": {},
   "outputs": [],
   "source": [
    "#Lambda with map"
   ]
  },
  {
   "cell_type": "code",
   "execution_count": 63,
   "id": "77ceac71",
   "metadata": {},
   "outputs": [],
   "source": [
    "q= range (1,9)"
   ]
  },
  {
   "cell_type": "code",
   "execution_count": 64,
   "id": "efc742d0",
   "metadata": {},
   "outputs": [
    {
     "data": {
      "text/plain": [
       "[1, 4, 9, 16, 25, 36, 49, 64]"
      ]
     },
     "execution_count": 64,
     "metadata": {},
     "output_type": "execute_result"
    }
   ],
   "source": [
    "list(map(lambda x: x**2,q))"
   ]
  },
  {
   "cell_type": "code",
   "execution_count": 68,
   "id": "bed2b745",
   "metadata": {},
   "outputs": [
    {
     "name": "stdout",
     "output_type": "stream",
     "text": [
      "1\n",
      "4\n",
      "9\n",
      "16\n",
      "25\n",
      "36\n",
      "49\n",
      "64\n"
     ]
    }
   ],
   "source": [
    "for x in map(lambda x: x**2,q):\n",
    "    print(x)"
   ]
  },
  {
   "cell_type": "code",
   "execution_count": null,
   "id": "e95db659",
   "metadata": {},
   "outputs": [],
   "source": [
    "# Reduce function-used to apply a particular function passed in its argument to all of the list elements mentioned"
   ]
  },
  {
   "cell_type": "code",
   "execution_count": 2,
   "id": "0939d08c",
   "metadata": {},
   "outputs": [
    {
     "name": "stdout",
     "output_type": "stream",
     "text": [
      "8\n"
     ]
    }
   ],
   "source": [
    "import functools as ft\n",
    "q= range(1,9)\n",
    "print(ft.reduce(lambda x,y: x if x>y else y,q))"
   ]
  },
  {
   "cell_type": "code",
   "execution_count": null,
   "id": "cbb8e863",
   "metadata": {},
   "outputs": [],
   "source": [
    "#Zip function-The zip() function returns a zip object, which is an iterator of tuples where the first item in each passed iterator is paired together, and then the second item in each passed iterator are paired together etc."
   ]
  },
  {
   "cell_type": "code",
   "execution_count": 81,
   "id": "64d40e8c",
   "metadata": {},
   "outputs": [
    {
     "name": "stdout",
     "output_type": "stream",
     "text": [
      "(('John', 'Jenny'), ('Charles', 'Christy'), ('Mike', 'Monica'))\n"
     ]
    }
   ],
   "source": [
    "a = (\"John\", \"Charles\", \"Mike\")\n",
    "b = (\"Jenny\", \"Christy\", \"Monica\")\n",
    "c=zip(a,b)\n",
    "print(tuple(c))"
   ]
  },
  {
   "cell_type": "code",
   "execution_count": null,
   "id": "6d04a24a",
   "metadata": {},
   "outputs": [],
   "source": [
    "#Enumerate() function-The enumerate() function takes a collection (e.g. a tuple) and returns it as an enumerate object.\n",
    "\n",
    "#The enumerate() function adds a counter as the key of the enumerate object."
   ]
  },
  {
   "cell_type": "code",
   "execution_count": 84,
   "id": "d2c75179",
   "metadata": {},
   "outputs": [
    {
     "name": "stdout",
     "output_type": "stream",
     "text": [
      "[(0, 'apple'), (1, 'banana'), (2, 'cherry')]\n"
     ]
    }
   ],
   "source": [
    "x = ('apple', 'banana', 'cherry')\n",
    "y = enumerate(x)\n",
    "print(list(y))"
   ]
  },
  {
   "cell_type": "code",
   "execution_count": null,
   "id": "9618b3cf",
   "metadata": {},
   "outputs": [],
   "source": []
  }
 ],
 "metadata": {
  "kernelspec": {
   "display_name": "Python 3",
   "language": "python",
   "name": "python3"
  },
  "language_info": {
   "codemirror_mode": {
    "name": "ipython",
    "version": 3
   },
   "file_extension": ".py",
   "mimetype": "text/x-python",
   "name": "python",
   "nbconvert_exporter": "python",
   "pygments_lexer": "ipython3",
   "version": "3.8.8"
  }
 },
 "nbformat": 4,
 "nbformat_minor": 5
}
