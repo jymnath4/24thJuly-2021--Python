{
 "cells": [
  {
   "cell_type": "code",
   "execution_count": null,
   "id": "8d1b4909",
   "metadata": {},
   "outputs": [],
   "source": [
    "# Classes\n",
    "# Like every other Object Oriented Programming language Python also supports classes.\n",
    "# Class is like a blueprint or template for creating objects.\n",
    "# class keyword is used to create classes in python\n",
    "#Self: We do not give a value for this parameter when we call the method, Python provides it and it is a reference to the current instance of the class\n",
    "#__init__: it is executed when the class is being instantiated"
   ]
  },
  {
   "cell_type": "code",
   "execution_count": null,
   "id": "bee0cd52",
   "metadata": {},
   "outputs": [],
   "source": [
    "# syntax ---->\n",
    "\n",
    "# class NameOfTheClass:\n",
    "#     var1=''\n",
    "#     var2=''\n",
    "#     def __init__(self,v1,v2,v3):\n",
    "#         self.v1=v1\n",
    "#         self.v2=v2\n",
    "#         self.v3=v3\n",
    "#     ......."
   ]
  },
  {
   "cell_type": "code",
   "execution_count": null,
   "id": "abd1ffaa",
   "metadata": {},
   "outputs": [],
   "source": [
    "#Example 1: of class with init, self"
   ]
  },
  {
   "cell_type": "code",
   "execution_count": 44,
   "id": "57815c0c",
   "metadata": {},
   "outputs": [],
   "source": [
    "class cow: # Cow is the class\n",
    "    # Species and State are the class variables\n",
    "    \n",
    "    species= 'Mammal'\n",
    "    state= 'Assam'\n",
    "     \n",
    "    \n",
    "    def __init__(self,color,age,breed):\n",
    "    #instance variables- will be specific to each object\n",
    "    \n",
    "        self.color=color\n",
    "        self.age=age\n",
    "        self.breed=breed    "
   ]
  },
  {
   "cell_type": "code",
   "execution_count": 45,
   "id": "b85010b6",
   "metadata": {},
   "outputs": [],
   "source": [
    "cow1= cow('brown',4,'jersy')\n",
    "cow2= cow('black',6,'desi')"
   ]
  },
  {
   "cell_type": "code",
   "execution_count": 46,
   "id": "9a645b81",
   "metadata": {},
   "outputs": [
    {
     "data": {
      "text/plain": [
       "'brown'"
      ]
     },
     "execution_count": 46,
     "metadata": {},
     "output_type": "execute_result"
    }
   ],
   "source": [
    "cow1.color"
   ]
  },
  {
   "cell_type": "code",
   "execution_count": 47,
   "id": "4b9721e4",
   "metadata": {},
   "outputs": [
    {
     "data": {
      "text/plain": [
       "'Assam'"
      ]
     },
     "execution_count": 47,
     "metadata": {},
     "output_type": "execute_result"
    }
   ],
   "source": [
    "cow2.state"
   ]
  },
  {
   "cell_type": "code",
   "execution_count": null,
   "id": "897e7ecc",
   "metadata": {},
   "outputs": [],
   "source": [
    "#Example 2"
   ]
  },
  {
   "cell_type": "code",
   "execution_count": 91,
   "id": "02a9a92a",
   "metadata": {},
   "outputs": [],
   "source": [
    "class cat:\n",
    "    paws= '4'\n",
    "    tail= '1'\n",
    "    def __init__(self,color,age,size,fur):\n",
    "        self.color=color\n",
    "        self.age=age\n",
    "        self.size=size\n",
    "        self.fur=fur\n",
    "    def voice(self):\n",
    "        print('Meow Moew I am a {} cat'.format(self.color) ,'\\nMy size is '+self.size)\n",
    "    def eat(self,food):\n",
    "        print('I will eat '+food)\n",
    "    def sleep(self,hours):\n",
    "        print('I have {} paws and my color is {} and I sleep for {} hours'.format(cat.paws,self.color,hours))\n",
    "    "
   ]
  },
  {
   "cell_type": "code",
   "execution_count": 98,
   "id": "6e8f5f00",
   "metadata": {},
   "outputs": [],
   "source": [
    "cat1= cat('black',2,'Small','light')\n",
    "cat2= cat('white',4,'Medium','furry')\n",
    "cat3= cat('persian',6,'Large','heavy')"
   ]
  },
  {
   "cell_type": "code",
   "execution_count": 99,
   "id": "3079c196",
   "metadata": {},
   "outputs": [
    {
     "data": {
      "text/plain": [
       "'4'"
      ]
     },
     "execution_count": 99,
     "metadata": {},
     "output_type": "execute_result"
    }
   ],
   "source": [
    "cat.paws"
   ]
  },
  {
   "cell_type": "code",
   "execution_count": 100,
   "id": "d3ae2b13",
   "metadata": {},
   "outputs": [
    {
     "data": {
      "text/plain": [
       "'Small'"
      ]
     },
     "execution_count": 100,
     "metadata": {},
     "output_type": "execute_result"
    }
   ],
   "source": [
    "cat1.size"
   ]
  },
  {
   "cell_type": "code",
   "execution_count": 101,
   "id": "14731eb8",
   "metadata": {},
   "outputs": [
    {
     "name": "stdout",
     "output_type": "stream",
     "text": [
      "Meow Moew I am a black cat \n",
      "My size is Small\n"
     ]
    }
   ],
   "source": [
    "cat1.voice()"
   ]
  },
  {
   "cell_type": "code",
   "execution_count": 102,
   "id": "b19a5560",
   "metadata": {},
   "outputs": [
    {
     "name": "stdout",
     "output_type": "stream",
     "text": [
      "I will eat you\n"
     ]
    }
   ],
   "source": [
    "cat3.eat('you')"
   ]
  },
  {
   "cell_type": "code",
   "execution_count": 103,
   "id": "961b383e",
   "metadata": {},
   "outputs": [
    {
     "name": "stdout",
     "output_type": "stream",
     "text": [
      "I have 4 paws and my color is persian and I sleep for 4 hours\n"
     ]
    }
   ],
   "source": [
    "cat3.sleep(4)"
   ]
  },
  {
   "cell_type": "code",
   "execution_count": null,
   "id": "cc93cf84",
   "metadata": {},
   "outputs": [],
   "source": [
    "#Example3: Square"
   ]
  },
  {
   "cell_type": "code",
   "execution_count": 123,
   "id": "62dd971f",
   "metadata": {},
   "outputs": [],
   "source": [
    "class Square:\n",
    "    def __init__(self,side):\n",
    "        self.side=side\n",
    "    def perimeter(self):\n",
    "        print('The perimeter of the sqaure with side {} is ='.format(self.side),self.side*4, 'units')\n",
    "    def area(self):\n",
    "        print('The area of the sqaure with side {} is ='.format(self.side),self.side * self.side, 'sq. units')"
   ]
  },
  {
   "cell_type": "code",
   "execution_count": 124,
   "id": "614bb662",
   "metadata": {},
   "outputs": [],
   "source": [
    "square1 = Square(4)\n",
    "square2 = Square(6)\n",
    "square3 = Square(10)"
   ]
  },
  {
   "cell_type": "code",
   "execution_count": 125,
   "id": "e75eb68a",
   "metadata": {},
   "outputs": [
    {
     "name": "stdout",
     "output_type": "stream",
     "text": [
      "The perimeter of the sqaure with side 4 is = 16 units\n"
     ]
    }
   ],
   "source": [
    "square1.perimeter()"
   ]
  },
  {
   "cell_type": "code",
   "execution_count": 126,
   "id": "7751b0c8",
   "metadata": {},
   "outputs": [
    {
     "name": "stdout",
     "output_type": "stream",
     "text": [
      "The area of the sqaure with side 6 is = 36 sq. units\n"
     ]
    }
   ],
   "source": [
    "square2.area()"
   ]
  },
  {
   "cell_type": "code",
   "execution_count": 127,
   "id": "03323a41",
   "metadata": {},
   "outputs": [
    {
     "name": "stdout",
     "output_type": "stream",
     "text": [
      "The perimeter of the sqaure with side 10 is = 40 units\n"
     ]
    }
   ],
   "source": [
    "square3.perimeter()"
   ]
  },
  {
   "cell_type": "code",
   "execution_count": 128,
   "id": "7250c59a",
   "metadata": {},
   "outputs": [
    {
     "name": "stdout",
     "output_type": "stream",
     "text": [
      "The area of the sqaure with side 10 is = 100 sq. units\n"
     ]
    }
   ],
   "source": [
    "square3.area()"
   ]
  },
  {
   "cell_type": "code",
   "execution_count": null,
   "id": "97231058",
   "metadata": {},
   "outputs": [],
   "source": []
  }
 ],
 "metadata": {
  "kernelspec": {
   "display_name": "Python 3",
   "language": "python",
   "name": "python3"
  },
  "language_info": {
   "codemirror_mode": {
    "name": "ipython",
    "version": 3
   },
   "file_extension": ".py",
   "mimetype": "text/x-python",
   "name": "python",
   "nbconvert_exporter": "python",
   "pygments_lexer": "ipython3",
   "version": "3.8.8"
  }
 },
 "nbformat": 4,
 "nbformat_minor": 5
}
