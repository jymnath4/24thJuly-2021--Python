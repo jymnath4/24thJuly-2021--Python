{
 "cells": [
  {
   "cell_type": "code",
   "execution_count": null,
   "id": "ab8f854a",
   "metadata": {},
   "outputs": [],
   "source": [
    "# Continue: skip the conditon output, but continue with the next iteration"
   ]
  },
  {
   "cell_type": "code",
   "execution_count": 4,
   "id": "a0d3d449",
   "metadata": {},
   "outputs": [
    {
     "name": "stdout",
     "output_type": "stream",
     "text": [
      "D\n",
      "a\n",
      "a\n",
      " \n",
      "S\n",
      "c\n",
      "i\n",
      "e\n",
      "n\n",
      "c\n",
      "e\n"
     ]
    }
   ],
   "source": [
    "# First Example with for loop\n",
    "\n",
    "for letter in 'Data Science':\n",
    "   if letter == 't':\n",
    "      continue\n",
    "   print (letter)"
   ]
  },
  {
   "cell_type": "code",
   "execution_count": 17,
   "id": "fce877b1",
   "metadata": {},
   "outputs": [
    {
     "name": "stdout",
     "output_type": "stream",
     "text": [
      "Current variable value : 1\n",
      "Current variable value : 2\n",
      "Current variable value : 3\n",
      "Current variable value : 4\n",
      "Current variable value : 6\n",
      "Current variable value : 7\n",
      "Current variable value : 8\n",
      "Current variable value : 9\n",
      "Current variable value : 10\n",
      "Good Night\n"
     ]
    }
   ],
   "source": [
    "# Second Example with while loop\n",
    "\n",
    "var = 0                    \n",
    "while (var < 10):              \n",
    "   var = var +1\n",
    "   if var == 5:\n",
    "      continue\n",
    "   print ('Current variable value :', var)\n",
    "print (\"Good Night\")"
   ]
  },
  {
   "cell_type": "code",
   "execution_count": null,
   "id": "9365cca6",
   "metadata": {},
   "outputs": [],
   "source": []
  }
 ],
 "metadata": {
  "kernelspec": {
   "display_name": "Python 3",
   "language": "python",
   "name": "python3"
  },
  "language_info": {
   "codemirror_mode": {
    "name": "ipython",
    "version": 3
   },
   "file_extension": ".py",
   "mimetype": "text/x-python",
   "name": "python",
   "nbconvert_exporter": "python",
   "pygments_lexer": "ipython3",
   "version": "3.8.8"
  }
 },
 "nbformat": 4,
 "nbformat_minor": 5
}
