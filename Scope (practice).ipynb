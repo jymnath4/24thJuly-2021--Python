{
 "cells": [
  {
   "cell_type": "code",
   "execution_count": 16,
   "id": "fb264640",
   "metadata": {},
   "outputs": [
    {
     "name": "stdout",
     "output_type": "stream",
     "text": [
      "300\n"
     ]
    }
   ],
   "source": [
    "#Local Scope\n",
    "\n",
    "def func1():\n",
    "    x = 20\n",
    "    print(x)\n",
    "\n",
    "\n",
    "print(x)"
   ]
  },
  {
   "cell_type": "code",
   "execution_count": null,
   "id": "1e7262b0",
   "metadata": {},
   "outputs": [],
   "source": [
    "#Enclosing scope-inner functions can have access to the outer or enclosing function's variables"
   ]
  },
  {
   "cell_type": "code",
   "execution_count": 2,
   "id": "67c43040",
   "metadata": {},
   "outputs": [
    {
     "name": "stdout",
     "output_type": "stream",
     "text": [
      "func1 300\n",
      "func2  300\n"
     ]
    }
   ],
   "source": [
    "def func1():\n",
    "    x = 300\n",
    "    print('func1',x)\n",
    "    def func2():\n",
    "        print('func2',x)\n",
    "    \n",
    "    func2()\n",
    "\n",
    "func1()"
   ]
  },
  {
   "cell_type": "code",
   "execution_count": null,
   "id": "e7a329fc",
   "metadata": {},
   "outputs": [],
   "source": [
    "#Global Scope: variable created in the main body of the Python code is a global variable and belongs to the global scope. Global variables are available from within any scope, global and local."
   ]
  },
  {
   "cell_type": "code",
   "execution_count": 13,
   "id": "66dca0eb",
   "metadata": {},
   "outputs": [
    {
     "name": "stdout",
     "output_type": "stream",
     "text": [
      "Global 300\n",
      "func1: 300\n",
      "func2: 300\n"
     ]
    }
   ],
   "source": [
    "x=300\n",
    "def func1():\n",
    "    print('func1:',x)\n",
    "    def func2():\n",
    "        print('func2:',x)\n",
    "    func2()\n",
    "\n",
    "print('Global',x)\n",
    "    \n",
    "func1()"
   ]
  },
  {
   "cell_type": "code",
   "execution_count": null,
   "id": "760d3091",
   "metadata": {},
   "outputs": [],
   "source": [
    "#How to change global variables inside functions"
   ]
  },
  {
   "cell_type": "code",
   "execution_count": 17,
   "id": "9337b85f",
   "metadata": {},
   "outputs": [
    {
     "name": "stdout",
     "output_type": "stream",
     "text": [
      "local 200\n",
      "global 400\n"
     ]
    }
   ],
   "source": [
    "x=400\n",
    "\n",
    "def fun1():\n",
    "    x=200\n",
    "    print('local',x)\n",
    "fun1()\n",
    "print('global',x)"
   ]
  },
  {
   "cell_type": "code",
   "execution_count": null,
   "id": "67d2265a",
   "metadata": {},
   "outputs": [],
   "source": [
    "#Global Keyword- can define a global scope inside a function"
   ]
  },
  {
   "cell_type": "code",
   "execution_count": 18,
   "id": "a6337315",
   "metadata": {},
   "outputs": [
    {
     "name": "stdout",
     "output_type": "stream",
     "text": [
      "local 200\n",
      "global 200\n"
     ]
    }
   ],
   "source": [
    "def fz1():\n",
    "    global x\n",
    "    x=200\n",
    "    print('local',x)\n",
    "fz1()\n",
    "print('global',x)"
   ]
  },
  {
   "cell_type": "code",
   "execution_count": null,
   "id": "113a6f5d",
   "metadata": {},
   "outputs": [],
   "source": [
    "#Order of execution ---> Local,Enclosing,Global"
   ]
  },
  {
   "cell_type": "code",
   "execution_count": 19,
   "id": "e72a2280",
   "metadata": {},
   "outputs": [
    {
     "name": "stdout",
     "output_type": "stream",
     "text": [
      "f1: 100\n",
      "f2: 10\n",
      "f3 1\n",
      "Global 1000\n"
     ]
    }
   ],
   "source": [
    "z=1000 #global\n",
    "def f1():\n",
    "    z=100 #local\n",
    "    print('f1:',z)\n",
    "    def f2():\n",
    "        z=10 #enclosing\n",
    "        print('f2:',z)\n",
    "        def f3():\n",
    "            z=1 #enclosing\n",
    "            print('f3',z)\n",
    "        f3()\n",
    "    f2()\n",
    "f1()\n",
    "print('Global',z)"
   ]
  },
  {
   "cell_type": "code",
   "execution_count": null,
   "id": "5f5cef91",
   "metadata": {},
   "outputs": [],
   "source": []
  },
  {
   "cell_type": "code",
   "execution_count": null,
   "id": "017d2b4e",
   "metadata": {},
   "outputs": [],
   "source": []
  },
  {
   "cell_type": "code",
   "execution_count": null,
   "id": "03e4ed2b",
   "metadata": {},
   "outputs": [],
   "source": []
  },
  {
   "cell_type": "code",
   "execution_count": null,
   "id": "18189247",
   "metadata": {},
   "outputs": [],
   "source": []
  },
  {
   "cell_type": "code",
   "execution_count": null,
   "id": "991e2d61",
   "metadata": {},
   "outputs": [],
   "source": []
  },
  {
   "cell_type": "code",
   "execution_count": null,
   "id": "fa067d1b",
   "metadata": {},
   "outputs": [],
   "source": []
  }
 ],
 "metadata": {
  "kernelspec": {
   "display_name": "Python 3",
   "language": "python",
   "name": "python3"
  },
  "language_info": {
   "codemirror_mode": {
    "name": "ipython",
    "version": 3
   },
   "file_extension": ".py",
   "mimetype": "text/x-python",
   "name": "python",
   "nbconvert_exporter": "python",
   "pygments_lexer": "ipython3",
   "version": "3.8.8"
  }
 },
 "nbformat": 4,
 "nbformat_minor": 5
}
