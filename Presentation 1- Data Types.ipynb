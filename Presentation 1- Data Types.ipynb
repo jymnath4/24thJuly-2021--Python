{
 "cells": [
  {
   "cell_type": "code",
   "execution_count": null,
   "id": "aa39a6ff",
   "metadata": {},
   "outputs": [],
   "source": [
    "#Presentation 1: Data types"
   ]
  },
  {
   "cell_type": "code",
   "execution_count": null,
   "id": "37bf1e31",
   "metadata": {},
   "outputs": [],
   "source": [
    "#Classification or categorization of data items to represent what operations can be performed on a particular data"
   ]
  },
  {
   "cell_type": "code",
   "execution_count": null,
   "id": "63fd7659",
   "metadata": {},
   "outputs": [],
   "source": [
    "# Name: Integer (includes whole numbers)\n",
    "# Syntax: int(1,2,3)"
   ]
  },
  {
   "cell_type": "code",
   "execution_count": 2,
   "id": "03112178",
   "metadata": {},
   "outputs": [
    {
     "name": "stdout",
     "output_type": "stream",
     "text": [
      "6\n"
     ]
    },
    {
     "data": {
      "text/plain": [
       "int"
      ]
     },
     "execution_count": 2,
     "metadata": {},
     "output_type": "execute_result"
    }
   ],
   "source": [
    "#Exapmle:\n",
    "\n",
    "print(6)\n",
    "type(6)"
   ]
  },
  {
   "cell_type": "code",
   "execution_count": 3,
   "id": "0eee6593",
   "metadata": {},
   "outputs": [
    {
     "name": "stdout",
     "output_type": "stream",
     "text": [
      "-17\n"
     ]
    },
    {
     "data": {
      "text/plain": [
       "int"
      ]
     },
     "execution_count": 3,
     "metadata": {},
     "output_type": "execute_result"
    }
   ],
   "source": [
    "print(-17)\n",
    "type(-17)"
   ]
  },
  {
   "cell_type": "code",
   "execution_count": null,
   "id": "db51b5d7",
   "metadata": {},
   "outputs": [],
   "source": [
    "#Name: Float (includes numbers with a decimal point)\n",
    "#Syntax: float(2.2,4.1)"
   ]
  },
  {
   "cell_type": "code",
   "execution_count": 4,
   "id": "137a1b17",
   "metadata": {},
   "outputs": [
    {
     "name": "stdout",
     "output_type": "stream",
     "text": [
      "2.1\n"
     ]
    },
    {
     "data": {
      "text/plain": [
       "float"
      ]
     },
     "execution_count": 4,
     "metadata": {},
     "output_type": "execute_result"
    }
   ],
   "source": [
    "#Example:\n",
    "\n",
    "print(2.1)\n",
    "type(2.1)"
   ]
  },
  {
   "cell_type": "code",
   "execution_count": null,
   "id": "9c4f3fd8",
   "metadata": {},
   "outputs": [],
   "source": [
    "#Name: Strings (Series of characters enclosed withing single or double quotes and are immutable)\n",
    "# Syntax: str('apple',\"ball\",'cat') (in python''=\"\")"
   ]
  },
  {
   "cell_type": "code",
   "execution_count": 5,
   "id": "5d47b423",
   "metadata": {},
   "outputs": [
    {
     "name": "stdout",
     "output_type": "stream",
     "text": [
      "Hello World\n"
     ]
    },
    {
     "data": {
      "text/plain": [
       "str"
      ]
     },
     "execution_count": 5,
     "metadata": {},
     "output_type": "execute_result"
    }
   ],
   "source": [
    "#Example:\n",
    "\n",
    "print('Hello World')\n",
    "type('hello World')"
   ]
  },
  {
   "cell_type": "code",
   "execution_count": 6,
   "id": "a5f4a551",
   "metadata": {},
   "outputs": [
    {
     "name": "stdout",
     "output_type": "stream",
     "text": [
      "Hello World\n"
     ]
    },
    {
     "data": {
      "text/plain": [
       "str"
      ]
     },
     "execution_count": 6,
     "metadata": {},
     "output_type": "execute_result"
    }
   ],
   "source": [
    "print(\"Hello World\")\n",
    "type(\"hello Worl\")"
   ]
  },
  {
   "cell_type": "code",
   "execution_count": 7,
   "id": "0dafb42e",
   "metadata": {},
   "outputs": [
    {
     "name": "stdout",
     "output_type": "stream",
     "text": [
      "<class 'str'>\n",
      "e\n",
      "d\n"
     ]
    }
   ],
   "source": [
    "a= \"Hello World\" # index of string sequence will start from 0\n",
    "print(type(a))\n",
    "print(a[1]) #fetcheing the letter preset at index 1\n",
    "print(a[-1]) #fetching the letter present at last of te sequence(negative index)"
   ]
  },
  {
   "cell_type": "code",
   "execution_count": null,
   "id": "2389cfdb",
   "metadata": {},
   "outputs": [],
   "source": [
    "#Name: Booleans (logical values indicating true or false)\n",
    "#Syntax: True or False"
   ]
  },
  {
   "cell_type": "code",
   "execution_count": 8,
   "id": "e7e4f6b4",
   "metadata": {},
   "outputs": [
    {
     "data": {
      "text/plain": [
       "bool"
      ]
     },
     "execution_count": 8,
     "metadata": {},
     "output_type": "execute_result"
    }
   ],
   "source": [
    "# Example:\n",
    "\n",
    "a= True\n",
    "type(a)"
   ]
  },
  {
   "cell_type": "code",
   "execution_count": 9,
   "id": "3c61eb35",
   "metadata": {},
   "outputs": [
    {
     "data": {
      "text/plain": [
       "bool"
      ]
     },
     "execution_count": 9,
     "metadata": {},
     "output_type": "execute_result"
    }
   ],
   "source": [
    "b= False\n",
    "type(b)"
   ]
  },
  {
   "cell_type": "code",
   "execution_count": 21,
   "id": "adff5846",
   "metadata": {},
   "outputs": [],
   "source": [
    "#Name: List (Ordered sequence of objects)\n",
    "#Syntax: [1,'hello',2.3]"
   ]
  },
  {
   "cell_type": "code",
   "execution_count": 10,
   "id": "4414371e",
   "metadata": {},
   "outputs": [
    {
     "name": "stdout",
     "output_type": "stream",
     "text": [
      "['hello', 1, 7, 8.9, 'world']\n",
      "<class 'list'>\n"
     ]
    }
   ],
   "source": [
    "#Example:\n",
    "\n",
    "a= ['hello', 1,7,8.9,\"world\"]\n",
    "print(a)\n",
    "print(type(a))"
   ]
  },
  {
   "cell_type": "code",
   "execution_count": 13,
   "id": "1164ef1a",
   "metadata": {},
   "outputs": [
    {
     "data": {
      "text/plain": [
       "'hello'"
      ]
     },
     "execution_count": 13,
     "metadata": {},
     "output_type": "execute_result"
    }
   ],
   "source": [
    "a[0]#item preset at index=0\n",
    "# a[-1]#item present at last index"
   ]
  },
  {
   "cell_type": "code",
   "execution_count": 14,
   "id": "666b25d7",
   "metadata": {},
   "outputs": [
    {
     "data": {
      "text/plain": [
       "[1, 7, 8.9]"
      ]
     },
     "execution_count": 14,
     "metadata": {},
     "output_type": "execute_result"
    }
   ],
   "source": [
    "a[1:4:1]#slicing- fetching the part with start index 1(inclusive):stop index 4(exclisive): and step size as 1 "
   ]
  },
  {
   "cell_type": "code",
   "execution_count": 15,
   "id": "547f661b",
   "metadata": {},
   "outputs": [
    {
     "data": {
      "text/plain": [
       "[99, 1, 7, 8.9, 'world']"
      ]
     },
     "execution_count": 15,
     "metadata": {},
     "output_type": "execute_result"
    }
   ],
   "source": [
    "a[0]=99 # mutable- values can be changed\n",
    "a"
   ]
  },
  {
   "cell_type": "code",
   "execution_count": null,
   "id": "c5200c12",
   "metadata": {},
   "outputs": [],
   "source": [
    "#Name: Dictionaries (written with curly brackets and they have keys and values seperated by commas)\n",
    "#Syntax: {‘key1’:” value1”, ‘key2’: “value2”}"
   ]
  },
  {
   "cell_type": "code",
   "execution_count": 16,
   "id": "5e80cd05",
   "metadata": {},
   "outputs": [
    {
     "data": {
      "text/plain": [
       "{'Name': 'Jyotishman', 'Gradutaion': 'B-Tech'}"
      ]
     },
     "execution_count": 16,
     "metadata": {},
     "output_type": "execute_result"
    }
   ],
   "source": [
    "d= {\n",
    "    'Name':'Jyotishman',\n",
    "   'Gradutaion':'B-Tech'\n",
    "}\n",
    "d"
   ]
  },
  {
   "cell_type": "code",
   "execution_count": 17,
   "id": "6e0ee59b",
   "metadata": {},
   "outputs": [
    {
     "data": {
      "text/plain": [
       "dict"
      ]
     },
     "execution_count": 17,
     "metadata": {},
     "output_type": "execute_result"
    }
   ],
   "source": [
    "type(d)"
   ]
  },
  {
   "cell_type": "code",
   "execution_count": 18,
   "id": "717441e8",
   "metadata": {},
   "outputs": [
    {
     "name": "stdout",
     "output_type": "stream",
     "text": [
      "['Name', 'Gradutaion']\n"
     ]
    }
   ],
   "source": [
    "k=list(d.keys())# view all the keys\n",
    "print(k)"
   ]
  },
  {
   "cell_type": "code",
   "execution_count": 19,
   "id": "5c3433ea",
   "metadata": {},
   "outputs": [
    {
     "name": "stdout",
     "output_type": "stream",
     "text": [
      "['Jyotishman', 'B-Tech']\n"
     ]
    }
   ],
   "source": [
    "v=list(d.values())# view all the values\n",
    "print(v)"
   ]
  },
  {
   "cell_type": "code",
   "execution_count": 20,
   "id": "f95406b2",
   "metadata": {},
   "outputs": [
    {
     "name": "stdout",
     "output_type": "stream",
     "text": [
      "[('Name', 'Jyotishman'), ('Gradutaion', 'B-Tech')]\n"
     ]
    }
   ],
   "source": [
    "i= list(d.items())#fetching all the items\n",
    "print(i)"
   ]
  },
  {
   "cell_type": "code",
   "execution_count": 21,
   "id": "2c45e4be",
   "metadata": {},
   "outputs": [
    {
     "data": {
      "text/plain": [
       "{'Name': 'Jyotishman',\n",
       " 'Gradutaion': 'B-Tech Mechanical and Automation',\n",
       " 'Post Graduation': 'MBA'}"
      ]
     },
     "execution_count": 21,
     "metadata": {},
     "output_type": "execute_result"
    }
   ],
   "source": [
    "d['Gradutaion']= 'B-Tech Mechanical and Automation'#update exisitng value\n",
    "d['Post Graduation']= 'MBA'#add new value\n",
    "d"
   ]
  },
  {
   "cell_type": "code",
   "execution_count": 22,
   "id": "a7692d70",
   "metadata": {},
   "outputs": [],
   "source": [
    "del d['Post Graduation']#deleting key and value"
   ]
  },
  {
   "cell_type": "code",
   "execution_count": 23,
   "id": "7c4d1038",
   "metadata": {},
   "outputs": [
    {
     "data": {
      "text/plain": [
       "{'Name': 'Jyotishman', 'Gradutaion': 'B-Tech Mechanical and Automation'}"
      ]
     },
     "execution_count": 23,
     "metadata": {},
     "output_type": "execute_result"
    }
   ],
   "source": [
    "d"
   ]
  },
  {
   "cell_type": "code",
   "execution_count": null,
   "id": "afad6c2f",
   "metadata": {},
   "outputs": [],
   "source": [
    "#Name: Tuple (written with round bracket and can stire different data types)\n",
    "#Syntax: (1,4.4,True,\"apple\",\"cat\")"
   ]
  },
  {
   "cell_type": "code",
   "execution_count": 24,
   "id": "fe75ea24",
   "metadata": {},
   "outputs": [
    {
     "data": {
      "text/plain": [
       "(1, 2, 9, 6, 8, 4, 2.2, 3.9, 'what', 'are', 'you', 'doing', '?')"
      ]
     },
     "execution_count": 24,
     "metadata": {},
     "output_type": "execute_result"
    }
   ],
   "source": [
    "#Example:\n",
    "\n",
    "tup1=(1, 2, 9, 6, 8, 4, 2.2, 3.9, 'what', 'are', 'you', 'doing', '?')\n",
    "tup1"
   ]
  },
  {
   "cell_type": "code",
   "execution_count": 25,
   "id": "a4b6e952",
   "metadata": {},
   "outputs": [
    {
     "data": {
      "text/plain": [
       "tuple"
      ]
     },
     "execution_count": 25,
     "metadata": {},
     "output_type": "execute_result"
    }
   ],
   "source": [
    "type(tup1)"
   ]
  },
  {
   "cell_type": "code",
   "execution_count": 26,
   "id": "d9f21b01",
   "metadata": {},
   "outputs": [
    {
     "data": {
      "text/plain": [
       "str"
      ]
     },
     "execution_count": 26,
     "metadata": {},
     "output_type": "execute_result"
    }
   ],
   "source": [
    "tup2=(\"hello\")#single element tuple will be considered str\n",
    "type(tup2)"
   ]
  },
  {
   "cell_type": "code",
   "execution_count": 27,
   "id": "539554e9",
   "metadata": {},
   "outputs": [
    {
     "data": {
      "text/plain": [
       "tuple"
      ]
     },
     "execution_count": 27,
     "metadata": {},
     "output_type": "execute_result"
    }
   ],
   "source": [
    "tup2=(\"hello\",)#put coma after element to conver in tuple dtaa type\n",
    "type(tup2)"
   ]
  },
  {
   "cell_type": "code",
   "execution_count": 28,
   "id": "c54cb429",
   "metadata": {},
   "outputs": [
    {
     "name": "stdout",
     "output_type": "stream",
     "text": [
      "True\n",
      "False\n"
     ]
    }
   ],
   "source": [
    "#to check if tuple contains elemnet\n",
    "\n",
    "tup1=(1, 2, 9, 6, 8, 4, 2.2, 3.9, 'what', 'are', 'you', 'doing', '?')\n",
    "\n",
    "print(3.9 in tup1)\n",
    "print('/' in tup1)"
   ]
  },
  {
   "cell_type": "code",
   "execution_count": 29,
   "id": "cd5b2877",
   "metadata": {},
   "outputs": [
    {
     "data": {
      "text/plain": [
       "[1, 2, 9, 6, 8, 4, 2.2, 3.9, 'what', 'are', 'you', 'doing', '?']"
      ]
     },
     "execution_count": 29,
     "metadata": {},
     "output_type": "execute_result"
    }
   ],
   "source": [
    "#Modify values in a tuple by converting into list\n",
    "\n",
    "tup1=(1, 2, 9, 6, 8, 4, 2.2, 3.9, 'what', 'are', 'you', 'doing', '?')\n",
    "\n",
    "list1= list(tup1)#convert tuple into list\n",
    "list1"
   ]
  },
  {
   "cell_type": "code",
   "execution_count": 30,
   "id": "0a7dd28c",
   "metadata": {},
   "outputs": [],
   "source": [
    "list1[8]=\"Fine\"#modify list"
   ]
  },
  {
   "cell_type": "code",
   "execution_count": 31,
   "id": "00c0aa35",
   "metadata": {},
   "outputs": [
    {
     "data": {
      "text/plain": [
       "[1, 2, 9, 6, 8, 4, 2.2, 3.9, 'Fine', 'are', 'you', 'doing', '?']"
      ]
     },
     "execution_count": 31,
     "metadata": {},
     "output_type": "execute_result"
    }
   ],
   "source": [
    "list1"
   ]
  },
  {
   "cell_type": "code",
   "execution_count": 83,
   "id": "f50b1ae9",
   "metadata": {},
   "outputs": [],
   "source": [
    "tup1= tuple(list1)#convert list into tuple"
   ]
  },
  {
   "cell_type": "code",
   "execution_count": 32,
   "id": "766e438b",
   "metadata": {},
   "outputs": [
    {
     "data": {
      "text/plain": [
       "(1, 2, 9, 6, 8, 4, 2.2, 3.9, 'what', 'are', 'you', 'doing', '?')"
      ]
     },
     "execution_count": 32,
     "metadata": {},
     "output_type": "execute_result"
    }
   ],
   "source": [
    "tup1"
   ]
  },
  {
   "cell_type": "code",
   "execution_count": 92,
   "id": "24d24c02",
   "metadata": {},
   "outputs": [
    {
     "data": {
      "text/plain": [
       "(1, 2, 9, 6, 8)"
      ]
     },
     "execution_count": 92,
     "metadata": {},
     "output_type": "execute_result"
    }
   ],
   "source": [
    "tup1[0:5:1]#top 5 emlements"
   ]
  },
  {
   "cell_type": "code",
   "execution_count": 33,
   "id": "f6a3669d",
   "metadata": {},
   "outputs": [
    {
     "data": {
      "text/plain": [
       "('?', 'doing', 'you', 'are', 'what')"
      ]
     },
     "execution_count": 33,
     "metadata": {},
     "output_type": "execute_result"
    }
   ],
   "source": [
    "tup1[:-6:-1]#bottom 5 elements"
   ]
  },
  {
   "cell_type": "code",
   "execution_count": null,
   "id": "0fedeb9d",
   "metadata": {},
   "outputs": [],
   "source": [
    "#Name: Sets (are written with curly brackets and doesnot store duplicate values)\n",
    "#Syntax: {2,3,4.4,True,\"python\"}"
   ]
  },
  {
   "cell_type": "code",
   "execution_count": 35,
   "id": "87216665",
   "metadata": {},
   "outputs": [
    {
     "data": {
      "text/plain": [
       "{1, 2, 3, 4, 5, 'a', 'b'}"
      ]
     },
     "execution_count": 35,
     "metadata": {},
     "output_type": "execute_result"
    }
   ],
   "source": [
    "#Example: \n",
    "\n",
    "set1={1,2,3,'a',4,5,'b'}\n",
    "set1"
   ]
  },
  {
   "cell_type": "code",
   "execution_count": 36,
   "id": "9d5925af",
   "metadata": {},
   "outputs": [
    {
     "data": {
      "text/plain": [
       "set"
      ]
     },
     "execution_count": 36,
     "metadata": {},
     "output_type": "execute_result"
    }
   ],
   "source": [
    "type(set1)"
   ]
  },
  {
   "cell_type": "code",
   "execution_count": 37,
   "id": "789dfd46",
   "metadata": {},
   "outputs": [
    {
     "data": {
      "text/plain": [
       "{1, 2, 3, 4, 5, 6, 7, 8}"
      ]
     },
     "execution_count": 37,
     "metadata": {},
     "output_type": "execute_result"
    }
   ],
   "source": [
    "set2={1,2,3,3,4,5,6,5,7,7,7,8}#set doesnot contain duplicate value\n",
    "set2"
   ]
  },
  {
   "cell_type": "code",
   "execution_count": 38,
   "id": "b79c6254",
   "metadata": {},
   "outputs": [
    {
     "data": {
      "text/plain": [
       "dict"
      ]
     },
     "execution_count": 38,
     "metadata": {},
     "output_type": "execute_result"
    }
   ],
   "source": [
    "#creating an empty set\n",
    "\n",
    "set3= {}\n",
    "type (set3)"
   ]
  },
  {
   "cell_type": "code",
   "execution_count": 39,
   "id": "a09dc117",
   "metadata": {},
   "outputs": [
    {
     "data": {
      "text/plain": [
       "set"
      ]
     },
     "execution_count": 39,
     "metadata": {},
     "output_type": "execute_result"
    }
   ],
   "source": [
    "set3 = set()\n",
    "type(set3)"
   ]
  },
  {
   "cell_type": "code",
   "execution_count": 43,
   "id": "c23117c3",
   "metadata": {},
   "outputs": [
    {
     "data": {
      "text/plain": [
       "set()"
      ]
     },
     "execution_count": 43,
     "metadata": {},
     "output_type": "execute_result"
    }
   ],
   "source": [
    "#empty set using clear\n",
    "\n",
    "set1={1,2,3,'a',4,5,'b'}\n",
    "set1.clear()\n",
    "set1"
   ]
  },
  {
   "cell_type": "code",
   "execution_count": 44,
   "id": "b10baf07",
   "metadata": {},
   "outputs": [
    {
     "data": {
      "text/plain": [
       "{1, 2, 3, 4, 5, 6, 'a', 'b'}"
      ]
     },
     "execution_count": 44,
     "metadata": {},
     "output_type": "execute_result"
    }
   ],
   "source": [
    "#adding item (add and update)\n",
    "\n",
    "set1={1,2,3,'a',4,5,'b'}\n",
    "set1.add(6)\n",
    "set1"
   ]
  },
  {
   "cell_type": "code",
   "execution_count": 45,
   "id": "25d7f47f",
   "metadata": {},
   "outputs": [
    {
     "data": {
      "text/plain": [
       "{1, 2, 3, 4, 5, 6, 7, 8, 9, 'a', 'b', 'c', 'd', 'e'}"
      ]
     },
     "execution_count": 45,
     "metadata": {},
     "output_type": "execute_result"
    }
   ],
   "source": [
    "set1={1,2,3,'a',4,5,'b'}\n",
    "set1.update([6,7,8,9,'c','d','e'])\n",
    "set1"
   ]
  },
  {
   "cell_type": "code",
   "execution_count": 46,
   "id": "8ea06492",
   "metadata": {},
   "outputs": [
    {
     "data": {
      "text/plain": [
       "{1, 2, 3, 4, 5, 'a', 'b'}"
      ]
     },
     "execution_count": 46,
     "metadata": {},
     "output_type": "execute_result"
    }
   ],
   "source": [
    "#copy set (.copy)\n",
    "\n",
    "set1={1,2,3,'a',4,5,'b'}\n",
    "set1_copy=set1.copy()\n",
    "set1_copy"
   ]
  },
  {
   "cell_type": "code",
   "execution_count": 47,
   "id": "89c29a51",
   "metadata": {},
   "outputs": [
    {
     "data": {
      "text/plain": [
       "{2, 3, 4, 5, 'a', 'b'}"
      ]
     },
     "execution_count": 47,
     "metadata": {},
     "output_type": "execute_result"
    }
   ],
   "source": [
    "#To remove items\n",
    "\n",
    "set1={1,2,3,'a',4,5,'b'}\n",
    "set1.remove(1)#using .remove\n",
    "set1"
   ]
  },
  {
   "cell_type": "code",
   "execution_count": 48,
   "id": "c00c4f6c",
   "metadata": {},
   "outputs": [
    {
     "data": {
      "text/plain": [
       "{1, 2, 4, 5, 'a', 'b'}"
      ]
     },
     "execution_count": 48,
     "metadata": {},
     "output_type": "execute_result"
    }
   ],
   "source": [
    "#using .discard (doesnot give error if item not preset in set)\n",
    "\n",
    "set1={1,2,3,'a',4,5,'b'}\n",
    "set1.discard(3)\n",
    "set1"
   ]
  },
  {
   "cell_type": "code",
   "execution_count": 49,
   "id": "da9dccca",
   "metadata": {},
   "outputs": [
    {
     "data": {
      "text/plain": [
       "{2, 3, 4, 5, 'a', 'b'}"
      ]
     },
     "execution_count": 49,
     "metadata": {},
     "output_type": "execute_result"
    }
   ],
   "source": [
    "##.pop(we donot know what gets deleted)\n",
    "\n",
    "set1={1,2,3,'a',4,5,'b'}\n",
    "set1.pop()\n",
    "set1"
   ]
  },
  {
   "cell_type": "code",
   "execution_count": 50,
   "id": "3c8f5965",
   "metadata": {},
   "outputs": [
    {
     "data": {
      "text/plain": [
       "{3, 4, 5, 'a', 'b'}"
      ]
     },
     "execution_count": 50,
     "metadata": {},
     "output_type": "execute_result"
    }
   ],
   "source": [
    "set1.pop()\n",
    "set1"
   ]
  },
  {
   "cell_type": "code",
   "execution_count": null,
   "id": "d44bad2b",
   "metadata": {},
   "outputs": [],
   "source": []
  }
 ],
 "metadata": {
  "kernelspec": {
   "display_name": "Python 3",
   "language": "python",
   "name": "python3"
  },
  "language_info": {
   "codemirror_mode": {
    "name": "ipython",
    "version": 3
   },
   "file_extension": ".py",
   "mimetype": "text/x-python",
   "name": "python",
   "nbconvert_exporter": "python",
   "pygments_lexer": "ipython3",
   "version": "3.8.8"
  }
 },
 "nbformat": 4,
 "nbformat_minor": 5
}
