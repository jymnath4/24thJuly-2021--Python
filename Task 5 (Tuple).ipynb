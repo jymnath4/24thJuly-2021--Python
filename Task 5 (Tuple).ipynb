{
 "cells": [
  {
   "cell_type": "code",
   "execution_count": null,
   "id": "cef273ac",
   "metadata": {},
   "outputs": [],
   "source": [
    "#Add and remove the elements from a tuple"
   ]
  },
  {
   "cell_type": "code",
   "execution_count": null,
   "id": "c7090f69",
   "metadata": {},
   "outputs": [],
   "source": [
    "#Joining Tuple"
   ]
  },
  {
   "cell_type": "code",
   "execution_count": 30,
   "id": "c96c8f1e",
   "metadata": {},
   "outputs": [],
   "source": [
    "Tup1=(1,2,9,6,8,4,2.2,3.9)"
   ]
  },
  {
   "cell_type": "code",
   "execution_count": 34,
   "id": "370bd513",
   "metadata": {},
   "outputs": [],
   "source": [
    "Tup2=('what','are','you','doing','?')"
   ]
  },
  {
   "cell_type": "code",
   "execution_count": 35,
   "id": "0d56601e",
   "metadata": {},
   "outputs": [],
   "source": [
    "#Adding elemnt"
   ]
  },
  {
   "cell_type": "code",
   "execution_count": 36,
   "id": "29512817",
   "metadata": {},
   "outputs": [
    {
     "name": "stdout",
     "output_type": "stream",
     "text": [
      "(1, 2, 9, 6, 8, 4, 2.2, 3.9, 'what', 'are', 'you', 'doing', '?')\n"
     ]
    }
   ],
   "source": [
    "Tup3=Tup1+Tup2\n",
    "print(Tup3)"
   ]
  },
  {
   "cell_type": "code",
   "execution_count": null,
   "id": "724e4670",
   "metadata": {},
   "outputs": [],
   "source": [
    "#Check if item present in Tuple"
   ]
  },
  {
   "cell_type": "code",
   "execution_count": 1,
   "id": "e69f15b5",
   "metadata": {},
   "outputs": [],
   "source": [
    "tup1=(1, 2, 9, 6, 8, 4, 2.2, 3.9, 'what', 'are', 'you', 'doing', '?')"
   ]
  },
  {
   "cell_type": "code",
   "execution_count": 2,
   "id": "630032ff",
   "metadata": {},
   "outputs": [
    {
     "name": "stdout",
     "output_type": "stream",
     "text": [
      "True\n"
     ]
    }
   ],
   "source": [
    "print(1 in tup1)"
   ]
  },
  {
   "cell_type": "code",
   "execution_count": 4,
   "id": "b7f0e1c3",
   "metadata": {},
   "outputs": [
    {
     "name": "stdout",
     "output_type": "stream",
     "text": [
      "True\n"
     ]
    }
   ],
   "source": [
    "print('what' in tup1)"
   ]
  },
  {
   "cell_type": "code",
   "execution_count": 5,
   "id": "e24bf7ec",
   "metadata": {},
   "outputs": [
    {
     "name": "stdout",
     "output_type": "stream",
     "text": [
      "False\n"
     ]
    }
   ],
   "source": [
    "print('why' in tup1)"
   ]
  },
  {
   "cell_type": "code",
   "execution_count": null,
   "id": "58f34d65",
   "metadata": {},
   "outputs": [],
   "source": [
    "#Modify values in a tuple (by converting into list)"
   ]
  },
  {
   "cell_type": "code",
   "execution_count": 15,
   "id": "6cb9b4db",
   "metadata": {},
   "outputs": [],
   "source": [
    "#orirginal tuple\n",
    "tup1=(1,2,3,3,4,5,6)"
   ]
  },
  {
   "cell_type": "code",
   "execution_count": 16,
   "id": "ada51180",
   "metadata": {},
   "outputs": [],
   "source": [
    "list1=list(tup1)"
   ]
  },
  {
   "cell_type": "code",
   "execution_count": 17,
   "id": "e5df8f83",
   "metadata": {},
   "outputs": [
    {
     "data": {
      "text/plain": [
       "[1, 2, 3, 3, 4, 5, 6]"
      ]
     },
     "execution_count": 17,
     "metadata": {},
     "output_type": "execute_result"
    }
   ],
   "source": [
    "list1"
   ]
  },
  {
   "cell_type": "code",
   "execution_count": 18,
   "id": "295b2886",
   "metadata": {},
   "outputs": [],
   "source": [
    "list1[3]=100"
   ]
  },
  {
   "cell_type": "code",
   "execution_count": 19,
   "id": "df998d6e",
   "metadata": {},
   "outputs": [
    {
     "data": {
      "text/plain": [
       "[1, 2, 3, 100, 4, 5, 6]"
      ]
     },
     "execution_count": 19,
     "metadata": {},
     "output_type": "execute_result"
    }
   ],
   "source": [
    "list1"
   ]
  },
  {
   "cell_type": "code",
   "execution_count": 20,
   "id": "76b4686e",
   "metadata": {},
   "outputs": [],
   "source": [
    "tup1=tuple(list1)"
   ]
  },
  {
   "cell_type": "code",
   "execution_count": 21,
   "id": "3ecd737b",
   "metadata": {
    "scrolled": true
   },
   "outputs": [
    {
     "data": {
      "text/plain": [
       "(1, 2, 3, 100, 4, 5, 6)"
      ]
     },
     "execution_count": 21,
     "metadata": {},
     "output_type": "execute_result"
    }
   ],
   "source": [
    "tup1"
   ]
  },
  {
   "cell_type": "code",
   "execution_count": null,
   "id": "b962db16",
   "metadata": {},
   "outputs": [],
   "source": [
    "#remove value from tuple(.pop)"
   ]
  },
  {
   "cell_type": "code",
   "execution_count": 22,
   "id": "0a0e4823",
   "metadata": {},
   "outputs": [],
   "source": [
    "tup1=(1,2,3,3,4,5,6)"
   ]
  },
  {
   "cell_type": "code",
   "execution_count": 24,
   "id": "6c76ebff",
   "metadata": {},
   "outputs": [],
   "source": [
    "list1=list(tup1)"
   ]
  },
  {
   "cell_type": "code",
   "execution_count": 25,
   "id": "2f739f45",
   "metadata": {},
   "outputs": [
    {
     "data": {
      "text/plain": [
       "[1, 2, 3, 3, 4, 5, 6]"
      ]
     },
     "execution_count": 25,
     "metadata": {},
     "output_type": "execute_result"
    }
   ],
   "source": [
    "list1"
   ]
  },
  {
   "cell_type": "code",
   "execution_count": 26,
   "id": "83751260",
   "metadata": {},
   "outputs": [],
   "source": [
    "a=list1.pop(3)"
   ]
  },
  {
   "cell_type": "code",
   "execution_count": 27,
   "id": "38362660",
   "metadata": {},
   "outputs": [
    {
     "data": {
      "text/plain": [
       "3"
      ]
     },
     "execution_count": 27,
     "metadata": {},
     "output_type": "execute_result"
    }
   ],
   "source": [
    "a"
   ]
  },
  {
   "cell_type": "code",
   "execution_count": 28,
   "id": "09168069",
   "metadata": {},
   "outputs": [
    {
     "data": {
      "text/plain": [
       "[1, 2, 3, 4, 5, 6]"
      ]
     },
     "execution_count": 28,
     "metadata": {},
     "output_type": "execute_result"
    }
   ],
   "source": [
    "list1"
   ]
  },
  {
   "cell_type": "code",
   "execution_count": 29,
   "id": "57e09581",
   "metadata": {},
   "outputs": [],
   "source": [
    "tup1=tuple(list1)"
   ]
  },
  {
   "cell_type": "code",
   "execution_count": 30,
   "id": "04eb5cd9",
   "metadata": {},
   "outputs": [
    {
     "data": {
      "text/plain": [
       "(1, 2, 3, 4, 5, 6)"
      ]
     },
     "execution_count": 30,
     "metadata": {},
     "output_type": "execute_result"
    }
   ],
   "source": [
    "tup1"
   ]
  },
  {
   "cell_type": "code",
   "execution_count": null,
   "id": "f8a0194e",
   "metadata": {},
   "outputs": [],
   "source": [
    "#Indexing and Sclicing (obj_name[start:stop:step])"
   ]
  },
  {
   "cell_type": "code",
   "execution_count": 31,
   "id": "021d4a62",
   "metadata": {},
   "outputs": [],
   "source": [
    "tup1=(1,2,3,3,4,5,6)"
   ]
  },
  {
   "cell_type": "code",
   "execution_count": 33,
   "id": "8a2ce5c4",
   "metadata": {},
   "outputs": [
    {
     "data": {
      "text/plain": [
       "1"
      ]
     },
     "execution_count": 33,
     "metadata": {},
     "output_type": "execute_result"
    }
   ],
   "source": [
    "#To get the first element\n",
    "tup1[0]"
   ]
  },
  {
   "cell_type": "code",
   "execution_count": 35,
   "id": "e3f14dc5",
   "metadata": {},
   "outputs": [
    {
     "data": {
      "text/plain": [
       "3"
      ]
     },
     "execution_count": 35,
     "metadata": {},
     "output_type": "execute_result"
    }
   ],
   "source": [
    "#To get the 3rd element\n",
    "tup1[2]"
   ]
  },
  {
   "cell_type": "code",
   "execution_count": 36,
   "id": "c0af5729",
   "metadata": {},
   "outputs": [
    {
     "data": {
      "text/plain": [
       "6"
      ]
     },
     "execution_count": 36,
     "metadata": {},
     "output_type": "execute_result"
    }
   ],
   "source": [
    "#To get the last emlement\n",
    "tup1[-1]"
   ]
  },
  {
   "cell_type": "code",
   "execution_count": 37,
   "id": "374bb041",
   "metadata": {},
   "outputs": [
    {
     "data": {
      "text/plain": [
       "5"
      ]
     },
     "execution_count": 37,
     "metadata": {},
     "output_type": "execute_result"
    }
   ],
   "source": [
    "#to get the 2nd last element\n",
    "tup1[-2]"
   ]
  },
  {
   "cell_type": "code",
   "execution_count": null,
   "id": "97257233",
   "metadata": {},
   "outputs": [],
   "source": [
    "#slicing\n",
    "#to get first 5 elements"
   ]
  },
  {
   "cell_type": "code",
   "execution_count": 38,
   "id": "ed96c867",
   "metadata": {},
   "outputs": [
    {
     "data": {
      "text/plain": [
       "(1, 2, 3, 3, 4)"
      ]
     },
     "execution_count": 38,
     "metadata": {},
     "output_type": "execute_result"
    }
   ],
   "source": [
    "tup1[0:5:1]"
   ]
  },
  {
   "cell_type": "code",
   "execution_count": 40,
   "id": "51059bc5",
   "metadata": {},
   "outputs": [
    {
     "data": {
      "text/plain": [
       "(1, 2, 3, 3, 4)"
      ]
     },
     "execution_count": 40,
     "metadata": {},
     "output_type": "execute_result"
    }
   ],
   "source": [
    "tup1[:5]"
   ]
  },
  {
   "cell_type": "code",
   "execution_count": 43,
   "id": "4578315e",
   "metadata": {},
   "outputs": [
    {
     "data": {
      "text/plain": [
       "(4, 5, 6)"
      ]
     },
     "execution_count": 43,
     "metadata": {},
     "output_type": "execute_result"
    }
   ],
   "source": [
    "tup1[-3:]"
   ]
  },
  {
   "cell_type": "code",
   "execution_count": 45,
   "id": "1879af5b",
   "metadata": {},
   "outputs": [
    {
     "data": {
      "text/plain": [
       "(1, 3, 4, 6)"
      ]
     },
     "execution_count": 45,
     "metadata": {},
     "output_type": "execute_result"
    }
   ],
   "source": [
    "tup1[::2]"
   ]
  },
  {
   "cell_type": "code",
   "execution_count": null,
   "id": "1eac71ef",
   "metadata": {},
   "outputs": [],
   "source": [
    "#to create a tuple with one element make use of comma(,) after the value"
   ]
  },
  {
   "cell_type": "code",
   "execution_count": 46,
   "id": "a4a41623",
   "metadata": {},
   "outputs": [],
   "source": [
    "tup1=('python')"
   ]
  },
  {
   "cell_type": "code",
   "execution_count": 47,
   "id": "194eec53",
   "metadata": {},
   "outputs": [
    {
     "data": {
      "text/plain": [
       "str"
      ]
     },
     "execution_count": 47,
     "metadata": {},
     "output_type": "execute_result"
    }
   ],
   "source": [
    "type(tup1)"
   ]
  },
  {
   "cell_type": "code",
   "execution_count": 48,
   "id": "1d5558fe",
   "metadata": {},
   "outputs": [],
   "source": [
    "tup1=('python',)"
   ]
  },
  {
   "cell_type": "code",
   "execution_count": 49,
   "id": "65d3e941",
   "metadata": {},
   "outputs": [
    {
     "data": {
      "text/plain": [
       "tuple"
      ]
     },
     "execution_count": 49,
     "metadata": {},
     "output_type": "execute_result"
    }
   ],
   "source": [
    "type(tup1)"
   ]
  },
  {
   "cell_type": "code",
   "execution_count": 50,
   "id": "f8b8004d",
   "metadata": {},
   "outputs": [
    {
     "data": {
      "text/plain": [
       "1"
      ]
     },
     "execution_count": 50,
     "metadata": {},
     "output_type": "execute_result"
    }
   ],
   "source": [
    "len(tup1)"
   ]
  },
  {
   "cell_type": "code",
   "execution_count": 51,
   "id": "bab0e054",
   "metadata": {},
   "outputs": [],
   "source": [
    "tup1=(1,2,3,3,4,5,6)"
   ]
  },
  {
   "cell_type": "code",
   "execution_count": 52,
   "id": "550b7a4e",
   "metadata": {},
   "outputs": [
    {
     "data": {
      "text/plain": [
       "7"
      ]
     },
     "execution_count": 52,
     "metadata": {},
     "output_type": "execute_result"
    }
   ],
   "source": [
    "len(tup1)"
   ]
  },
  {
   "cell_type": "code",
   "execution_count": null,
   "id": "9917a5d6",
   "metadata": {},
   "outputs": [],
   "source": []
  }
 ],
 "metadata": {
  "kernelspec": {
   "display_name": "Python 3",
   "language": "python",
   "name": "python3"
  },
  "language_info": {
   "codemirror_mode": {
    "name": "ipython",
    "version": 3
   },
   "file_extension": ".py",
   "mimetype": "text/x-python",
   "name": "python",
   "nbconvert_exporter": "python",
   "pygments_lexer": "ipython3",
   "version": "3.8.8"
  }
 },
 "nbformat": 4,
 "nbformat_minor": 5
}
