{
 "cells": [
  {
   "cell_type": "code",
   "execution_count": null,
   "id": "3eefee95",
   "metadata": {},
   "outputs": [],
   "source": [
    "#List Comprehensions\n",
    "#In addition to sequence operations and list methods, Python includes a more advanced operation called a list comprehension.\n",
    "\n",
    "#It's just another way of creating the lists\n",
    "\n",
    "#syntax ##### my_list = [item for item in sequence]"
   ]
  },
  {
   "cell_type": "code",
   "execution_count": 1,
   "id": "52b4a782",
   "metadata": {},
   "outputs": [],
   "source": [
    "x= \"Mr. Rajkumar Sethia\""
   ]
  },
  {
   "cell_type": "code",
   "execution_count": 2,
   "id": "40e7b8a2",
   "metadata": {},
   "outputs": [],
   "source": [
    "x_list = []"
   ]
  },
  {
   "cell_type": "code",
   "execution_count": 3,
   "id": "ca5b7e99",
   "metadata": {},
   "outputs": [
    {
     "name": "stdout",
     "output_type": "stream",
     "text": [
      "M\n",
      "r\n",
      ".\n",
      " \n",
      "R\n",
      "a\n",
      "j\n",
      "k\n",
      "u\n",
      "m\n",
      "a\n",
      "r\n",
      " \n",
      "S\n",
      "e\n",
      "t\n",
      "h\n",
      "i\n",
      "a\n"
     ]
    }
   ],
   "source": [
    "for i in x:\n",
    "    x_list.append(i)\n",
    "    print(i)"
   ]
  },
  {
   "cell_type": "code",
   "execution_count": 4,
   "id": "749d880b",
   "metadata": {},
   "outputs": [],
   "source": [
    "#using list comprehension"
   ]
  },
  {
   "cell_type": "code",
   "execution_count": 6,
   "id": "a958a4cd",
   "metadata": {},
   "outputs": [],
   "source": [
    "a= \"Mr. Rajkumar Sethia\""
   ]
  },
  {
   "cell_type": "code",
   "execution_count": 7,
   "id": "1fee3874",
   "metadata": {},
   "outputs": [
    {
     "name": "stdout",
     "output_type": "stream",
     "text": [
      "['M', 'r', '.', ' ', 'R', 'a', 'j', 'k', 'u', 'm', 'a', 'r', ' ', 'S', 'e', 't', 'h', 'i', 'a']\n"
     ]
    }
   ],
   "source": [
    "a_list = [i for i in a]\n",
    "print(a_list)"
   ]
  },
  {
   "cell_type": "code",
   "execution_count": 16,
   "id": "d4fb6935",
   "metadata": {},
   "outputs": [],
   "source": [
    "A = [1,2,3,4,5,6,7]"
   ]
  },
  {
   "cell_type": "code",
   "execution_count": 17,
   "id": "bd31ffb9",
   "metadata": {},
   "outputs": [
    {
     "name": "stdout",
     "output_type": "stream",
     "text": [
      "[1, 8, 27, 64, 125, 216, 343]\n"
     ]
    }
   ],
   "source": [
    "D = [i**3 for i in Abba]\n",
    "print(D)"
   ]
  },
  {
   "cell_type": "code",
   "execution_count": null,
   "id": "8e9dbf4f",
   "metadata": {},
   "outputs": [],
   "source": []
  },
  {
   "cell_type": "code",
   "execution_count": null,
   "id": "aa8432e2",
   "metadata": {},
   "outputs": [],
   "source": []
  }
 ],
 "metadata": {
  "kernelspec": {
   "display_name": "Python 3",
   "language": "python",
   "name": "python3"
  },
  "language_info": {
   "codemirror_mode": {
    "name": "ipython",
    "version": 3
   },
   "file_extension": ".py",
   "mimetype": "text/x-python",
   "name": "python",
   "nbconvert_exporter": "python",
   "pygments_lexer": "ipython3",
   "version": "3.8.8"
  }
 },
 "nbformat": 4,
 "nbformat_minor": 5
}
