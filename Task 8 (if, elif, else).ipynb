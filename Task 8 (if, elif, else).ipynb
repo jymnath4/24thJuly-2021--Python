{
 "cells": [
  {
   "cell_type": "code",
   "execution_count": null,
   "id": "9096f933",
   "metadata": {},
   "outputs": [],
   "source": [
    "#Task"
   ]
  },
  {
   "cell_type": "code",
   "execution_count": null,
   "id": "788b7cfe",
   "metadata": {},
   "outputs": [],
   "source": [
    "#Ask 2 numbers from users and store it in num1 and num2\n",
    "#Ask user to press 1 for addition,2 for subtraction,3 for multiplication and 4 for division\n",
    "#based on number given by user do the math operation"
   ]
  },
  {
   "cell_type": "code",
   "execution_count": 35,
   "id": "f012c5cf",
   "metadata": {},
   "outputs": [
    {
     "name": "stdout",
     "output_type": "stream",
     "text": [
      "num1:8\n",
      "num2:4\n",
      "Press 1 for addition | press 2 for subtraction | press 3 for Multiplication | press 4 for division\n",
      "Please press the number for your desired operation:6\n",
      "8.0 , 6 , 4.0 = Invalid Input\n"
     ]
    }
   ],
   "source": [
    "x=float(input('num1:'))\n",
    "y=float(input('num2:'))\n",
    "print('Press 1 for addition | press 2 for subtraction | press 3 for Multiplication | press 4 for division')\n",
    "z=int(input('Please press the number for your desired operation:'))\n",
    "\n",
    "\n",
    "if z== 1:\n",
    "    result = x+y\n",
    "elif z== 2:\n",
    "    result = x-y\n",
    "elif z==3:\n",
    "    result = x*y\n",
    "elif z==4:\n",
    "    result = x/y\n",
    "else:\n",
    "    result = 'Invalid Input'\n",
    "    \n",
    "print(x,',',z,',',y,'=',result)"
   ]
  },
  {
   "cell_type": "code",
   "execution_count": 1,
   "id": "11e5c4fb",
   "metadata": {},
   "outputs": [
    {
     "name": "stdout",
     "output_type": "stream",
     "text": [
      "num1:8\n",
      "num2:4\n",
      "Press 1 for addition | press 2 for subtraction | press 3 for Multiplication | press 4 for division\n",
      "Please press the number for your desired operation:1\n",
      "8.0 , 1 , 4.0 = 12.0\n"
     ]
    }
   ],
   "source": [
    "x=float(input('num1:'))\n",
    "y=float(input('num2:'))\n",
    "print('Press 1 for addition | press 2 for subtraction | press 3 for Multiplication | press 4 for division')\n",
    "z=int(input('Please press the number for your desired operation:'))\n",
    "\n",
    "\n",
    "if z== 1:\n",
    "    result = x+y\n",
    "elif z== 2:\n",
    "    result = x-y\n",
    "elif z==3:\n",
    "    result = x*y\n",
    "elif z==4:\n",
    "    result = x/y\n",
    "else:\n",
    "    result = ('Invalid Input')\n",
    "    \n",
    "print(x,',',z,',',y,'=',result)"
   ]
  },
  {
   "cell_type": "code",
   "execution_count": 21,
   "id": "ff512e8c",
   "metadata": {},
   "outputs": [
    {
     "name": "stdout",
     "output_type": "stream",
     "text": [
      "num1:7.3\n",
      "num2:9.4\n",
      "Press 1 for addition | press 2 for subtraction | press 3 for Multiplication | press 4 for division\n",
      "Please press the number for your desired operation:3\n",
      "7.3 , 3 , 9.4 = 68.62\n"
     ]
    }
   ],
   "source": [
    "x=float(input('num1:'))\n",
    "y=float(input('num2:'))\n",
    "print('Press 1 for addition | press 2 for subtraction | press 3 for Multiplication | press 4 for division')\n",
    "z=int(input('Please press the number for your desired operation:'))\n",
    "\n",
    "\n",
    "if z== 1:\n",
    "    result = x+y\n",
    "elif z== 2:\n",
    "    result = x-y\n",
    "elif z==3:\n",
    "    result = x*y\n",
    "elif z==4:\n",
    "    result = x/y\n",
    "else:\n",
    "    result = ('Invalid Input')\n",
    "    \n",
    "print(x,',',z,',',y,'=',result)"
   ]
  },
  {
   "cell_type": "code",
   "execution_count": null,
   "id": "ae3e43ba",
   "metadata": {},
   "outputs": [],
   "source": [
    "#Practice"
   ]
  },
  {
   "cell_type": "code",
   "execution_count": null,
   "id": "4e0269b8",
   "metadata": {},
   "outputs": [],
   "source": [
    "#if statement"
   ]
  },
  {
   "cell_type": "code",
   "execution_count": 4,
   "id": "eeda9c54",
   "metadata": {},
   "outputs": [],
   "source": [
    "a=9\n",
    "b=9"
   ]
  },
  {
   "cell_type": "code",
   "execution_count": 5,
   "id": "586a1c94",
   "metadata": {},
   "outputs": [
    {
     "name": "stdout",
     "output_type": "stream",
     "text": [
      "both number are same\n"
     ]
    }
   ],
   "source": [
    "if(a==b):\n",
    "    print('both number are same')"
   ]
  },
  {
   "cell_type": "code",
   "execution_count": 6,
   "id": "80230c61",
   "metadata": {},
   "outputs": [],
   "source": [
    "a=10\n",
    "b=9"
   ]
  },
  {
   "cell_type": "code",
   "execution_count": 7,
   "id": "29d8082b",
   "metadata": {},
   "outputs": [
    {
     "name": "stdout",
     "output_type": "stream",
     "text": [
      "different number\n"
     ]
    }
   ],
   "source": [
    "if (a!=b):\n",
    "    print('different number')"
   ]
  },
  {
   "cell_type": "code",
   "execution_count": null,
   "id": "84c1a3da",
   "metadata": {},
   "outputs": [],
   "source": [
    "#Indentation"
   ]
  },
  {
   "cell_type": "code",
   "execution_count": null,
   "id": "46275892",
   "metadata": {},
   "outputs": [],
   "source": [
    "a=1\n",
    "b=2"
   ]
  },
  {
   "cell_type": "code",
   "execution_count": 10,
   "id": "87ce7854",
   "metadata": {},
   "outputs": [
    {
     "ename": "IndentationError",
     "evalue": "unexpected indent (<ipython-input-10-fa9dd002231b>, line 3)",
     "output_type": "error",
     "traceback": [
      "\u001b[1;36m  File \u001b[1;32m\"<ipython-input-10-fa9dd002231b>\"\u001b[1;36m, line \u001b[1;32m3\u001b[0m\n\u001b[1;33m    print('cola')\u001b[0m\n\u001b[1;37m    ^\u001b[0m\n\u001b[1;31mIndentationError\u001b[0m\u001b[1;31m:\u001b[0m unexpected indent\n"
     ]
    }
   ],
   "source": [
    "if (a!=b):\n",
    "    print('hola')\n",
    "         print('cola')"
   ]
  },
  {
   "cell_type": "code",
   "execution_count": 17,
   "id": "94fffa90",
   "metadata": {},
   "outputs": [
    {
     "ename": "IndentationError",
     "evalue": "unindent does not match any outer indentation level (<tokenize>, line 3)",
     "output_type": "error",
     "traceback": [
      "\u001b[1;36m  File \u001b[1;32m\"<tokenize>\"\u001b[1;36m, line \u001b[1;32m3\u001b[0m\n\u001b[1;33m    print('cola')\u001b[0m\n\u001b[1;37m    ^\u001b[0m\n\u001b[1;31mIndentationError\u001b[0m\u001b[1;31m:\u001b[0m unindent does not match any outer indentation level\n"
     ]
    }
   ],
   "source": [
    "if (a!=b):\n",
    "             print('hola')\n",
    "    print('cola')"
   ]
  },
  {
   "cell_type": "code",
   "execution_count": 18,
   "id": "5b2c0e79",
   "metadata": {},
   "outputs": [
    {
     "name": "stdout",
     "output_type": "stream",
     "text": [
      "hola\n",
      "cola\n"
     ]
    }
   ],
   "source": [
    "if (a!=b):\n",
    "    print('hola')#proper indentation\n",
    "    print('cola')#proper indentation"
   ]
  },
  {
   "cell_type": "code",
   "execution_count": null,
   "id": "1dd18cd8",
   "metadata": {},
   "outputs": [],
   "source": [
    "#If , Else statement"
   ]
  },
  {
   "cell_type": "code",
   "execution_count": null,
   "id": "aa6d50dc",
   "metadata": {},
   "outputs": [],
   "source": [
    "a=4\n",
    "b=3"
   ]
  },
  {
   "cell_type": "code",
   "execution_count": 19,
   "id": "937410d9",
   "metadata": {},
   "outputs": [
    {
     "name": "stdout",
     "output_type": "stream",
     "text": [
      "numbers are not equal\n"
     ]
    }
   ],
   "source": [
    "if (a==b):\n",
    "    print('numbers are equal')\n",
    "else:\n",
    "    print('numbers are not equal')"
   ]
  },
  {
   "cell_type": "code",
   "execution_count": 21,
   "id": "04015658",
   "metadata": {},
   "outputs": [
    {
     "name": "stdout",
     "output_type": "stream",
     "text": [
      "a is greater than b\n"
     ]
    }
   ],
   "source": [
    "if(a>b):\n",
    "    print('a is greater than b')\n",
    "else:\n",
    "    print('a is not graeter than b')"
   ]
  },
  {
   "cell_type": "code",
   "execution_count": 22,
   "id": "596f7a44",
   "metadata": {},
   "outputs": [],
   "source": [
    "# If, Elif, Else"
   ]
  },
  {
   "cell_type": "code",
   "execution_count": 23,
   "id": "c23aa40b",
   "metadata": {},
   "outputs": [],
   "source": [
    "a=10\n",
    "b=11"
   ]
  },
  {
   "cell_type": "code",
   "execution_count": 25,
   "id": "d6fa669b",
   "metadata": {},
   "outputs": [
    {
     "name": "stdout",
     "output_type": "stream",
     "text": [
      "a less than b\n"
     ]
    }
   ],
   "source": [
    "if(a==b):\n",
    "    print('a equals to b')\n",
    "elif(a>b):\n",
    "    print('a greater than b')\n",
    "else:\n",
    "    print('a less than b')"
   ]
  },
  {
   "cell_type": "code",
   "execution_count": null,
   "id": "646c349d",
   "metadata": {},
   "outputs": [],
   "source": [
    "#Multiple conditions using operator"
   ]
  },
  {
   "cell_type": "code",
   "execution_count": null,
   "id": "3b13482a",
   "metadata": {},
   "outputs": [],
   "source": [
    "a=10"
   ]
  },
  {
   "cell_type": "code",
   "execution_count": 27,
   "id": "6ef646c1",
   "metadata": {},
   "outputs": [
    {
     "name": "stdout",
     "output_type": "stream",
     "text": [
      "ok\n"
     ]
    }
   ],
   "source": [
    "if(a>0 or a%2==0 or a%3==0):\n",
    "    print('ok')\n",
    "else:\n",
    "    print('Not ok')"
   ]
  },
  {
   "cell_type": "code",
   "execution_count": null,
   "id": "88bdf7d1",
   "metadata": {},
   "outputs": [],
   "source": [
    "#Nested if"
   ]
  },
  {
   "cell_type": "code",
   "execution_count": 33,
   "id": "fc82337f",
   "metadata": {},
   "outputs": [],
   "source": [
    "a=16"
   ]
  },
  {
   "cell_type": "code",
   "execution_count": 34,
   "id": "84ffd73d",
   "metadata": {},
   "outputs": [
    {
     "name": "stdout",
     "output_type": "stream",
     "text": [
      "positive\n",
      "divisible by 2\n"
     ]
    }
   ],
   "source": [
    "if (a>0):\n",
    "    print('positive')\n",
    "    if(a%2==0):\n",
    "        print('divisible by 2')\n",
    "    elif(a%3==0):\n",
    "        print('divisible by 3')\n",
    "    else:\n",
    "        print('not divisible  y 3 0r 4')\n",
    "else:\n",
    "    print('negative number')"
   ]
  },
  {
   "cell_type": "code",
   "execution_count": null,
   "id": "72bf89f4",
   "metadata": {},
   "outputs": [],
   "source": []
  },
  {
   "cell_type": "code",
   "execution_count": null,
   "id": "90005c2c",
   "metadata": {},
   "outputs": [],
   "source": []
  },
  {
   "cell_type": "code",
   "execution_count": null,
   "id": "643f6c88",
   "metadata": {},
   "outputs": [],
   "source": []
  }
 ],
 "metadata": {
  "kernelspec": {
   "display_name": "Python 3",
   "language": "python",
   "name": "python3"
  },
  "language_info": {
   "codemirror_mode": {
    "name": "ipython",
    "version": 3
   },
   "file_extension": ".py",
   "mimetype": "text/x-python",
   "name": "python",
   "nbconvert_exporter": "python",
   "pygments_lexer": "ipython3",
   "version": "3.8.8"
  }
 },
 "nbformat": 4,
 "nbformat_minor": 5
}
