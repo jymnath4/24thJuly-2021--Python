{
 "cells": [
  {
   "cell_type": "code",
   "execution_count": null,
   "id": "ece628c7",
   "metadata": {},
   "outputs": [],
   "source": [
    "# Functions- are the block of reusable code that will execute only when it is called.\n",
    "#syntax\n",
    "\"\"\"\n",
    "def function_name():\n",
    "    statement 1\n",
    "    statement 2\n",
    "    ...\n",
    "    ...\n",
    "    ...\n",
    "    statement n\n",
    "\"\"\""
   ]
  },
  {
   "cell_type": "code",
   "execution_count": 4,
   "id": "6d46d07b",
   "metadata": {},
   "outputs": [],
   "source": [
    "# defining the function\n",
    "def addition(x,y): #without default value\n",
    "    z=x+y\n",
    "    print(z)"
   ]
  },
  {
   "cell_type": "code",
   "execution_count": 5,
   "id": "b85d751b",
   "metadata": {},
   "outputs": [
    {
     "name": "stdout",
     "output_type": "stream",
     "text": [
      "5\n"
     ]
    }
   ],
   "source": [
    "# calling the function\n",
    "addition(2,3)"
   ]
  },
  {
   "cell_type": "code",
   "execution_count": 8,
   "id": "7449ffb2",
   "metadata": {
    "scrolled": true
   },
   "outputs": [
    {
     "ename": "TypeError",
     "evalue": "addition() missing 1 required positional argument: 'y'",
     "output_type": "error",
     "traceback": [
      "\u001b[1;31m---------------------------------------------------------------------------\u001b[0m",
      "\u001b[1;31mTypeError\u001b[0m                                 Traceback (most recent call last)",
      "\u001b[1;32m<ipython-input-8-931aa23213e7>\u001b[0m in \u001b[0;36m<module>\u001b[1;34m\u001b[0m\n\u001b[1;32m----> 1\u001b[1;33m \u001b[0maddition\u001b[0m\u001b[1;33m(\u001b[0m\u001b[1;36m2\u001b[0m\u001b[1;33m)\u001b[0m\u001b[1;33m\u001b[0m\u001b[1;33m\u001b[0m\u001b[0m\n\u001b[0m",
      "\u001b[1;31mTypeError\u001b[0m: addition() missing 1 required positional argument: 'y'"
     ]
    }
   ],
   "source": [
    "addition(2)"
   ]
  },
  {
   "cell_type": "code",
   "execution_count": 6,
   "id": "a490941d",
   "metadata": {},
   "outputs": [],
   "source": [
    "def addition(x=0,y=0):#0 is assigned as the default vaue for the varibales x and y\n",
    "    z=x+y\n",
    "    print(z)"
   ]
  },
  {
   "cell_type": "code",
   "execution_count": 7,
   "id": "547f0179",
   "metadata": {},
   "outputs": [
    {
     "name": "stdout",
     "output_type": "stream",
     "text": [
      "2\n"
     ]
    }
   ],
   "source": [
    "addition(2)#as default value for y =0 hence z= 2+0=2"
   ]
  },
  {
   "cell_type": "code",
   "execution_count": 9,
   "id": "d2246333",
   "metadata": {},
   "outputs": [],
   "source": [
    "# We can pass a string in a function\n",
    "def f1(name):\n",
    "   print(\"Hello {}\".format(name), '\\nWelcome to the virtual world of Python')"
   ]
  },
  {
   "cell_type": "code",
   "execution_count": 10,
   "id": "1c06529b",
   "metadata": {},
   "outputs": [
    {
     "name": "stdout",
     "output_type": "stream",
     "text": [
      "Hello Jyotishman \n",
      "Welcome to the virtual world of Python\n"
     ]
    }
   ],
   "source": [
    "f1('Jyotishman')"
   ]
  },
  {
   "cell_type": "code",
   "execution_count": 11,
   "id": "ccaef18c",
   "metadata": {},
   "outputs": [],
   "source": [
    "# We can pass a list in a function\n",
    "def l1(list1):\n",
    "    for i in list1:\n",
    "        print(i)"
   ]
  },
  {
   "cell_type": "code",
   "execution_count": 12,
   "id": "4978fd1e",
   "metadata": {
    "scrolled": true
   },
   "outputs": [
    {
     "name": "stdout",
     "output_type": "stream",
     "text": [
      "hello\n",
      "1\n",
      "2\n",
      "3\n",
      "4\n",
      "5\n",
      "6\n",
      "7\n",
      "8\n",
      "9\n",
      "bye\n"
     ]
    }
   ],
   "source": [
    "l1(['hello',1,2,3,4,5,6,7,8,9,'bye'])"
   ]
  },
  {
   "cell_type": "code",
   "execution_count": null,
   "id": "c9aaed78",
   "metadata": {},
   "outputs": [],
   "source": [
    "# Return keyword\n",
    "# return keyword can be used to return values from a function\n",
    "# it can be used to end the execution of a function\n",
    "# statements below return keyword will not get executed"
   ]
  },
  {
   "cell_type": "code",
   "execution_count": 13,
   "id": "d2815bca",
   "metadata": {},
   "outputs": [
    {
     "name": "stdout",
     "output_type": "stream",
     "text": [
      "20\n"
     ]
    }
   ],
   "source": [
    "a=4\n",
    "b=5\n",
    "def mul():\n",
    "    return (a*b)\n",
    "    print ('print this line')#This line is not executed\n",
    "    \n",
    "print(mul())"
   ]
  },
  {
   "cell_type": "code",
   "execution_count": null,
   "id": "0f7ff9c7",
   "metadata": {},
   "outputs": [],
   "source": [
    "# Local Scope\n",
    "# A variable created inside a function belongs to the local scope of that function, and can only be used inside that function."
   ]
  },
  {
   "cell_type": "code",
   "execution_count": 18,
   "id": "b9d18d41",
   "metadata": {},
   "outputs": [
    {
     "name": "stdout",
     "output_type": "stream",
     "text": [
      "20\n"
     ]
    }
   ],
   "source": [
    "def func1():\n",
    "    x = 20\n",
    "    print(x)\n",
    "\n",
    "\n",
    "func1()"
   ]
  },
  {
   "cell_type": "code",
   "execution_count": 19,
   "id": "26305993",
   "metadata": {},
   "outputs": [
    {
     "name": "stdout",
     "output_type": "stream",
     "text": [
      "func1 300\n",
      "func2 300\n"
     ]
    }
   ],
   "source": [
    "#Enclosing scope\n",
    "\n",
    "def func1():\n",
    "    x = 300\n",
    "    print('func1',x)\n",
    "    def func2():\n",
    "        print('func2',x)\n",
    "    \n",
    "    func2()\n",
    "\n",
    "func1()"
   ]
  },
  {
   "cell_type": "code",
   "execution_count": null,
   "id": "62e411d4",
   "metadata": {},
   "outputs": [],
   "source": [
    "#Global Scope: variable created in the main body of the Python code is a global variable and belongs to the global scope. Global variables are available from within any scope, global and local."
   ]
  },
  {
   "cell_type": "code",
   "execution_count": 20,
   "id": "d666b9f5",
   "metadata": {},
   "outputs": [
    {
     "name": "stdout",
     "output_type": "stream",
     "text": [
      "Global 300\n",
      "func1: 300\n",
      "func2: 300\n"
     ]
    }
   ],
   "source": [
    "x=300\n",
    "def func1():\n",
    "    print('func1:',x)\n",
    "    def func2():\n",
    "        print('func2:',x)\n",
    "    func2()\n",
    "\n",
    "print('Global',x)\n",
    "    \n",
    "func1()"
   ]
  },
  {
   "cell_type": "code",
   "execution_count": null,
   "id": "983b6fa7",
   "metadata": {},
   "outputs": [],
   "source": [
    "#How to change global variables inside functions"
   ]
  },
  {
   "cell_type": "code",
   "execution_count": 21,
   "id": "81c72855",
   "metadata": {},
   "outputs": [
    {
     "name": "stdout",
     "output_type": "stream",
     "text": [
      "local 200\n",
      "global 400\n"
     ]
    }
   ],
   "source": [
    "x=400\n",
    "\n",
    "def fun1():\n",
    "    x=200\n",
    "    print('local',x)\n",
    "fun1()\n",
    "print('global',x)"
   ]
  },
  {
   "cell_type": "code",
   "execution_count": null,
   "id": "93ec4c5b",
   "metadata": {},
   "outputs": [],
   "source": [
    "#Global Keyword- can define a global scope inside a function"
   ]
  },
  {
   "cell_type": "code",
   "execution_count": 22,
   "id": "ca0850b0",
   "metadata": {},
   "outputs": [
    {
     "name": "stdout",
     "output_type": "stream",
     "text": [
      "local 200\n",
      "global 200\n"
     ]
    }
   ],
   "source": [
    "def fz1():\n",
    "    global x\n",
    "    x=200\n",
    "    print('local',x)\n",
    "fz1()\n",
    "print('global',x)"
   ]
  },
  {
   "cell_type": "code",
   "execution_count": null,
   "id": "e4818012",
   "metadata": {},
   "outputs": [],
   "source": [
    "#Order of execution ---> Local,Enclosing,Global"
   ]
  },
  {
   "cell_type": "code",
   "execution_count": 23,
   "id": "6945bc2e",
   "metadata": {},
   "outputs": [
    {
     "name": "stdout",
     "output_type": "stream",
     "text": [
      "f1: 100\n",
      "f2: 10\n",
      "f3 1\n",
      "Global 1000\n"
     ]
    }
   ],
   "source": [
    "z=1000 #global\n",
    "def f1():\n",
    "    z=100 #local\n",
    "    print('f1:',z)\n",
    "    def f2():\n",
    "        z=10 #enclosing\n",
    "        print('f2:',z)\n",
    "        def f3():\n",
    "            z=1 #enclosing\n",
    "            print('f3',z)\n",
    "        f3()\n",
    "    f2()\n",
    "f1()\n",
    "print('Global',z)"
   ]
  },
  {
   "cell_type": "code",
   "execution_count": null,
   "id": "f053abc7",
   "metadata": {},
   "outputs": [],
   "source": [
    "# List Comprehensions\n",
    "# In addition to sequence operations and list methods, Python includes a more advanced operation called a list comprehension.\n",
    "\n",
    "# It's just another way of creating the lists\n",
    "\n",
    "# syntax ##### my_list = [item for item in sequence]"
   ]
  },
  {
   "cell_type": "code",
   "execution_count": 25,
   "id": "015218f8",
   "metadata": {},
   "outputs": [],
   "source": [
    "x= \"Mr. Rajkumar Rao\""
   ]
  },
  {
   "cell_type": "code",
   "execution_count": 26,
   "id": "091cf3d9",
   "metadata": {},
   "outputs": [],
   "source": [
    "x_list = []"
   ]
  },
  {
   "cell_type": "code",
   "execution_count": 27,
   "id": "35dbb1c0",
   "metadata": {},
   "outputs": [
    {
     "name": "stdout",
     "output_type": "stream",
     "text": [
      "M\n",
      "r\n",
      ".\n",
      " \n",
      "R\n",
      "a\n",
      "j\n",
      "k\n",
      "u\n",
      "m\n",
      "a\n",
      "r\n",
      " \n",
      "R\n",
      "a\n",
      "o\n"
     ]
    }
   ],
   "source": [
    "for i in x:\n",
    "    x_list.append(i)\n",
    "    print(i)"
   ]
  },
  {
   "cell_type": "code",
   "execution_count": 28,
   "id": "95235194",
   "metadata": {},
   "outputs": [
    {
     "data": {
      "text/plain": [
       "['M',\n",
       " 'r',\n",
       " '.',\n",
       " ' ',\n",
       " 'R',\n",
       " 'a',\n",
       " 'j',\n",
       " 'k',\n",
       " 'u',\n",
       " 'm',\n",
       " 'a',\n",
       " 'r',\n",
       " ' ',\n",
       " 'R',\n",
       " 'a',\n",
       " 'o']"
      ]
     },
     "execution_count": 28,
     "metadata": {},
     "output_type": "execute_result"
    }
   ],
   "source": [
    "x_list"
   ]
  },
  {
   "cell_type": "code",
   "execution_count": null,
   "id": "393882f5",
   "metadata": {},
   "outputs": [],
   "source": [
    "#using list comprehension"
   ]
  },
  {
   "cell_type": "code",
   "execution_count": null,
   "id": "b66580e2",
   "metadata": {},
   "outputs": [],
   "source": [
    "x= \"Mr. Rajkumar Rao\""
   ]
  },
  {
   "cell_type": "code",
   "execution_count": 30,
   "id": "938bbffe",
   "metadata": {},
   "outputs": [
    {
     "name": "stdout",
     "output_type": "stream",
     "text": [
      "['M', 'r', '.', ' ', 'R', 'a', 'j', 'k', 'u', 'm', 'a', 'r', ' ', 'R', 'a', 'o']\n"
     ]
    }
   ],
   "source": [
    "a_list = [i for i in x]\n",
    "print(a_list)"
   ]
  },
  {
   "cell_type": "code",
   "execution_count": 31,
   "id": "6bbed199",
   "metadata": {},
   "outputs": [
    {
     "name": "stdout",
     "output_type": "stream",
     "text": [
      "[0, 1, 4, 9, 16, 25, 36, 49, 64, 81, 100]\n"
     ]
    }
   ],
   "source": [
    "# create a list which contains the squares of 0 to 10\n",
    "# without list comprehension\n",
    "list1 = []\n",
    "\n",
    "for i in range(11):\n",
    "    list1.append(i**2)\n",
    "\n",
    "print(list1)"
   ]
  },
  {
   "cell_type": "code",
   "execution_count": 32,
   "id": "0eb4d507",
   "metadata": {},
   "outputs": [
    {
     "name": "stdout",
     "output_type": "stream",
     "text": [
      "[0, 1, 4, 9, 16, 25, 36, 49, 64, 81, 100]\n"
     ]
    }
   ],
   "source": [
    "# with list comprehensions\n",
    "list1 = [i**2 for i in range(11)]\n",
    "print(list1)"
   ]
  },
  {
   "cell_type": "code",
   "execution_count": null,
   "id": "70678cb8",
   "metadata": {},
   "outputs": [],
   "source": [
    "#Lambda - is a small anonymus function that can take up any number of aurguments, but can have only one expression and are mostly used with Map and Filter function"
   ]
  },
  {
   "cell_type": "code",
   "execution_count": null,
   "id": "ec03c0c9",
   "metadata": {},
   "outputs": [],
   "source": [
    "# Syntax\n",
    "# x= lambda arguments : expression"
   ]
  },
  {
   "cell_type": "code",
   "execution_count": null,
   "id": "18f69dd8",
   "metadata": {},
   "outputs": [],
   "source": [
    "#Squaring a number with one aurgment"
   ]
  },
  {
   "cell_type": "code",
   "execution_count": 33,
   "id": "560a1bf6",
   "metadata": {},
   "outputs": [
    {
     "data": {
      "text/plain": [
       "81"
      ]
     },
     "execution_count": 33,
     "metadata": {},
     "output_type": "execute_result"
    }
   ],
   "source": [
    "def square (a):\n",
    "    return a**2\n",
    "\n",
    "square(9)"
   ]
  },
  {
   "cell_type": "code",
   "execution_count": 34,
   "id": "fa9e3230",
   "metadata": {},
   "outputs": [],
   "source": [
    "#using lambda\n",
    "square = lambda a : a**2 "
   ]
  },
  {
   "cell_type": "code",
   "execution_count": 35,
   "id": "d9a7d9bc",
   "metadata": {},
   "outputs": [
    {
     "data": {
      "text/plain": [
       "225"
      ]
     },
     "execution_count": 35,
     "metadata": {},
     "output_type": "execute_result"
    }
   ],
   "source": [
    "square(15)"
   ]
  },
  {
   "cell_type": "code",
   "execution_count": 36,
   "id": "7973616c",
   "metadata": {},
   "outputs": [
    {
     "data": {
      "text/plain": [
       "6"
      ]
     },
     "execution_count": 36,
     "metadata": {},
     "output_type": "execute_result"
    }
   ],
   "source": [
    "#addition\n",
    "add = lambda x=0,y=0,z=0 : x+y+z\n",
    "add(1,2,3)"
   ]
  },
  {
   "cell_type": "code",
   "execution_count": null,
   "id": "ad45b59b",
   "metadata": {},
   "outputs": [],
   "source": [
    "#Map Function\n",
    "#Syntax\n",
    "#map(function,sequence)"
   ]
  },
  {
   "cell_type": "code",
   "execution_count": 37,
   "id": "0b58d3b2",
   "metadata": {},
   "outputs": [],
   "source": [
    "a= range(0,10,1)"
   ]
  },
  {
   "cell_type": "code",
   "execution_count": null,
   "id": "7dd5ecc0",
   "metadata": {},
   "outputs": [],
   "source": [
    "def square(x):\n",
    "    return x**2"
   ]
  },
  {
   "cell_type": "code",
   "execution_count": 40,
   "id": "25b96cbf",
   "metadata": {},
   "outputs": [
    {
     "data": {
      "text/plain": [
       "[0, 1, 4, 9, 16, 25, 36, 49, 64, 81]"
      ]
     },
     "execution_count": 40,
     "metadata": {},
     "output_type": "execute_result"
    }
   ],
   "source": [
    "list(map(square,a)) # Map is used to link to sequence 'a' and function 'square'"
   ]
  },
  {
   "cell_type": "code",
   "execution_count": 39,
   "id": "3a5c60fa",
   "metadata": {},
   "outputs": [
    {
     "name": "stdout",
     "output_type": "stream",
     "text": [
      "0\n",
      "1\n",
      "4\n",
      "9\n",
      "16\n",
      "25\n",
      "36\n",
      "49\n",
      "64\n",
      "81\n"
     ]
    }
   ],
   "source": [
    "#list will print output\n",
    "for i in map(square,a):\n",
    "    print(i)"
   ]
  },
  {
   "cell_type": "code",
   "execution_count": 41,
   "id": "b3f2f3c1",
   "metadata": {},
   "outputs": [
    {
     "data": {
      "text/plain": [
       "[0, 1, 4, 9, 16, 25, 36, 49, 64, 81]"
      ]
     },
     "execution_count": 41,
     "metadata": {},
     "output_type": "execute_result"
    }
   ],
   "source": [
    "list(map(square,a))"
   ]
  },
  {
   "cell_type": "code",
   "execution_count": null,
   "id": "52a6bfae",
   "metadata": {},
   "outputs": [],
   "source": [
    "#Filter function\n",
    "#Syntax-\n",
    "#filter(function,squence)"
   ]
  },
  {
   "cell_type": "code",
   "execution_count": 42,
   "id": "3c9070af",
   "metadata": {},
   "outputs": [],
   "source": [
    "x= range (1,20)"
   ]
  },
  {
   "cell_type": "code",
   "execution_count": 43,
   "id": "abac920c",
   "metadata": {},
   "outputs": [],
   "source": [
    "even= lambda a : a%2 == 0"
   ]
  },
  {
   "cell_type": "code",
   "execution_count": 44,
   "id": "ef3e67d7",
   "metadata": {},
   "outputs": [
    {
     "data": {
      "text/plain": [
       "<filter at 0x1521b0a0be0>"
      ]
     },
     "execution_count": 44,
     "metadata": {},
     "output_type": "execute_result"
    }
   ],
   "source": [
    "filter(even,x)"
   ]
  },
  {
   "cell_type": "code",
   "execution_count": 45,
   "id": "9639b5b4",
   "metadata": {},
   "outputs": [
    {
     "name": "stdout",
     "output_type": "stream",
     "text": [
      "2\n",
      "4\n",
      "6\n",
      "8\n",
      "10\n",
      "12\n",
      "14\n",
      "16\n",
      "18\n"
     ]
    }
   ],
   "source": [
    "for i in filter(even,x):\n",
    "    print(i)"
   ]
  },
  {
   "cell_type": "code",
   "execution_count": null,
   "id": "51647225",
   "metadata": {},
   "outputs": [],
   "source": [
    "x= range (1,20)"
   ]
  },
  {
   "cell_type": "code",
   "execution_count": 46,
   "id": "1a728bf0",
   "metadata": {},
   "outputs": [
    {
     "name": "stdout",
     "output_type": "stream",
     "text": [
      "2\n",
      "4\n",
      "6\n",
      "8\n",
      "10\n",
      "12\n",
      "14\n",
      "16\n",
      "18\n"
     ]
    }
   ],
   "source": [
    "#with filter and lambdaa\n",
    "for z in filter(lambda a: a%2==0,x):\n",
    "    print(z)"
   ]
  },
  {
   "cell_type": "code",
   "execution_count": null,
   "id": "d0390855",
   "metadata": {},
   "outputs": [],
   "source": [
    "#Lambda with map"
   ]
  },
  {
   "cell_type": "code",
   "execution_count": 47,
   "id": "fef093e0",
   "metadata": {},
   "outputs": [],
   "source": [
    "q= range (1,9)"
   ]
  },
  {
   "cell_type": "code",
   "execution_count": 48,
   "id": "db9e8d8d",
   "metadata": {},
   "outputs": [
    {
     "data": {
      "text/plain": [
       "[1, 4, 9, 16, 25, 36, 49, 64]"
      ]
     },
     "execution_count": 48,
     "metadata": {},
     "output_type": "execute_result"
    }
   ],
   "source": [
    "list(map(lambda x: x**2,q))"
   ]
  },
  {
   "cell_type": "code",
   "execution_count": 49,
   "id": "8c0c3405",
   "metadata": {},
   "outputs": [
    {
     "name": "stdout",
     "output_type": "stream",
     "text": [
      "1\n",
      "4\n",
      "9\n",
      "16\n",
      "25\n",
      "36\n",
      "49\n",
      "64\n"
     ]
    }
   ],
   "source": [
    "for x in map(lambda x: x**2,q):\n",
    "    print(x)"
   ]
  },
  {
   "cell_type": "code",
   "execution_count": null,
   "id": "4a8b05ea",
   "metadata": {},
   "outputs": [],
   "source": [
    "# Reduce function-used to apply a particular function passed in its argument to all of the list elements mentioned"
   ]
  },
  {
   "cell_type": "code",
   "execution_count": 58,
   "id": "61111862",
   "metadata": {},
   "outputs": [
    {
     "name": "stdout",
     "output_type": "stream",
     "text": [
      "8\n"
     ]
    }
   ],
   "source": [
    "import functools as ft\n",
    "q= range(1,9)\n",
    "print(ft.reduce(lambda x,y: x if x>y else y,q))"
   ]
  },
  {
   "cell_type": "code",
   "execution_count": null,
   "id": "8274ab08",
   "metadata": {},
   "outputs": [],
   "source": [
    "#Zip function-The zip() function returns a zip object, which is an iterator of tuples where the first item in each passed iterator is paired together, and then the second item in each passed iterator are paired together etc."
   ]
  },
  {
   "cell_type": "code",
   "execution_count": 57,
   "id": "c905ad24",
   "metadata": {},
   "outputs": [
    {
     "name": "stdout",
     "output_type": "stream",
     "text": [
      "(('John', 'Jenny'), ('Charles', 'Christy'), ('Mike', 'Monica'))\n"
     ]
    }
   ],
   "source": [
    "a = (\"John\", \"Charles\", \"Mike\")\n",
    "b = (\"Jenny\", \"Christy\", \"Monica\")\n",
    "c=zip(a,b)\n",
    "print(tuple(c))"
   ]
  }
 ],
 "metadata": {
  "kernelspec": {
   "display_name": "Python 3",
   "language": "python",
   "name": "python3"
  },
  "language_info": {
   "codemirror_mode": {
    "name": "ipython",
    "version": 3
   },
   "file_extension": ".py",
   "mimetype": "text/x-python",
   "name": "python",
   "nbconvert_exporter": "python",
   "pygments_lexer": "ipython3",
   "version": "3.8.8"
  }
 },
 "nbformat": 4,
 "nbformat_minor": 5
}
