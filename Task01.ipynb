{
 "cells": [
  {
   "cell_type": "code",
   "execution_count": 59,
   "id": "89333cfa",
   "metadata": {},
   "outputs": [],
   "source": [
    "#Some Inbuilt String"
   ]
  },
  {
   "cell_type": "code",
   "execution_count": 58,
   "id": "d2b5cee4",
   "metadata": {},
   "outputs": [
    {
     "data": {
      "text/plain": [
       "'hello w'"
      ]
     },
     "execution_count": 58,
     "metadata": {},
     "output_type": "execute_result"
    }
   ],
   "source": [
    "#slicing\n",
    "a = \"hello world\"\n",
    "a[0:7:1]"
   ]
  },
  {
   "cell_type": "code",
   "execution_count": 22,
   "id": "198e902f",
   "metadata": {},
   "outputs": [
    {
     "data": {
      "text/plain": [
       "str"
      ]
     },
     "execution_count": 22,
     "metadata": {},
     "output_type": "execute_result"
    }
   ],
   "source": [
    "#returning type of a variable\n",
    "type(a)"
   ]
  },
  {
   "cell_type": "code",
   "execution_count": 17,
   "id": "bc03db41",
   "metadata": {},
   "outputs": [
    {
     "name": "stdout",
     "output_type": "stream",
     "text": [
      "[1, 2, 3, 4, 5, 6, 10]\n"
     ]
    }
   ],
   "source": [
    "#Using append function\n",
    "L1 = [1,2,3,4,5,6]\n",
    "L1.append(10)\n",
    "print(L1)"
   ]
  },
  {
   "cell_type": "code",
   "execution_count": 34,
   "id": "f27f88e8",
   "metadata": {},
   "outputs": [
    {
     "name": "stdout",
     "output_type": "stream",
     "text": [
      "5\n"
     ]
    }
   ],
   "source": [
    "#why can't we use sum(a,b) when data type is same instead of Print\n",
    "a=2\n",
    "b=3\n",
    "c= print (a+b)"
   ]
  },
  {
   "cell_type": "code",
   "execution_count": 42,
   "id": "c2c58099",
   "metadata": {},
   "outputs": [
    {
     "name": "stdout",
     "output_type": "stream",
     "text": [
      "[1, 2, 8, 4, 5, 6]\n"
     ]
    }
   ],
   "source": [
    "#Mutable list\n",
    "l1=[1,2,3,4,5,6]\n",
    "l1[2]=8\n",
    "print(l1)"
   ]
  },
  {
   "cell_type": "code",
   "execution_count": 41,
   "id": "54f12c64",
   "metadata": {},
   "outputs": [
    {
     "data": {
      "text/plain": [
       "6"
      ]
     },
     "execution_count": 41,
     "metadata": {},
     "output_type": "execute_result"
    }
   ],
   "source": [
    "#length of str value/count of letters\n",
    "a=\"zombie\"\n",
    "len(a)"
   ]
  },
  {
   "cell_type": "code",
   "execution_count": 46,
   "id": "77dfb267",
   "metadata": {},
   "outputs": [
    {
     "name": "stdout",
     "output_type": "stream",
     "text": [
      "Plasma television\n"
     ]
    }
   ],
   "source": [
    "#Make letter of sentence in capital\n",
    "a= \"plasma television\"\n",
    "b=a.capitalize()\n",
    "print(b)"
   ]
  },
  {
   "cell_type": "code",
   "execution_count": 49,
   "id": "2ca543dd",
   "metadata": {},
   "outputs": [
    {
     "name": "stdout",
     "output_type": "stream",
     "text": [
      "gotham city\n"
     ]
    }
   ],
   "source": [
    "#Convert in lowercase\n",
    "a= \"GOTHAM CITY\"\n",
    "b=a.casefold()\n",
    "print(b)"
   ]
  },
  {
   "cell_type": "code",
   "execution_count": 57,
   "id": "e3139d22",
   "metadata": {},
   "outputs": [
    {
     "name": "stdout",
     "output_type": "stream",
     "text": [
      "2\n"
     ]
    }
   ],
   "source": [
    "a=\"CAPITAL CITY IS A GOOD CITY\"\n",
    "b=a.count(\"CITY\")\n",
    "print(b)"
   ]
  },
  {
   "cell_type": "code",
   "execution_count": null,
   "id": "58c49ce0",
   "metadata": {},
   "outputs": [],
   "source": [
    "#Check if sub string is present in String"
   ]
  },
  {
   "cell_type": "code",
   "execution_count": 62,
   "id": "160aa32a",
   "metadata": {},
   "outputs": [
    {
     "name": "stdout",
     "output_type": "stream",
     "text": [
      "yes\n"
     ]
    }
   ],
   "source": [
    "s1=\"Welcome to python\"\n",
    "s2=\"to\"\n",
    "\n",
    "def check(s1,s2):\n",
    "    if (s1.count(s2)>0):\n",
    "        print(\"yes\")\n",
    "    else:\n",
    "        print(\"no\")\n",
    "check(s1,s2)    \n",
    "        "
   ]
  },
  {
   "cell_type": "code",
   "execution_count": null,
   "id": "dc6adf56",
   "metadata": {},
   "outputs": [],
   "source": []
  }
 ],
 "metadata": {
  "kernelspec": {
   "display_name": "Python 3",
   "language": "python",
   "name": "python3"
  },
  "language_info": {
   "codemirror_mode": {
    "name": "ipython",
    "version": 3
   },
   "file_extension": ".py",
   "mimetype": "text/x-python",
   "name": "python",
   "nbconvert_exporter": "python",
   "pygments_lexer": "ipython3",
   "version": "3.8.8"
  }
 },
 "nbformat": 4,
 "nbformat_minor": 5
}
