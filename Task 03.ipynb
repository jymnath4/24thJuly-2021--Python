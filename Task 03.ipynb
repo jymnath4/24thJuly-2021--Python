{
 "cells": [
  {
   "cell_type": "code",
   "execution_count": null,
   "id": "08a0bdcf",
   "metadata": {},
   "outputs": [],
   "source": [
    "#Inbulit methods"
   ]
  },
  {
   "cell_type": "code",
   "execution_count": 2,
   "id": "2b83982c",
   "metadata": {},
   "outputs": [
    {
     "name": "stdout",
     "output_type": "stream",
     "text": [
      "[1, 2.1, 5, 'hello']\n"
     ]
    }
   ],
   "source": [
    "#Remove\n",
    "L1= [1,2.1,5,'hello',\"mellow\"]\n",
    "L1.remove(\"mellow\")\n",
    "print (L1)"
   ]
  },
  {
   "cell_type": "code",
   "execution_count": 3,
   "id": "0375616b",
   "metadata": {},
   "outputs": [
    {
     "name": "stdout",
     "output_type": "stream",
     "text": [
      "2\n"
     ]
    }
   ],
   "source": [
    "#Count\n",
    "a=\"CAPITAL CITY IS A GOOD CITY\"\n",
    "b=a.count(\"CITY\")\n",
    "print(b)"
   ]
  },
  {
   "cell_type": "code",
   "execution_count": 6,
   "id": "2c1b2cc9",
   "metadata": {},
   "outputs": [
    {
     "name": "stdout",
     "output_type": "stream",
     "text": [
      "[]\n"
     ]
    }
   ],
   "source": [
    "#Clear\n",
    "L1= [1,2.1,5,'hello',\"mellow\"]\n",
    "L1.clear()\n",
    "print(L1)"
   ]
  },
  {
   "cell_type": "code",
   "execution_count": 8,
   "id": "b85a0ebe",
   "metadata": {},
   "outputs": [
    {
     "name": "stdout",
     "output_type": "stream",
     "text": [
      "['Chandler', 'Joey', 'Monica', 'Phoebe', 'Rachel', 'Ross']\n"
     ]
    }
   ],
   "source": [
    "#Sort\n",
    "Friends = ['Rachel','Monica','Joey','Chandler','Ross','Phoebe']\n",
    "Friends.sort()\n",
    "print(Friends)"
   ]
  },
  {
   "cell_type": "code",
   "execution_count": 11,
   "id": "00143561",
   "metadata": {},
   "outputs": [
    {
     "name": "stdout",
     "output_type": "stream",
     "text": [
      "['Phoebe', 'Ross', 'Chandler', 'Joey', 'Monica', 'Rachel']\n"
     ]
    }
   ],
   "source": [
    "#Reverse\n",
    "Friends = ['Rachel','Monica','Joey','Chandler','Ross','Phoebe']\n",
    "Friends.reverse()\n",
    "print(Friends)"
   ]
  },
  {
   "cell_type": "code",
   "execution_count": 7,
   "id": "bdbef035",
   "metadata": {},
   "outputs": [],
   "source": [
    "#Why typing in separate lines doesnot work??\n",
    "Friends = ['Rachel','Monica','Joey','Chandler','Ross','Phoebe']"
   ]
  },
  {
   "cell_type": "code",
   "execution_count": 8,
   "id": "2fc018b4",
   "metadata": {},
   "outputs": [],
   "source": [
    "Friends.reverse()"
   ]
  },
  {
   "cell_type": "code",
   "execution_count": 10,
   "id": "d8970616",
   "metadata": {
    "scrolled": true
   },
   "outputs": [
    {
     "name": "stdout",
     "output_type": "stream",
     "text": [
      "['Phoebe', 'Ross', 'Chandler', 'Joey', 'Monica', 'Rachel']\n"
     ]
    }
   ],
   "source": [
    "print(Friends)"
   ]
  },
  {
   "cell_type": "code",
   "execution_count": 17,
   "id": "4842a7e8",
   "metadata": {},
   "outputs": [],
   "source": [
    "# create a list of lenght = 10 and access 5th to 8th data."
   ]
  },
  {
   "cell_type": "code",
   "execution_count": 18,
   "id": "79ebc4ac",
   "metadata": {},
   "outputs": [
    {
     "data": {
      "text/plain": [
       "[5, 6, 7, 8]"
      ]
     },
     "execution_count": 18,
     "metadata": {},
     "output_type": "execute_result"
    }
   ],
   "source": [
    "L1= [0,1,2,3,4,5,6,7,8,9]\n",
    "L1[5:9] #step size is 1 by default"
   ]
  },
  {
   "cell_type": "code",
   "execution_count": 19,
   "id": "60b8c46f",
   "metadata": {},
   "outputs": [],
   "source": [
    "#Add item 70 after 60 in the following Python List"
   ]
  },
  {
   "cell_type": "code",
   "execution_count": 11,
   "id": "491a88f8",
   "metadata": {},
   "outputs": [
    {
     "ename": "IndexError",
     "evalue": "list index out of range",
     "output_type": "error",
     "traceback": [
      "\u001b[1;31m---------------------------------------------------------------------------\u001b[0m",
      "\u001b[1;31mIndexError\u001b[0m                                Traceback (most recent call last)",
      "\u001b[1;32m<ipython-input-11-8e4af4c6a8ce>\u001b[0m in \u001b[0;36m<module>\u001b[1;34m\u001b[0m\n\u001b[0;32m      1\u001b[0m \u001b[0ml1\u001b[0m \u001b[1;33m=\u001b[0m \u001b[1;33m[\u001b[0m\u001b[1;36m10\u001b[0m\u001b[1;33m,\u001b[0m \u001b[1;36m20\u001b[0m\u001b[1;33m,\u001b[0m \u001b[1;33m[\u001b[0m\u001b[1;36m30\u001b[0m\u001b[1;33m,\u001b[0m \u001b[1;36m40\u001b[0m\u001b[1;33m,\u001b[0m \u001b[1;33m[\u001b[0m\u001b[1;36m50\u001b[0m\u001b[1;33m,\u001b[0m \u001b[1;36m60\u001b[0m\u001b[1;33m]\u001b[0m\u001b[1;33m,\u001b[0m \u001b[1;36m80\u001b[0m\u001b[1;33m]\u001b[0m\u001b[1;33m,\u001b[0m \u001b[1;36m90\u001b[0m\u001b[1;33m,\u001b[0m \u001b[1;36m100\u001b[0m\u001b[1;33m]\u001b[0m\u001b[1;33m\u001b[0m\u001b[1;33m\u001b[0m\u001b[0m\n\u001b[1;32m----> 2\u001b[1;33m \u001b[0ml1\u001b[0m\u001b[1;33m.\u001b[0m\u001b[0minsert\u001b[0m\u001b[1;33m(\u001b[0m\u001b[1;33m[\u001b[0m\u001b[1;36m2\u001b[0m\u001b[1;33m]\u001b[0m\u001b[1;33m[\u001b[0m\u001b[1;36m2\u001b[0m\u001b[1;33m]\u001b[0m\u001b[1;33m[\u001b[0m\u001b[1;36m2\u001b[0m\u001b[1;33m]\u001b[0m\u001b[1;33m,\u001b[0m\u001b[1;36m70\u001b[0m\u001b[1;33m)\u001b[0m\u001b[1;33m\u001b[0m\u001b[1;33m\u001b[0m\u001b[0m\n\u001b[0m\u001b[0;32m      3\u001b[0m \u001b[0mprint\u001b[0m\u001b[1;33m(\u001b[0m\u001b[0ml1\u001b[0m\u001b[1;33m)\u001b[0m\u001b[1;33m\u001b[0m\u001b[1;33m\u001b[0m\u001b[0m\n",
      "\u001b[1;31mIndexError\u001b[0m: list index out of range"
     ]
    }
   ],
   "source": [
    "l1 = [10, 20, [30, 40, [50, 60], 80], 90, 100]\n",
    "l1.insert([2][2][2],70)\n",
    "print(l1)"
   ]
  },
  {
   "cell_type": "code",
   "execution_count": 39,
   "id": "ecf2ab1c",
   "metadata": {},
   "outputs": [
    {
     "name": "stdout",
     "output_type": "stream",
     "text": [
      "[10, 20, [30, 40, [50, 60, 70], 80], 90, 100]\n"
     ]
    }
   ],
   "source": [
    "l1 = [10, 20, [30, 40, [50, 60], 80], 90, 100]\n",
    "l1[2][2].insert(l1[1],70)\n",
    "print(l1)"
   ]
  },
  {
   "cell_type": "code",
   "execution_count": 22,
   "id": "2aa1d2f5",
   "metadata": {},
   "outputs": [],
   "source": [
    "#add sublist [7,8] after 6"
   ]
  },
  {
   "cell_type": "code",
   "execution_count": 51,
   "id": "25a8630d",
   "metadata": {},
   "outputs": [],
   "source": [
    "l2 = [1,2,[3,4,5,6],9]\n",
    "l2[2].insert(4,[7,8])"
   ]
  },
  {
   "cell_type": "code",
   "execution_count": 52,
   "id": "f2ce27ff",
   "metadata": {},
   "outputs": [
    {
     "name": "stdout",
     "output_type": "stream",
     "text": [
      "[1, 2, [3, 4, 5, 6, [7, 8]], 9]\n"
     ]
    }
   ],
   "source": [
    "print(l2)"
   ]
  },
  {
   "cell_type": "code",
   "execution_count": null,
   "id": "7e09290e",
   "metadata": {},
   "outputs": [],
   "source": []
  }
 ],
 "metadata": {
  "kernelspec": {
   "display_name": "Python 3",
   "language": "python",
   "name": "python3"
  },
  "language_info": {
   "codemirror_mode": {
    "name": "ipython",
    "version": 3
   },
   "file_extension": ".py",
   "mimetype": "text/x-python",
   "name": "python",
   "nbconvert_exporter": "python",
   "pygments_lexer": "ipython3",
   "version": "3.8.8"
  }
 },
 "nbformat": 4,
 "nbformat_minor": 5
}
