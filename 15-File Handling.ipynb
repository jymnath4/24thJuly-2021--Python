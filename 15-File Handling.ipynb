{
 "cells": [
  {
   "cell_type": "code",
   "execution_count": null,
   "id": "3428dae2",
   "metadata": {},
   "outputs": [],
   "source": [
    "# File Handling\n",
    "# Python supports file handling and allows users to handle files i.e., to read and write files\n",
    "# syntax --->\n",
    "# open(filename,mode)\n",
    "\n",
    "# filename - name of the file.\n",
    "# mode - mode is used to specify what action you want to perform.\n",
    "\n",
    "# mode can take the following values : \n",
    "\n",
    "# \"r\" - Read - Default value. \n",
    "# If the file is present, then it opens the file for reading.Else it will throw an error\n",
    "\n",
    "# \"a\" - Append \n",
    "# If the file is present, it opens the file for appending.Else creates the new file. \n",
    "\n",
    "# \"w\" - Write \n",
    "# If the file is present,it opens the file for writing.Else creates the new file."
   ]
  },
  {
   "cell_type": "code",
   "execution_count": null,
   "id": "e85238cd",
   "metadata": {},
   "outputs": [],
   "source": [
    "# Read (r)"
   ]
  },
  {
   "cell_type": "code",
   "execution_count": 60,
   "id": "961281b9",
   "metadata": {},
   "outputs": [],
   "source": [
    "file=open('file_handling','r')"
   ]
  },
  {
   "cell_type": "code",
   "execution_count": 61,
   "id": "5c11cb16",
   "metadata": {},
   "outputs": [
    {
     "data": {
      "text/plain": [
       "'My name is Jyotishman\\nI live in Guwahati, Assam\\nI want to become a data scientist'"
      ]
     },
     "execution_count": 61,
     "metadata": {},
     "output_type": "execute_result"
    }
   ],
   "source": [
    "file.read()"
   ]
  },
  {
   "cell_type": "code",
   "execution_count": 62,
   "id": "adacae33",
   "metadata": {},
   "outputs": [],
   "source": [
    "#trying to read again"
   ]
  },
  {
   "cell_type": "code",
   "execution_count": 63,
   "id": "47b009ec",
   "metadata": {},
   "outputs": [
    {
     "data": {
      "text/plain": [
       "''"
      ]
     },
     "execution_count": 63,
     "metadata": {},
     "output_type": "execute_result"
    }
   ],
   "source": [
    "file.read() # as it is already read once hence it not readable again"
   ]
  },
  {
   "cell_type": "code",
   "execution_count": 64,
   "id": "068aab62",
   "metadata": {},
   "outputs": [],
   "source": [
    "#To take the cursour to the begining of the statement"
   ]
  },
  {
   "cell_type": "code",
   "execution_count": 65,
   "id": "b32ca0d1",
   "metadata": {},
   "outputs": [
    {
     "data": {
      "text/plain": [
       "0"
      ]
     },
     "execution_count": 65,
     "metadata": {},
     "output_type": "execute_result"
    }
   ],
   "source": [
    "file.seek(0)"
   ]
  },
  {
   "cell_type": "code",
   "execution_count": 66,
   "id": "cd77ee3a",
   "metadata": {},
   "outputs": [
    {
     "data": {
      "text/plain": [
       "'My name is Jyotishman\\nI live in Guwahati, Assam\\nI want to become a data scientist'"
      ]
     },
     "execution_count": 66,
     "metadata": {},
     "output_type": "execute_result"
    }
   ],
   "source": [
    "file.read() #now we can read the file again"
   ]
  },
  {
   "cell_type": "code",
   "execution_count": 67,
   "id": "40f87882",
   "metadata": {},
   "outputs": [],
   "source": [
    "# Readline"
   ]
  },
  {
   "cell_type": "code",
   "execution_count": 80,
   "id": "e9c2ada3",
   "metadata": {},
   "outputs": [
    {
     "data": {
      "text/plain": [
       "'My name is Jyotishman\\n'"
      ]
     },
     "execution_count": 80,
     "metadata": {},
     "output_type": "execute_result"
    }
   ],
   "source": [
    "file.seek(0)\n",
    "file.readline()"
   ]
  },
  {
   "cell_type": "code",
   "execution_count": 81,
   "id": "409e89e1",
   "metadata": {},
   "outputs": [
    {
     "data": {
      "text/plain": [
       "'I live in Guwahati, Assam\\n'"
      ]
     },
     "execution_count": 81,
     "metadata": {},
     "output_type": "execute_result"
    }
   ],
   "source": [
    "file.readline()"
   ]
  },
  {
   "cell_type": "code",
   "execution_count": 82,
   "id": "26ab23d8",
   "metadata": {},
   "outputs": [
    {
     "data": {
      "text/plain": [
       "'I want to become a data scientist'"
      ]
     },
     "execution_count": 82,
     "metadata": {},
     "output_type": "execute_result"
    }
   ],
   "source": [
    "file.readline()"
   ]
  },
  {
   "cell_type": "code",
   "execution_count": 83,
   "id": "92b61b4d",
   "metadata": {},
   "outputs": [
    {
     "data": {
      "text/plain": [
       "''"
      ]
     },
     "execution_count": 83,
     "metadata": {},
     "output_type": "execute_result"
    }
   ],
   "source": [
    "file.readline() # cursor is at end of the statement"
   ]
  },
  {
   "cell_type": "code",
   "execution_count": 84,
   "id": "2ecb4f38",
   "metadata": {},
   "outputs": [
    {
     "data": {
      "text/plain": [
       "0"
      ]
     },
     "execution_count": 84,
     "metadata": {},
     "output_type": "execute_result"
    }
   ],
   "source": [
    "#reset cursor to the begining\n",
    "file.seek(0)"
   ]
  },
  {
   "cell_type": "code",
   "execution_count": 85,
   "id": "c2b5662d",
   "metadata": {},
   "outputs": [],
   "source": [
    "#for loop to read the line in the file"
   ]
  },
  {
   "cell_type": "code",
   "execution_count": 86,
   "id": "39d03f13",
   "metadata": {},
   "outputs": [
    {
     "name": "stdout",
     "output_type": "stream",
     "text": [
      "My name is Jyotishman\n",
      "\n",
      "I live in Guwahati, Assam\n",
      "\n",
      "I want to become a data scientist\n"
     ]
    }
   ],
   "source": [
    "for i in file:\n",
    "    print(i)"
   ]
  },
  {
   "cell_type": "code",
   "execution_count": 39,
   "id": "e11d4ab3",
   "metadata": {},
   "outputs": [
    {
     "data": {
      "text/plain": [
       "0"
      ]
     },
     "execution_count": 39,
     "metadata": {},
     "output_type": "execute_result"
    }
   ],
   "source": [
    "file.seek(0)"
   ]
  },
  {
   "cell_type": "code",
   "execution_count": 40,
   "id": "902661f8",
   "metadata": {},
   "outputs": [],
   "source": [
    "# to read a aparticular line"
   ]
  },
  {
   "cell_type": "code",
   "execution_count": 41,
   "id": "cc6bf810",
   "metadata": {},
   "outputs": [
    {
     "name": "stdout",
     "output_type": "stream",
     "text": [
      "['My name is Jyotishman\\n', 'I live in Guwahati, Assam\\n', 'I want to become a data scientist\\n']\n"
     ]
    }
   ],
   "source": [
    "l1= file.readlines()\n",
    "print(l1)"
   ]
  },
  {
   "cell_type": "code",
   "execution_count": 45,
   "id": "2ab1e3fc",
   "metadata": {},
   "outputs": [
    {
     "name": "stdout",
     "output_type": "stream",
     "text": [
      "I want to become a data scientist\n",
      "\n"
     ]
    }
   ],
   "source": [
    "print(l1[-1])"
   ]
  },
  {
   "cell_type": "code",
   "execution_count": null,
   "id": "fa80bace",
   "metadata": {},
   "outputs": [],
   "source": [
    "#close a file-important"
   ]
  },
  {
   "cell_type": "code",
   "execution_count": 46,
   "id": "be6f6df2",
   "metadata": {},
   "outputs": [],
   "source": [
    "file.close()"
   ]
  },
  {
   "cell_type": "code",
   "execution_count": 47,
   "id": "d9bb3f69",
   "metadata": {},
   "outputs": [
    {
     "ename": "ValueError",
     "evalue": "I/O operation on closed file.",
     "output_type": "error",
     "traceback": [
      "\u001b[1;31m---------------------------------------------------------------------------\u001b[0m",
      "\u001b[1;31mValueError\u001b[0m                                Traceback (most recent call last)",
      "\u001b[1;32m<ipython-input-47-f3fc120c03c1>\u001b[0m in \u001b[0;36m<module>\u001b[1;34m\u001b[0m\n\u001b[1;32m----> 1\u001b[1;33m \u001b[0mfile\u001b[0m\u001b[1;33m.\u001b[0m\u001b[0mread\u001b[0m\u001b[1;33m(\u001b[0m\u001b[1;33m)\u001b[0m\u001b[1;33m\u001b[0m\u001b[1;33m\u001b[0m\u001b[0m\n\u001b[0m",
      "\u001b[1;31mValueError\u001b[0m: I/O operation on closed file."
     ]
    }
   ],
   "source": [
    "file.read() # close file canont be read"
   ]
  },
  {
   "cell_type": "code",
   "execution_count": null,
   "id": "58d1297b",
   "metadata": {},
   "outputs": [],
   "source": [
    "# Write (w)"
   ]
  },
  {
   "cell_type": "code",
   "execution_count": null,
   "id": "aabe1c86",
   "metadata": {},
   "outputs": [],
   "source": [
    "#write to an exisiting file"
   ]
  },
  {
   "cell_type": "code",
   "execution_count": 53,
   "id": "b2da2563",
   "metadata": {},
   "outputs": [],
   "source": [
    "file= open('file_handling','w')"
   ]
  },
  {
   "cell_type": "code",
   "execution_count": 54,
   "id": "b3753e52",
   "metadata": {},
   "outputs": [
    {
     "data": {
      "text/plain": [
       "24"
      ]
     },
     "execution_count": 54,
     "metadata": {},
     "output_type": "execute_result"
    }
   ],
   "source": [
    "file.write('I want to get a good job')"
   ]
  },
  {
   "cell_type": "code",
   "execution_count": 56,
   "id": "463c0b34",
   "metadata": {},
   "outputs": [],
   "source": [
    "file.close()"
   ]
  },
  {
   "cell_type": "code",
   "execution_count": 58,
   "id": "800c9401",
   "metadata": {},
   "outputs": [],
   "source": [
    "file=open('file_handling','r')"
   ]
  },
  {
   "cell_type": "code",
   "execution_count": 59,
   "id": "81efb71b",
   "metadata": {},
   "outputs": [
    {
     "data": {
      "text/plain": [
       "'I want to get a good job'"
      ]
     },
     "execution_count": 59,
     "metadata": {},
     "output_type": "execute_result"
    }
   ],
   "source": [
    "file.read()"
   ]
  },
  {
   "cell_type": "code",
   "execution_count": null,
   "id": "ae205d36",
   "metadata": {},
   "outputs": [],
   "source": [
    "# write to a new file"
   ]
  },
  {
   "cell_type": "code",
   "execution_count": 88,
   "id": "4b40bfcc",
   "metadata": {},
   "outputs": [],
   "source": [
    "file= open('new_f1','w')\n",
    "file.write('box dox socks fox')\n",
    "file.close()"
   ]
  },
  {
   "cell_type": "code",
   "execution_count": 90,
   "id": "dc7374c8",
   "metadata": {},
   "outputs": [
    {
     "data": {
      "text/plain": [
       "'box dox socks fox'"
      ]
     },
     "execution_count": 90,
     "metadata": {},
     "output_type": "execute_result"
    }
   ],
   "source": [
    "file=open('new_f1','r')\n",
    "file.read()"
   ]
  },
  {
   "cell_type": "code",
   "execution_count": null,
   "id": "cda10079",
   "metadata": {},
   "outputs": [],
   "source": [
    "# Append (a)"
   ]
  },
  {
   "cell_type": "code",
   "execution_count": 96,
   "id": "561a01f4",
   "metadata": {},
   "outputs": [],
   "source": [
    "file=open('file_handling','a')\n",
    "file.write('\\nI want to become a data scientst')\n",
    "file.close()"
   ]
  },
  {
   "cell_type": "code",
   "execution_count": 97,
   "id": "dc8fabe9",
   "metadata": {},
   "outputs": [
    {
     "data": {
      "text/plain": [
       "'My name is Jyotishman\\nI live in Guwahati, Assam\\nI want to become a data scientist\\nI want to become a data scientst\\nI want to become a data scientst'"
      ]
     },
     "execution_count": 97,
     "metadata": {},
     "output_type": "execute_result"
    }
   ],
   "source": [
    "file=open('file_handling')\n",
    "file.read()"
   ]
  },
  {
   "cell_type": "code",
   "execution_count": null,
   "id": "91df26ae",
   "metadata": {},
   "outputs": [],
   "source": [
    "#With-When we use with statement for handling files, all the cleanup will be automatically done\n",
    "#open and close are done automaticly"
   ]
  },
  {
   "cell_type": "code",
   "execution_count": null,
   "id": "f1da68a2",
   "metadata": {},
   "outputs": [],
   "source": [
    "# to open"
   ]
  },
  {
   "cell_type": "code",
   "execution_count": 99,
   "id": "5450dad5",
   "metadata": {},
   "outputs": [
    {
     "name": "stdout",
     "output_type": "stream",
     "text": [
      "box dox socks fox\n"
     ]
    }
   ],
   "source": [
    "with open ('new_f1') as file:\n",
    "    a=file.read()\n",
    "    print(a)"
   ]
  },
  {
   "cell_type": "code",
   "execution_count": null,
   "id": "561c9381",
   "metadata": {},
   "outputs": [],
   "source": [
    "# to append"
   ]
  },
  {
   "cell_type": "code",
   "execution_count": 102,
   "id": "8a10de09",
   "metadata": {},
   "outputs": [],
   "source": [
    "with open ('new_f1','a') as file:\n",
    "    b=file.write('\\nJumble words')"
   ]
  },
  {
   "cell_type": "code",
   "execution_count": 104,
   "id": "21ff9fad",
   "metadata": {},
   "outputs": [
    {
     "data": {
      "text/plain": [
       "'box dox socks fox\\nJumble words\\nJumble words\\nJumble words'"
      ]
     },
     "execution_count": 104,
     "metadata": {},
     "output_type": "execute_result"
    }
   ],
   "source": [
    "file=open('new_f1')\n",
    "file.read()"
   ]
  },
  {
   "cell_type": "code",
   "execution_count": null,
   "id": "372147fc",
   "metadata": {},
   "outputs": [],
   "source": [
    "# to write"
   ]
  },
  {
   "cell_type": "code",
   "execution_count": 106,
   "id": "147222e1",
   "metadata": {},
   "outputs": [],
   "source": [
    "with open ('new_f2','w') as file:\n",
    "    c=file.write('This is a new file')"
   ]
  },
  {
   "cell_type": "code",
   "execution_count": 107,
   "id": "9b4d3f8d",
   "metadata": {},
   "outputs": [
    {
     "data": {
      "text/plain": [
       "'This is a new file'"
      ]
     },
     "execution_count": 107,
     "metadata": {},
     "output_type": "execute_result"
    }
   ],
   "source": [
    "file=open('new_f2')\n",
    "file.read()"
   ]
  },
  {
   "cell_type": "code",
   "execution_count": null,
   "id": "d317d5eb",
   "metadata": {},
   "outputs": [],
   "source": []
  }
 ],
 "metadata": {
  "kernelspec": {
   "display_name": "Python 3",
   "language": "python",
   "name": "python3"
  },
  "language_info": {
   "codemirror_mode": {
    "name": "ipython",
    "version": 3
   },
   "file_extension": ".py",
   "mimetype": "text/x-python",
   "name": "python",
   "nbconvert_exporter": "python",
   "pygments_lexer": "ipython3",
   "version": "3.8.8"
  }
 },
 "nbformat": 4,
 "nbformat_minor": 5
}
