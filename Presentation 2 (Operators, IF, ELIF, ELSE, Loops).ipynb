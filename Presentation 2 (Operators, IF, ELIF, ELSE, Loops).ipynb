{
 "cells": [
  {
   "cell_type": "code",
   "execution_count": null,
   "id": "c847930a",
   "metadata": {},
   "outputs": [],
   "source": [
    "# Operators: There are 4 type of operators in python\n",
    "# Arithmatic Operators\n",
    "# Assignment Operators\n",
    "# Comparision Operators\n",
    "# Logical Operators"
   ]
  },
  {
   "cell_type": "code",
   "execution_count": null,
   "id": "5edecc82",
   "metadata": {},
   "outputs": [],
   "source": [
    "# Arithmatic Operators ( + , - , * , / , // , % , ** ) : these operators are used for calculations"
   ]
  },
  {
   "cell_type": "code",
   "execution_count": 1,
   "id": "9648f3e2",
   "metadata": {},
   "outputs": [],
   "source": [
    "x=9\n",
    "y=5"
   ]
  },
  {
   "cell_type": "code",
   "execution_count": 2,
   "id": "3beb05f7",
   "metadata": {},
   "outputs": [
    {
     "data": {
      "text/plain": [
       "14"
      ]
     },
     "execution_count": 2,
     "metadata": {},
     "output_type": "execute_result"
    }
   ],
   "source": [
    "#addition\n",
    "a=x+y\n",
    "a"
   ]
  },
  {
   "cell_type": "code",
   "execution_count": 3,
   "id": "6d0be9bc",
   "metadata": {},
   "outputs": [
    {
     "data": {
      "text/plain": [
       "4"
      ]
     },
     "execution_count": 3,
     "metadata": {},
     "output_type": "execute_result"
    }
   ],
   "source": [
    "#Subtraction\n",
    "a=x-y\n",
    "a"
   ]
  },
  {
   "cell_type": "code",
   "execution_count": 4,
   "id": "4a32361f",
   "metadata": {},
   "outputs": [
    {
     "data": {
      "text/plain": [
       "45"
      ]
     },
     "execution_count": 4,
     "metadata": {},
     "output_type": "execute_result"
    }
   ],
   "source": [
    "#Multiplication\n",
    "a=x*y\n",
    "a"
   ]
  },
  {
   "cell_type": "code",
   "execution_count": 5,
   "id": "d46c9160",
   "metadata": {},
   "outputs": [
    {
     "data": {
      "text/plain": [
       "1.8"
      ]
     },
     "execution_count": 5,
     "metadata": {},
     "output_type": "execute_result"
    }
   ],
   "source": [
    "#Division\n",
    "a=x/y\n",
    "a"
   ]
  },
  {
   "cell_type": "code",
   "execution_count": 6,
   "id": "e877bbdd",
   "metadata": {},
   "outputs": [
    {
     "data": {
      "text/plain": [
       "1"
      ]
     },
     "execution_count": 6,
     "metadata": {},
     "output_type": "execute_result"
    }
   ],
   "source": [
    "#Floor division\n",
    "a=x//y\n",
    "a"
   ]
  },
  {
   "cell_type": "code",
   "execution_count": 7,
   "id": "68fd502e",
   "metadata": {},
   "outputs": [
    {
     "data": {
      "text/plain": [
       "4"
      ]
     },
     "execution_count": 7,
     "metadata": {},
     "output_type": "execute_result"
    }
   ],
   "source": [
    "#Remainder\n",
    "a=x%y\n",
    "a"
   ]
  },
  {
   "cell_type": "code",
   "execution_count": 8,
   "id": "85acd306",
   "metadata": {},
   "outputs": [
    {
     "data": {
      "text/plain": [
       "59049"
      ]
     },
     "execution_count": 8,
     "metadata": {},
     "output_type": "execute_result"
    }
   ],
   "source": [
    "#to the power\n",
    "a=x**y\n",
    "a"
   ]
  },
  {
   "cell_type": "code",
   "execution_count": null,
   "id": "d47de84f",
   "metadata": {},
   "outputs": [],
   "source": [
    "# Assignment Operators ( = , += , -= , *= , /= ): these operators are used for assigning values"
   ]
  },
  {
   "cell_type": "code",
   "execution_count": 9,
   "id": "b8c228ce",
   "metadata": {},
   "outputs": [
    {
     "data": {
      "text/plain": [
       "9"
      ]
     },
     "execution_count": 9,
     "metadata": {},
     "output_type": "execute_result"
    }
   ],
   "source": [
    "x=9\n",
    "x"
   ]
  },
  {
   "cell_type": "code",
   "execution_count": 10,
   "id": "a382d3dd",
   "metadata": {},
   "outputs": [
    {
     "data": {
      "text/plain": [
       "12"
      ]
     },
     "execution_count": 10,
     "metadata": {},
     "output_type": "execute_result"
    }
   ],
   "source": [
    "x+=3\n",
    "x"
   ]
  },
  {
   "cell_type": "code",
   "execution_count": 11,
   "id": "fbaa34c2",
   "metadata": {},
   "outputs": [
    {
     "data": {
      "text/plain": [
       "9"
      ]
     },
     "execution_count": 11,
     "metadata": {},
     "output_type": "execute_result"
    }
   ],
   "source": [
    "x-=3\n",
    "x"
   ]
  },
  {
   "cell_type": "code",
   "execution_count": 12,
   "id": "adbc54ab",
   "metadata": {},
   "outputs": [
    {
     "data": {
      "text/plain": [
       "27"
      ]
     },
     "execution_count": 12,
     "metadata": {},
     "output_type": "execute_result"
    }
   ],
   "source": [
    "x*=3\n",
    "x"
   ]
  },
  {
   "cell_type": "code",
   "execution_count": 13,
   "id": "c625efa2",
   "metadata": {},
   "outputs": [
    {
     "data": {
      "text/plain": [
       "9.0"
      ]
     },
     "execution_count": 13,
     "metadata": {},
     "output_type": "execute_result"
    }
   ],
   "source": [
    "x/=3\n",
    "x"
   ]
  },
  {
   "cell_type": "code",
   "execution_count": null,
   "id": "32271755",
   "metadata": {},
   "outputs": [],
   "source": [
    "#Comparision Operators ( == , != , > , < , >= , <= )"
   ]
  },
  {
   "cell_type": "code",
   "execution_count": 14,
   "id": "78cd4c5f",
   "metadata": {},
   "outputs": [],
   "source": [
    "x=9\n",
    "y=5"
   ]
  },
  {
   "cell_type": "code",
   "execution_count": 15,
   "id": "b67264da",
   "metadata": {},
   "outputs": [
    {
     "data": {
      "text/plain": [
       "False"
      ]
     },
     "execution_count": 15,
     "metadata": {},
     "output_type": "execute_result"
    }
   ],
   "source": [
    "x==y"
   ]
  },
  {
   "cell_type": "code",
   "execution_count": 16,
   "id": "a600af86",
   "metadata": {},
   "outputs": [
    {
     "data": {
      "text/plain": [
       "True"
      ]
     },
     "execution_count": 16,
     "metadata": {},
     "output_type": "execute_result"
    }
   ],
   "source": [
    "x!=y"
   ]
  },
  {
   "cell_type": "code",
   "execution_count": 17,
   "id": "6e27f371",
   "metadata": {},
   "outputs": [
    {
     "data": {
      "text/plain": [
       "True"
      ]
     },
     "execution_count": 17,
     "metadata": {},
     "output_type": "execute_result"
    }
   ],
   "source": [
    "x>y"
   ]
  },
  {
   "cell_type": "code",
   "execution_count": 18,
   "id": "501fbf64",
   "metadata": {},
   "outputs": [
    {
     "data": {
      "text/plain": [
       "False"
      ]
     },
     "execution_count": 18,
     "metadata": {},
     "output_type": "execute_result"
    }
   ],
   "source": [
    "x<y"
   ]
  },
  {
   "cell_type": "code",
   "execution_count": 19,
   "id": "ced45561",
   "metadata": {},
   "outputs": [
    {
     "data": {
      "text/plain": [
       "True"
      ]
     },
     "execution_count": 19,
     "metadata": {},
     "output_type": "execute_result"
    }
   ],
   "source": [
    "x>=y"
   ]
  },
  {
   "cell_type": "code",
   "execution_count": 20,
   "id": "84b651f9",
   "metadata": {},
   "outputs": [
    {
     "data": {
      "text/plain": [
       "False"
      ]
     },
     "execution_count": 20,
     "metadata": {},
     "output_type": "execute_result"
    }
   ],
   "source": [
    "x<=y"
   ]
  },
  {
   "cell_type": "code",
   "execution_count": null,
   "id": "88fdb309",
   "metadata": {},
   "outputs": [],
   "source": [
    "#Logical operators ( or , and , not )"
   ]
  },
  {
   "cell_type": "code",
   "execution_count": 36,
   "id": "278b6a40",
   "metadata": {},
   "outputs": [],
   "source": [
    "x = True\n",
    "Y = False"
   ]
  },
  {
   "cell_type": "code",
   "execution_count": 37,
   "id": "ad796828",
   "metadata": {},
   "outputs": [
    {
     "data": {
      "text/plain": [
       "True"
      ]
     },
     "execution_count": 37,
     "metadata": {},
     "output_type": "execute_result"
    }
   ],
   "source": [
    "x or y"
   ]
  },
  {
   "cell_type": "code",
   "execution_count": 38,
   "id": "cd6ddfd8",
   "metadata": {},
   "outputs": [
    {
     "data": {
      "text/plain": [
       "False"
      ]
     },
     "execution_count": 38,
     "metadata": {},
     "output_type": "execute_result"
    }
   ],
   "source": [
    "x and Y"
   ]
  },
  {
   "cell_type": "code",
   "execution_count": 40,
   "id": "f1dd4d1f",
   "metadata": {},
   "outputs": [
    {
     "data": {
      "text/plain": [
       "True"
      ]
     },
     "execution_count": 40,
     "metadata": {},
     "output_type": "execute_result"
    }
   ],
   "source": [
    "not Y"
   ]
  },
  {
   "cell_type": "code",
   "execution_count": null,
   "id": "a429d5bb",
   "metadata": {},
   "outputs": [],
   "source": [
    "#If statement is a condition\n",
    "\"\"\"\n",
    "Syntax: if(condition/s):\n",
    "    stat1\n",
    "    stat2\n",
    "\"\"\""
   ]
  },
  {
   "cell_type": "code",
   "execution_count": 41,
   "id": "e3b3db41",
   "metadata": {},
   "outputs": [
    {
     "name": "stdout",
     "output_type": "stream",
     "text": [
      "both number are same\n"
     ]
    }
   ],
   "source": [
    "a=9\n",
    "b=9\n",
    "if(a==b):\n",
    "    print('both number are same')"
   ]
  },
  {
   "cell_type": "code",
   "execution_count": 42,
   "id": "c31b2567",
   "metadata": {},
   "outputs": [
    {
     "name": "stdout",
     "output_type": "stream",
     "text": [
      "different number\n"
     ]
    }
   ],
   "source": [
    "a=10\n",
    "b=9\n",
    "if (a!=b):\n",
    "    print('different number')"
   ]
  },
  {
   "cell_type": "code",
   "execution_count": null,
   "id": "16f5300f",
   "metadata": {},
   "outputs": [],
   "source": [
    "#Indentation"
   ]
  },
  {
   "cell_type": "code",
   "execution_count": 47,
   "id": "13cbfa0e",
   "metadata": {},
   "outputs": [
    {
     "name": "stdout",
     "output_type": "stream",
     "text": [
      "hola\n",
      "cola\n"
     ]
    }
   ],
   "source": [
    "if (a!=b):\n",
    "    print('hola')#proper indentation\n",
    "print('cola')#proper indentation"
   ]
  },
  {
   "cell_type": "code",
   "execution_count": null,
   "id": "c07440c8",
   "metadata": {},
   "outputs": [],
   "source": [
    "#If , Else statement\n",
    "#Syntax:\n",
    "\"\"\"\n",
    "syntax of if else\n",
    "\n",
    "if(condition/s):\n",
    "    statement1\n",
    "    statement2\n",
    "    ..........\n",
    "else:\n",
    "    statement1\n",
    "    statement2\n",
    "    ..........\n",
    "\"\"\""
   ]
  },
  {
   "cell_type": "code",
   "execution_count": 48,
   "id": "0ac8399a",
   "metadata": {},
   "outputs": [
    {
     "name": "stdout",
     "output_type": "stream",
     "text": [
      "numbers are not equal\n"
     ]
    }
   ],
   "source": [
    "a=4\n",
    "b=3\n",
    "if (a==b):\n",
    "    print('numbers are equal')\n",
    "else:\n",
    "    print('numbers are not equal')"
   ]
  },
  {
   "cell_type": "code",
   "execution_count": 49,
   "id": "c6c17cc4",
   "metadata": {},
   "outputs": [
    {
     "name": "stdout",
     "output_type": "stream",
     "text": [
      "a is greater than b\n"
     ]
    }
   ],
   "source": [
    "if(a>b):\n",
    "    print('a is greater than b')\n",
    "else:\n",
    "    print('a is not greater than b')"
   ]
  },
  {
   "cell_type": "code",
   "execution_count": null,
   "id": "f0cd4f22",
   "metadata": {},
   "outputs": [],
   "source": [
    "# If, Elif, Else\n",
    "# Syntax: \n",
    "\"\"\"\"\n",
    "if(condition/s):\n",
    "    statement1\n",
    "    statement2\n",
    "    ..........\n",
    "elif(condition/s):\n",
    "    statement1\n",
    "    statement2\n",
    "    ..........\n",
    "else:\n",
    "    statement1\n",
    "    statement2\n",
    "    ..........\n",
    "\"\"\"\""
   ]
  },
  {
   "cell_type": "code",
   "execution_count": 50,
   "id": "076b0c70",
   "metadata": {},
   "outputs": [
    {
     "name": "stdout",
     "output_type": "stream",
     "text": [
      "a greater than b\n"
     ]
    }
   ],
   "source": [
    "a=4\n",
    "b=3\n",
    "if(a==b):\n",
    "    print('a equals to b')\n",
    "elif(a>b):\n",
    "    print('a greater than b')\n",
    "else:\n",
    "    print('a less than b')"
   ]
  },
  {
   "cell_type": "code",
   "execution_count": null,
   "id": "af211f18",
   "metadata": {},
   "outputs": [],
   "source": [
    "#Multiple conditions using operator"
   ]
  },
  {
   "cell_type": "code",
   "execution_count": 51,
   "id": "ddea8bf1",
   "metadata": {},
   "outputs": [
    {
     "name": "stdout",
     "output_type": "stream",
     "text": [
      "ok\n"
     ]
    }
   ],
   "source": [
    "if(a>0 or a%2==0 or a%3==0):\n",
    "    print('ok')\n",
    "else:\n",
    "    print('Not ok')"
   ]
  },
  {
   "cell_type": "code",
   "execution_count": null,
   "id": "b8f25adc",
   "metadata": {},
   "outputs": [],
   "source": [
    "#Nested if"
   ]
  },
  {
   "cell_type": "code",
   "execution_count": 52,
   "id": "6d7d9eea",
   "metadata": {},
   "outputs": [
    {
     "name": "stdout",
     "output_type": "stream",
     "text": [
      "positive\n",
      "divisible by 2\n"
     ]
    }
   ],
   "source": [
    "a=16\n",
    "if (a>0):\n",
    "    print('positive')\n",
    "    if(a%2==0):\n",
    "        print('divisible by 2')\n",
    "    elif(a%3==0):\n",
    "        print('divisible by 3')\n",
    "    else:\n",
    "        print('not divisible by 3 0r 4')\n",
    "else:\n",
    "    print('negative number')"
   ]
  },
  {
   "cell_type": "code",
   "execution_count": 53,
   "id": "1430c2e3",
   "metadata": {},
   "outputs": [
    {
     "name": "stdout",
     "output_type": "stream",
     "text": [
      "num1:2.1\n",
      "num2:3\n",
      "Press 1 for addition | press 2 for subtraction | press 3 for Multiplication | press 4 for division\n",
      "Please press the number for your desired operation:3\n",
      "2.1 , 3 , 3.0 = 6.300000000000001\n"
     ]
    }
   ],
   "source": [
    "# Example: \n",
    "\n",
    "x=float(input('num1:'))\n",
    "y=float(input('num2:'))\n",
    "print('Press 1 for addition | press 2 for subtraction | press 3 for Multiplication | press 4 for division')\n",
    "z=int(input('Please press the number for your desired operation:'))\n",
    "\n",
    "\n",
    "if z== 1:\n",
    "    result = x+y\n",
    "elif z== 2:\n",
    "    result = x-y\n",
    "elif z==3:\n",
    "    result = x*y\n",
    "elif z==4:\n",
    "    result = x/y\n",
    "else:\n",
    "    result = 'Invalid Input'\n",
    "    \n",
    "print(x,',',z,',',y,'=',result)"
   ]
  },
  {
   "cell_type": "code",
   "execution_count": null,
   "id": "c73f6f78",
   "metadata": {},
   "outputs": [],
   "source": [
    "# LOOPS: purpose of loops is to repeat the same, or similar, code a number of times.\n",
    "# There are 2 types of Loops:\n",
    "    # While Loops\n",
    "    # For loops"
   ]
  },
  {
   "cell_type": "code",
   "execution_count": null,
   "id": "fd488427",
   "metadata": {},
   "outputs": [],
   "source": [
    "# While loops\n",
    "#Syntax:\n",
    "\"\"\"\n",
    "syntax\n",
    "\n",
    "while(condition/s):\n",
    "    statement1\n",
    "    statement2\n",
    "    ..........\n",
    "\"\"\""
   ]
  },
  {
   "cell_type": "code",
   "execution_count": 56,
   "id": "164a8471",
   "metadata": {},
   "outputs": [
    {
     "name": "stdout",
     "output_type": "stream",
     "text": [
      "1\n",
      "2\n",
      "3\n",
      "4\n",
      "5\n",
      "6\n",
      "7\n",
      "8\n",
      "9\n",
      "10\n"
     ]
    }
   ],
   "source": [
    "#print numbers 1 to 10\n",
    "x=1\n",
    "while(x<11):\n",
    "    print(x)#putting the condition below print gives the output from x=1\n",
    "    x=x+1"
   ]
  },
  {
   "cell_type": "code",
   "execution_count": null,
   "id": "7704f824",
   "metadata": {},
   "outputs": [],
   "source": [
    "#while - else : to confirm while loop has finished its execution and to do some operations after while loop then we can make use of \"else\""
   ]
  },
  {
   "cell_type": "code",
   "execution_count": 57,
   "id": "206cdf1e",
   "metadata": {},
   "outputs": [
    {
     "name": "stdout",
     "output_type": "stream",
     "text": [
      "1\n",
      "2\n",
      "3\n",
      "4\n",
      "5\n",
      "6\n",
      "7\n",
      "8\n",
      "9\n",
      "10\n",
      "End of Loop - X is either equal to or greater than 11\n",
      "11\n"
     ]
    }
   ],
   "source": [
    "x=1\n",
    "while(x<11):\n",
    "    print(x)\n",
    "    x=x+1\n",
    "else:\n",
    "    print('End of Loop - X is either equal to or greater than 11')\n",
    "    print(x)"
   ]
  },
  {
   "cell_type": "code",
   "execution_count": null,
   "id": "93a31c34",
   "metadata": {},
   "outputs": [],
   "source": [
    "#Continue: skip the conditon output, but continue with the next iteration"
   ]
  },
  {
   "cell_type": "code",
   "execution_count": 58,
   "id": "faeb1b19",
   "metadata": {},
   "outputs": [
    {
     "name": "stdout",
     "output_type": "stream",
     "text": [
      "1\n",
      "3\n",
      "5\n",
      "7\n",
      "9\n",
      "11\n"
     ]
    }
   ],
   "source": [
    "# print only odd numbers between 1-10\n",
    "x=0\n",
    "while (x<11):\n",
    "    x=x+1\n",
    "    if(x%2==0):\n",
    "        continue\n",
    "    print(x)"
   ]
  },
  {
   "cell_type": "code",
   "execution_count": 59,
   "id": "53c50a85",
   "metadata": {},
   "outputs": [
    {
     "name": "stdout",
     "output_type": "stream",
     "text": [
      "1\n",
      "2\n",
      "3\n",
      "4\n",
      "5\n"
     ]
    }
   ],
   "source": [
    "#Break: is used to break out of the loop or come out of the loop\n",
    "#if count has reached 5 then break\n",
    "count = 1\n",
    "while(count<11):\n",
    "    if(count == 5):\n",
    "        print(count)\n",
    "        break\n",
    "    else:\n",
    "        print(count)\n",
    "        count = count + 1"
   ]
  },
  {
   "cell_type": "code",
   "execution_count": null,
   "id": "67f933c7",
   "metadata": {},
   "outputs": [],
   "source": [
    "#For loop: used to loop over a sequence.\n",
    "# Sequence can be anything like strings,Lists,Tuples,Dictionaries,Sets etc"
   ]
  },
  {
   "cell_type": "code",
   "execution_count": 60,
   "id": "9b5c762f",
   "metadata": {},
   "outputs": [
    {
     "name": "stdout",
     "output_type": "stream",
     "text": [
      "A\n",
      "p\n",
      "p\n",
      "l\n",
      "e\n"
     ]
    }
   ],
   "source": [
    "#for loop with string\n",
    "a=\"Apple\"\n",
    "for i in a:\n",
    "    print(i)"
   ]
  },
  {
   "cell_type": "code",
   "execution_count": 61,
   "id": "9afa9a57",
   "metadata": {},
   "outputs": [
    {
     "name": "stdout",
     "output_type": "stream",
     "text": [
      "1\n",
      "2\n",
      "3\n",
      "4\n",
      "5\n",
      "6\n"
     ]
    }
   ],
   "source": [
    "#looping over list\n",
    "a=[1,2,3,4,5,6]\n",
    "for i in a:\n",
    "    print(i)"
   ]
  },
  {
   "cell_type": "code",
   "execution_count": null,
   "id": "3b4f7e59",
   "metadata": {},
   "outputs": [],
   "source": [
    "#looping over range\n",
    "# start = starting position (default value is 0)\n",
    "# stop = end position(exclusive) (default value is end position)\n",
    "# step = step size or increment size (default value is 1)"
   ]
  },
  {
   "cell_type": "code",
   "execution_count": 63,
   "id": "7dc44aac",
   "metadata": {},
   "outputs": [
    {
     "name": "stdout",
     "output_type": "stream",
     "text": [
      "0\n",
      "1\n",
      "2\n",
      "3\n",
      "4\n",
      "5\n",
      "6\n",
      "7\n",
      "8\n",
      "9\n",
      "10\n",
      "11\n",
      "12\n",
      "13\n",
      "14\n",
      "15\n",
      "16\n",
      "17\n",
      "18\n",
      "19\n"
     ]
    }
   ],
   "source": [
    "for i in range(20):\n",
    "    print (i)"
   ]
  },
  {
   "cell_type": "code",
   "execution_count": 64,
   "id": "12da0e9b",
   "metadata": {},
   "outputs": [
    {
     "name": "stdout",
     "output_type": "stream",
     "text": [
      "1\n",
      "2\n",
      "3\n",
      "4\n",
      "5\n",
      "6\n",
      "7\n",
      "8\n",
      "9\n"
     ]
    }
   ],
   "source": [
    "for i in range(1,10):\n",
    "    print (i)"
   ]
  },
  {
   "cell_type": "code",
   "execution_count": 65,
   "id": "67d88c3c",
   "metadata": {},
   "outputs": [
    {
     "name": "stdout",
     "output_type": "stream",
     "text": [
      "1\n",
      "4\n",
      "7\n"
     ]
    }
   ],
   "source": [
    "for i in range(1,10,3):\n",
    "    print(i)"
   ]
  },
  {
   "cell_type": "code",
   "execution_count": 66,
   "id": "e6aa7ca1",
   "metadata": {},
   "outputs": [
    {
     "name": "stdout",
     "output_type": "stream",
     "text": [
      "15\n",
      "14\n",
      "13\n",
      "12\n",
      "11\n",
      "10\n",
      "9\n",
      "8\n",
      "7\n",
      "6\n",
      "5\n",
      "4\n",
      "3\n",
      "2\n",
      "1\n"
     ]
    }
   ],
   "source": [
    "#looping in reverse order\n",
    "for i in range(15,0,-1):\n",
    "    print(i)"
   ]
  },
  {
   "cell_type": "code",
   "execution_count": null,
   "id": "0f2d6bd9",
   "metadata": {},
   "outputs": [],
   "source": [
    "# Pass: helsp in avoiding getting an error when empty code is not allowed"
   ]
  },
  {
   "cell_type": "code",
   "execution_count": 67,
   "id": "ed563f05",
   "metadata": {},
   "outputs": [
    {
     "name": "stdout",
     "output_type": "stream",
     "text": [
      "0\n",
      "1\n",
      "2\n",
      "3\n",
      "4\n",
      "5\n",
      "6\n",
      "7\n",
      "8\n",
      "9\n",
      "10\n",
      "11\n",
      "12\n",
      "13\n",
      "14\n",
      "15\n",
      "16\n",
      "17\n",
      "18\n",
      "19\n"
     ]
    }
   ],
   "source": [
    "# Using pass statement\n",
    "for i in range(20):\n",
    "    if (i>10):\n",
    "        pass\n",
    "    print(i)"
   ]
  },
  {
   "cell_type": "code",
   "execution_count": null,
   "id": "d0b90d3a",
   "metadata": {},
   "outputs": [],
   "source": []
  },
  {
   "cell_type": "code",
   "execution_count": null,
   "id": "c2e747d6",
   "metadata": {},
   "outputs": [],
   "source": []
  }
 ],
 "metadata": {
  "kernelspec": {
   "display_name": "Python 3",
   "language": "python",
   "name": "python3"
  },
  "language_info": {
   "codemirror_mode": {
    "name": "ipython",
    "version": 3
   },
   "file_extension": ".py",
   "mimetype": "text/x-python",
   "name": "python",
   "nbconvert_exporter": "python",
   "pygments_lexer": "ipython3",
   "version": "3.8.8"
  }
 },
 "nbformat": 4,
 "nbformat_minor": 5
}
