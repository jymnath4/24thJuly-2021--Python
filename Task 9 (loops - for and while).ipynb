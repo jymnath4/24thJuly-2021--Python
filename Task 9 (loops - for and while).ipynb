{
 "cells": [
  {
   "cell_type": "code",
   "execution_count": null,
   "id": "faf3a397",
   "metadata": {},
   "outputs": [],
   "source": [
    "#Tasks"
   ]
  },
  {
   "cell_type": "code",
   "execution_count": null,
   "id": "7d1fd2a5",
   "metadata": {},
   "outputs": [],
   "source": [
    "#what is the uasge of continue wiith an example"
   ]
  },
  {
   "cell_type": "code",
   "execution_count": null,
   "id": "3d3336e0",
   "metadata": {},
   "outputs": [],
   "source": [
    "#Continue- skip the conditon output, but continue with the next iteration"
   ]
  },
  {
   "cell_type": "code",
   "execution_count": 34,
   "id": "49b81360",
   "metadata": {},
   "outputs": [
    {
     "name": "stdout",
     "output_type": "stream",
     "text": [
      "o\n",
      "l\n",
      "y\n",
      "g\n",
      "o\n",
      "n\n"
     ]
    }
   ],
   "source": [
    "for letter in 'Polygon':\n",
    "   if letter == 'P':\n",
    "      continue\n",
    "   print (letter)"
   ]
  },
  {
   "cell_type": "code",
   "execution_count": null,
   "id": "a6c77efe",
   "metadata": {},
   "outputs": [],
   "source": [
    "#What is pass keyword, with example"
   ]
  },
  {
   "cell_type": "code",
   "execution_count": null,
   "id": "4d4bdbb6",
   "metadata": {},
   "outputs": [],
   "source": [
    "#Pass- helsp in avoiding getting an error when empty code is not allowed.(Empty code is not allowed in loops,if else conditions,functions,Classes etc)"
   ]
  },
  {
   "cell_type": "code",
   "execution_count": 41,
   "id": "e95058d5",
   "metadata": {},
   "outputs": [
    {
     "name": "stdout",
     "output_type": "stream",
     "text": [
      "15\n",
      "16\n",
      "17\n",
      "18\n",
      "19\n"
     ]
    }
   ],
   "source": [
    "for i in range(20):\n",
    "    if (i>14):\n",
    "        print(i)\n",
    "    else:\n",
    "        pass"
   ]
  },
  {
   "cell_type": "code",
   "execution_count": null,
   "id": "4f4d195e",
   "metadata": {},
   "outputs": [],
   "source": [
    "#using while loop print numbers from 10 to 1"
   ]
  },
  {
   "cell_type": "code",
   "execution_count": 43,
   "id": "137f1e09",
   "metadata": {},
   "outputs": [
    {
     "name": "stdout",
     "output_type": "stream",
     "text": [
      "10\n",
      "9\n",
      "8\n",
      "7\n",
      "6\n",
      "5\n",
      "4\n",
      "3\n",
      "2\n",
      "1\n"
     ]
    }
   ],
   "source": [
    "x=10\n",
    "while(x>0):\n",
    "    print(x)\n",
    "    x=x-1"
   ]
  },
  {
   "cell_type": "code",
   "execution_count": null,
   "id": "da028a0a",
   "metadata": {},
   "outputs": [],
   "source": [
    "#try using for loop to loop over tuples,sets and dictionaries"
   ]
  },
  {
   "cell_type": "code",
   "execution_count": 45,
   "id": "fbbdee44",
   "metadata": {},
   "outputs": [],
   "source": [
    "a=(10,'hello',1.9)#tuple"
   ]
  },
  {
   "cell_type": "code",
   "execution_count": 46,
   "id": "4be35936",
   "metadata": {},
   "outputs": [
    {
     "name": "stdout",
     "output_type": "stream",
     "text": [
      "10\n",
      "hello\n",
      "1.9\n"
     ]
    }
   ],
   "source": [
    "for i in a:\n",
    "    print(i)"
   ]
  },
  {
   "cell_type": "code",
   "execution_count": 47,
   "id": "d8a02828",
   "metadata": {},
   "outputs": [],
   "source": [
    "a={'a','b',1,2,3.2,'good'}#set"
   ]
  },
  {
   "cell_type": "code",
   "execution_count": 48,
   "id": "1993796c",
   "metadata": {},
   "outputs": [
    {
     "name": "stdout",
     "output_type": "stream",
     "text": [
      "1\n",
      "2\n",
      "3.2\n",
      "b\n",
      "good\n",
      "a\n"
     ]
    }
   ],
   "source": [
    "for i in a:\n",
    "    print(i)"
   ]
  },
  {
   "cell_type": "code",
   "execution_count": 51,
   "id": "ed2389b7",
   "metadata": {},
   "outputs": [],
   "source": [
    "a={'name': \"Jyotishman\",\n",
    "   \"age\":\"28\",\n",
    "  'sex': 'M'}"
   ]
  },
  {
   "cell_type": "code",
   "execution_count": 55,
   "id": "bfa1314a",
   "metadata": {},
   "outputs": [
    {
     "name": "stdout",
     "output_type": "stream",
     "text": [
      "[('name', 'Jyotishman'), ('age', '28'), ('sex', 'M')]\n",
      "[('name', 'Jyotishman'), ('age', '28'), ('sex', 'M')]\n",
      "[('name', 'Jyotishman'), ('age', '28'), ('sex', 'M')]\n"
     ]
    }
   ],
   "source": [
    "for i in a:\n",
    "    print(list(a.items()))"
   ]
  },
  {
   "cell_type": "code",
   "execution_count": null,
   "id": "e4010093",
   "metadata": {},
   "outputs": [],
   "source": [
    "#Practice"
   ]
  },
  {
   "cell_type": "code",
   "execution_count": null,
   "id": "e9452992",
   "metadata": {},
   "outputs": [],
   "source": [
    "#While loop"
   ]
  },
  {
   "cell_type": "code",
   "execution_count": null,
   "id": "fd954c7d",
   "metadata": {},
   "outputs": [],
   "source": [
    "#print numbers 1 to 10"
   ]
  },
  {
   "cell_type": "code",
   "execution_count": 2,
   "id": "bd472d2a",
   "metadata": {},
   "outputs": [
    {
     "name": "stdout",
     "output_type": "stream",
     "text": [
      "1\n",
      "2\n",
      "3\n",
      "4\n",
      "5\n",
      "6\n",
      "7\n",
      "8\n",
      "9\n",
      "10\n"
     ]
    }
   ],
   "source": [
    "x=1\n",
    "while(x<11):\n",
    "    print(x)#putting the condition below print gives the utput from x=1\n",
    "    x=x+1"
   ]
  },
  {
   "cell_type": "code",
   "execution_count": 3,
   "id": "b6d0bc08",
   "metadata": {},
   "outputs": [
    {
     "name": "stdout",
     "output_type": "stream",
     "text": [
      "2\n",
      "3\n",
      "4\n",
      "5\n",
      "6\n",
      "7\n",
      "8\n",
      "9\n",
      "10\n",
      "11\n"
     ]
    }
   ],
   "source": [
    "x=1\n",
    "while(x<11):\n",
    "    x=x+1\n",
    "    print(x)#putting the condition above print gives the utput from x+1=2\n",
    "    "
   ]
  },
  {
   "cell_type": "code",
   "execution_count": null,
   "id": "3b53a74a",
   "metadata": {},
   "outputs": [],
   "source": [
    "#while - else"
   ]
  },
  {
   "cell_type": "code",
   "execution_count": 7,
   "id": "b819e929",
   "metadata": {},
   "outputs": [
    {
     "name": "stdout",
     "output_type": "stream",
     "text": [
      "1\n",
      "2\n",
      "3\n",
      "4\n",
      "5\n",
      "6\n",
      "7\n",
      "8\n",
      "9\n",
      "10\n",
      "End of Loop - X is either equal to or greater than 11\n",
      "11\n"
     ]
    }
   ],
   "source": [
    "x=1\n",
    "while(x<11):\n",
    "    print(x)\n",
    "    x=x+1\n",
    "else:\n",
    "    print('End of Loop - X is either equal to or greater than 11')\n",
    "    print(x)"
   ]
  },
  {
   "cell_type": "code",
   "execution_count": null,
   "id": "6801aa52",
   "metadata": {},
   "outputs": [],
   "source": [
    "#if x has reached 8 then break loop"
   ]
  },
  {
   "cell_type": "code",
   "execution_count": 10,
   "id": "85962bf8",
   "metadata": {},
   "outputs": [
    {
     "name": "stdout",
     "output_type": "stream",
     "text": [
      "1\n",
      "2\n",
      "3\n",
      "4\n",
      "5\n",
      "6\n",
      "7\n",
      "8\n"
     ]
    }
   ],
   "source": [
    "x=1\n",
    "while (x<11):\n",
    "    if(x==8):\n",
    "        print(x)\n",
    "        break\n",
    "    else:\n",
    "        print(x)\n",
    "        x=x+1\n",
    "    "
   ]
  },
  {
   "cell_type": "code",
   "execution_count": null,
   "id": "46af39f9",
   "metadata": {},
   "outputs": [],
   "source": [
    "#Continue- print only odd numbers between 1-10"
   ]
  },
  {
   "cell_type": "code",
   "execution_count": 11,
   "id": "948ef6d0",
   "metadata": {},
   "outputs": [
    {
     "name": "stdout",
     "output_type": "stream",
     "text": [
      "1\n",
      "3\n",
      "5\n",
      "7\n",
      "9\n",
      "11\n"
     ]
    }
   ],
   "source": [
    "x=0\n",
    "while (x<11):\n",
    "    x=x+1\n",
    "    if(x%2==0):\n",
    "        continue\n",
    "    print(x)"
   ]
  },
  {
   "cell_type": "code",
   "execution_count": null,
   "id": "d24712cc",
   "metadata": {},
   "outputs": [],
   "source": [
    "#For loop"
   ]
  },
  {
   "cell_type": "code",
   "execution_count": null,
   "id": "d8db1fd6",
   "metadata": {},
   "outputs": [],
   "source": [
    "#for loop with string"
   ]
  },
  {
   "cell_type": "code",
   "execution_count": 12,
   "id": "6547afbe",
   "metadata": {},
   "outputs": [],
   "source": [
    "a=\"Jyuru\""
   ]
  },
  {
   "cell_type": "code",
   "execution_count": 13,
   "id": "1a458451",
   "metadata": {},
   "outputs": [
    {
     "name": "stdout",
     "output_type": "stream",
     "text": [
      "J\n",
      "y\n",
      "u\n",
      "r\n",
      "u\n"
     ]
    }
   ],
   "source": [
    "for i in a:\n",
    "    print(i)"
   ]
  },
  {
   "cell_type": "code",
   "execution_count": null,
   "id": "8f78f79b",
   "metadata": {},
   "outputs": [],
   "source": [
    "#looping over list"
   ]
  },
  {
   "cell_type": "code",
   "execution_count": 14,
   "id": "53f127d7",
   "metadata": {},
   "outputs": [],
   "source": [
    "a=[1,2,3,4,5,6]"
   ]
  },
  {
   "cell_type": "code",
   "execution_count": 15,
   "id": "81d1b9f7",
   "metadata": {},
   "outputs": [
    {
     "name": "stdout",
     "output_type": "stream",
     "text": [
      "1\n",
      "2\n",
      "3\n",
      "4\n",
      "5\n",
      "6\n"
     ]
    }
   ],
   "source": [
    "for i in a:\n",
    "    print(i)"
   ]
  },
  {
   "cell_type": "code",
   "execution_count": null,
   "id": "1e26260f",
   "metadata": {},
   "outputs": [],
   "source": [
    "#looping over range\n",
    "# start = starting position (default value is 0)\n",
    "# stop = end position(exclusive) (default value is end position)\n",
    "# step = step size or increment size (default value is 1)\n",
    "\n",
    "# range(10) -> 10 is the stop parameter\n",
    "# range(1,10) -> 1 is start,10 is stop\n",
    "# range(1,10,2) -> 1 is start,10 is stop,2 is step"
   ]
  },
  {
   "cell_type": "code",
   "execution_count": 16,
   "id": "0c05219f",
   "metadata": {},
   "outputs": [
    {
     "name": "stdout",
     "output_type": "stream",
     "text": [
      "0\n",
      "1\n",
      "2\n",
      "3\n",
      "4\n",
      "5\n",
      "6\n",
      "7\n",
      "8\n",
      "9\n",
      "10\n",
      "11\n",
      "12\n",
      "13\n",
      "14\n",
      "15\n",
      "16\n",
      "17\n",
      "18\n",
      "19\n"
     ]
    }
   ],
   "source": [
    "for i in range(20):\n",
    "    print (i)"
   ]
  },
  {
   "cell_type": "code",
   "execution_count": 19,
   "id": "4cd47668",
   "metadata": {},
   "outputs": [
    {
     "name": "stdout",
     "output_type": "stream",
     "text": [
      "1\n",
      "2\n",
      "3\n",
      "4\n",
      "5\n",
      "6\n",
      "7\n",
      "8\n",
      "9\n"
     ]
    }
   ],
   "source": [
    "for i in range(1,10):\n",
    "    print (i)"
   ]
  },
  {
   "cell_type": "code",
   "execution_count": 20,
   "id": "54e2f36d",
   "metadata": {},
   "outputs": [
    {
     "name": "stdout",
     "output_type": "stream",
     "text": [
      "1\n",
      "4\n",
      "7\n"
     ]
    }
   ],
   "source": [
    "for i in range(1,10,3):\n",
    "    print(i)"
   ]
  },
  {
   "cell_type": "code",
   "execution_count": null,
   "id": "34041460",
   "metadata": {},
   "outputs": [],
   "source": [
    "#looping in reverse order"
   ]
  },
  {
   "cell_type": "code",
   "execution_count": 22,
   "id": "32c20538",
   "metadata": {},
   "outputs": [
    {
     "name": "stdout",
     "output_type": "stream",
     "text": [
      "15\n",
      "14\n",
      "13\n",
      "12\n",
      "11\n",
      "10\n",
      "9\n",
      "8\n",
      "7\n",
      "6\n",
      "5\n",
      "4\n",
      "3\n",
      "2\n",
      "1\n"
     ]
    }
   ],
   "source": [
    "for i in range(15,0,-1):\n",
    "    print(i)"
   ]
  },
  {
   "cell_type": "code",
   "execution_count": null,
   "id": "89d2287e",
   "metadata": {},
   "outputs": [],
   "source": [
    "#using break in for loops"
   ]
  },
  {
   "cell_type": "code",
   "execution_count": 24,
   "id": "bd165881",
   "metadata": {},
   "outputs": [
    {
     "name": "stdout",
     "output_type": "stream",
     "text": [
      "0\n",
      "1\n",
      "2\n",
      "3\n",
      "4\n",
      "5\n"
     ]
    }
   ],
   "source": [
    "for i in range (10):\n",
    "    if(i==6):\n",
    "        break\n",
    "    print(i)"
   ]
  },
  {
   "cell_type": "code",
   "execution_count": 25,
   "id": "308b2218",
   "metadata": {},
   "outputs": [],
   "source": [
    "#using continue in for loops"
   ]
  },
  {
   "cell_type": "code",
   "execution_count": 26,
   "id": "123acbb3",
   "metadata": {},
   "outputs": [
    {
     "name": "stdout",
     "output_type": "stream",
     "text": [
      "1\n",
      "3\n",
      "5\n",
      "7\n",
      "9\n",
      "11\n",
      "13\n",
      "15\n",
      "17\n",
      "19\n"
     ]
    }
   ],
   "source": [
    "for i in range(20):\n",
    "    if (i%2==0):\n",
    "        continue\n",
    "    print(i)"
   ]
  },
  {
   "cell_type": "code",
   "execution_count": 27,
   "id": "008f41dc",
   "metadata": {},
   "outputs": [
    {
     "name": "stdout",
     "output_type": "stream",
     "text": [
      "0\n",
      "1\n",
      "2\n",
      "4\n",
      "5\n",
      "6\n",
      "7\n",
      "8\n",
      "10\n",
      "11\n",
      "12\n",
      "14\n",
      "15\n",
      "16\n",
      "18\n",
      "19\n"
     ]
    }
   ],
   "source": [
    "for i in range(20):\n",
    "    if (i==3 or i==9 or i==13 or i ==17):\n",
    "        continue\n",
    "    print(i)"
   ]
  },
  {
   "cell_type": "code",
   "execution_count": 32,
   "id": "4e0c0b1b",
   "metadata": {},
   "outputs": [
    {
     "name": "stdout",
     "output_type": "stream",
     "text": [
      "0\n",
      "1\n",
      "2\n",
      "3\n",
      "4\n",
      "5\n",
      "6\n",
      "7\n",
      "8\n",
      "9\n",
      "10\n",
      "11\n",
      "12\n",
      "13\n",
      "14\n",
      "15\n",
      "16\n",
      "17\n",
      "18\n",
      "19\n"
     ]
    }
   ],
   "source": [
    "for i in range(20):\n",
    "    if (i>4):\n",
    "        pass\n",
    "    print(i)"
   ]
  }
 ],
 "metadata": {
  "kernelspec": {
   "display_name": "Python 3",
   "language": "python",
   "name": "python3"
  },
  "language_info": {
   "codemirror_mode": {
    "name": "ipython",
    "version": 3
   },
   "file_extension": ".py",
   "mimetype": "text/x-python",
   "name": "python",
   "nbconvert_exporter": "python",
   "pygments_lexer": "ipython3",
   "version": "3.8.8"
  }
 },
 "nbformat": 4,
 "nbformat_minor": 5
}
