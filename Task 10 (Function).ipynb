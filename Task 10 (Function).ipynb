{
 "cells": [
  {
   "cell_type": "code",
   "execution_count": null,
   "id": "7585b33b",
   "metadata": {},
   "outputs": [],
   "source": [
    "#task"
   ]
  },
  {
   "cell_type": "code",
   "execution_count": null,
   "id": "1ff052fd",
   "metadata": {},
   "outputs": [],
   "source": [
    "#Explain Return keyword with example"
   ]
  },
  {
   "cell_type": "code",
   "execution_count": null,
   "id": "3bcd486f",
   "metadata": {},
   "outputs": [],
   "source": [
    "#Return-exit a function and return a value"
   ]
  },
  {
   "cell_type": "code",
   "execution_count": 62,
   "id": "0f5dac3e",
   "metadata": {},
   "outputs": [
    {
     "name": "stdout",
     "output_type": "stream",
     "text": [
      "20\n"
     ]
    }
   ],
   "source": [
    "a=4\n",
    "b=5\n",
    "def mf_1():\n",
    "    return (a*b)\n",
    "    print ('print this line')#This line is not executed\n",
    "    \n",
    "print(mf_1())"
   ]
  },
  {
   "cell_type": "code",
   "execution_count": null,
   "id": "0dc664ef",
   "metadata": {},
   "outputs": [],
   "source": [
    "#Ask 2 numbers from users and store it in num1 and num2\n",
    "#Ask user to press 1 for addition,2 for subtraction,3 for multiplication and 4 for division\n",
    "#create 4 seperate functions for each operation (i.e. addition,subtraction,multiplication and division)\n",
    "#based on number given by user,call that perticular function and print the output"
   ]
  },
  {
   "cell_type": "code",
   "execution_count": 40,
   "id": "b697b4d6",
   "metadata": {},
   "outputs": [
    {
     "name": "stdout",
     "output_type": "stream",
     "text": [
      "num1:8\n",
      "num2:4\n",
      "press  1 for addition | 2 for subtraction | 3 for multiplication | 4 for division\n",
      "Give your input here:5\n",
      "Invalid selection\n"
     ]
    }
   ],
   "source": [
    "x= float(input('num1:'))\n",
    "y= float(input('num2:'))\n",
    "print('press  1 for addition | 2 for subtraction | 3 for multiplication | 4 for division')\n",
    "z= int(input('Give your input here:'))\n",
    "\n",
    "def add (x,y):\n",
    "    a=x+y\n",
    "    return(a)\n",
    "\n",
    "def sub (x,y):\n",
    "    b=x-y\n",
    "    return(b)\n",
    "    \n",
    "def mul (x,y):\n",
    "    c=x*y\n",
    "    return(c)\n",
    "    \n",
    "def div (x,y):\n",
    "    d=x/y\n",
    "    return(d)\n",
    "\n",
    "if z==1:\n",
    "    print(add (x,y))\n",
    "elif z==2:\n",
    "    print(sub (x,y))\n",
    "elif z==3:\n",
    "    print(mul (x,y))\n",
    "elif z==4:\n",
    "    print(div (x,y))\n",
    "else:\n",
    "    print('Invalid selection')\n",
    "\n",
    "\n",
    "\n"
   ]
  },
  {
   "cell_type": "code",
   "execution_count": null,
   "id": "6be54437",
   "metadata": {},
   "outputs": [],
   "source": []
  },
  {
   "cell_type": "code",
   "execution_count": null,
   "id": "866db0bf",
   "metadata": {},
   "outputs": [],
   "source": []
  },
  {
   "cell_type": "code",
   "execution_count": null,
   "id": "c5b0afe9",
   "metadata": {},
   "outputs": [],
   "source": []
  },
  {
   "cell_type": "code",
   "execution_count": null,
   "id": "c407593f",
   "metadata": {},
   "outputs": [],
   "source": []
  },
  {
   "cell_type": "code",
   "execution_count": null,
   "id": "b3ec3ed0",
   "metadata": {},
   "outputs": [],
   "source": []
  },
  {
   "cell_type": "code",
   "execution_count": null,
   "id": "a786d40c",
   "metadata": {},
   "outputs": [],
   "source": []
  },
  {
   "cell_type": "code",
   "execution_count": null,
   "id": "40979d94",
   "metadata": {},
   "outputs": [],
   "source": []
  },
  {
   "cell_type": "code",
   "execution_count": null,
   "id": "4d3bebf5",
   "metadata": {},
   "outputs": [],
   "source": []
  },
  {
   "cell_type": "code",
   "execution_count": null,
   "id": "bdac1a30",
   "metadata": {},
   "outputs": [],
   "source": []
  },
  {
   "cell_type": "code",
   "execution_count": null,
   "id": "95a417fe",
   "metadata": {},
   "outputs": [],
   "source": []
  },
  {
   "cell_type": "code",
   "execution_count": null,
   "id": "9ddcd426",
   "metadata": {},
   "outputs": [],
   "source": []
  },
  {
   "cell_type": "code",
   "execution_count": null,
   "id": "5c35f187",
   "metadata": {},
   "outputs": [],
   "source": []
  },
  {
   "cell_type": "code",
   "execution_count": null,
   "id": "ee206bce",
   "metadata": {},
   "outputs": [],
   "source": []
  }
 ],
 "metadata": {
  "kernelspec": {
   "display_name": "Python 3",
   "language": "python",
   "name": "python3"
  },
  "language_info": {
   "codemirror_mode": {
    "name": "ipython",
    "version": 3
   },
   "file_extension": ".py",
   "mimetype": "text/x-python",
   "name": "python",
   "nbconvert_exporter": "python",
   "pygments_lexer": "ipython3",
   "version": "3.8.8"
  }
 },
 "nbformat": 4,
 "nbformat_minor": 5
}
